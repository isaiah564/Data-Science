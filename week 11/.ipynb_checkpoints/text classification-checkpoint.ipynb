{
 "cells": [
  {
   "cell_type": "code",
   "execution_count": 1,
   "id": "1b621f87-7fab-40f8-9e5b-2966b67fb9cf",
   "metadata": {},
   "outputs": [],
   "source": [
    "import pandas as pd\n",
    "import numpy as np\n",
    "import nltk\n",
    "from nltk import word_tokenize"
   ]
  },
  {
   "cell_type": "code",
   "execution_count": 3,
   "id": "5706c14a",
   "metadata": {},
   "outputs": [],
   "source": [
    "review_1='the movie was good i loved it'\n",
    "review_2='the movie was good but the ending was boring'\n",
    "review_3='we did not like the movie to lenghty'"
   ]
  },
  {
   "cell_type": "code",
   "execution_count": 4,
   "id": "33173de4-b175-47c0-a5a4-27cd4174ab3a",
   "metadata": {},
   "outputs": [
    {
     "name": "stdout",
     "output_type": "stream",
     "text": [
      "['the', 'movie', 'was', 'good', 'i', 'loved', 'it']\n",
      "['the', 'movie', 'was', 'good', 'but', 'the', 'ending', 'was', 'boring']\n",
      "['we', 'did', 'not', 'like', 'the', 'movie', 'to', 'lenghty']\n"
     ]
    }
   ],
   "source": [
    "review_1_tokens=word_tokenize(review_1)\n",
    "review_2_tokens=word_tokenize(review_2)\n",
    "review_3_tokens=word_tokenize(review_3)\n",
    "print(review_1_tokens)\n",
    "print(review_2_tokens)\n",
    "print(review_3_tokens)"
   ]
  },
  {
   "cell_type": "code",
   "execution_count": 5,
   "id": "7a7bdf1f-3a99-42b9-9617-647e0097bc65",
   "metadata": {},
   "outputs": [
    {
     "name": "stdout",
     "output_type": "stream",
     "text": [
      "{'movie', 'lenghty', 'good', 'to', 'did', 'ending', 'like', 'it', 'but', 'boring', 'i', 'the', 'loved', 'not', 'was', 'we'}\n"
     ]
    }
   ],
   "source": [
    "review_tokens=set(review_1_tokens).union(set(review_2_tokens)).union(set(review_3_tokens))\n",
    "print(review_tokens)"
   ]
  },
  {
   "cell_type": "code",
   "execution_count": 6,
   "id": "71571149-03f8-45d8-96e0-dbe4df2d2830",
   "metadata": {},
   "outputs": [
    {
     "data": {
      "text/plain": [
       "16"
      ]
     },
     "execution_count": 6,
     "metadata": {},
     "output_type": "execute_result"
    }
   ],
   "source": [
    "len(review_tokens)"
   ]
  },
  {
   "cell_type": "code",
   "execution_count": 7,
   "id": "18c4cf37-082a-4895-94c6-024d6fa1dae0",
   "metadata": {},
   "outputs": [],
   "source": [
    "review_dict=dict.fromkeys(review_tokens,0)"
   ]
  },
  {
   "cell_type": "code",
   "execution_count": 9,
   "id": "72826c77-6908-4990-8221-b42621d65e09",
   "metadata": {},
   "outputs": [
    {
     "data": {
      "text/plain": [
       "{'movie': 0,\n",
       " 'lenghty': 0,\n",
       " 'good': 0,\n",
       " 'to': 0,\n",
       " 'did': 0,\n",
       " 'ending': 0,\n",
       " 'like': 0,\n",
       " 'it': 0,\n",
       " 'but': 0,\n",
       " 'boring': 0,\n",
       " 'i': 0,\n",
       " 'the': 0,\n",
       " 'loved': 0,\n",
       " 'not': 0,\n",
       " 'was': 0,\n",
       " 'we': 0}"
      ]
     },
     "execution_count": 9,
     "metadata": {},
     "output_type": "execute_result"
    }
   ],
   "source": [
    "review_dict"
   ]
  },
  {
   "cell_type": "code",
   "execution_count": 10,
   "id": "3e404dcc-0b10-4dd4-ba66-3d65c0529562",
   "metadata": {},
   "outputs": [
    {
     "data": {
      "text/plain": [
       "{'movie': 0,\n",
       " 'lenghty': 0,\n",
       " 'good': 0,\n",
       " 'to': 0,\n",
       " 'did': 0,\n",
       " 'ending': 0,\n",
       " 'like': 0,\n",
       " 'it': 0,\n",
       " 'but': 0,\n",
       " 'boring': 0,\n",
       " 'i': 0,\n",
       " 'the': 0,\n",
       " 'loved': 0,\n",
       " 'not': 0,\n",
       " 'was': 0,\n",
       " 'we': 0}"
      ]
     },
     "execution_count": 10,
     "metadata": {},
     "output_type": "execute_result"
    }
   ],
   "source": [
    "review1_dict=dict.fromkeys(review_tokens,0)\n",
    "review2_dict=dict.fromkeys(review_tokens,0)\n",
    "review3_dict=dict.fromkeys(review_tokens,0)\n",
    "review1_dict"
   ]
  },
  {
   "cell_type": "code",
   "execution_count": 12,
   "id": "9f9ac035-6ad9-441c-bb61-2d88b0955f3f",
   "metadata": {},
   "outputs": [],
   "source": [
    "for token in review_1_tokens:\n",
    "    review1_dict[token]+=1"
   ]
  },
  {
   "cell_type": "code",
   "execution_count": 13,
   "id": "096f0553-4c10-4ebb-a628-02a664f5df10",
   "metadata": {},
   "outputs": [
    {
     "data": {
      "text/plain": [
       "{'movie': 1,\n",
       " 'lenghty': 0,\n",
       " 'good': 1,\n",
       " 'to': 0,\n",
       " 'did': 0,\n",
       " 'ending': 0,\n",
       " 'like': 0,\n",
       " 'it': 1,\n",
       " 'but': 0,\n",
       " 'boring': 0,\n",
       " 'i': 1,\n",
       " 'the': 1,\n",
       " 'loved': 1,\n",
       " 'not': 0,\n",
       " 'was': 1,\n",
       " 'we': 0}"
      ]
     },
     "execution_count": 13,
     "metadata": {},
     "output_type": "execute_result"
    }
   ],
   "source": [
    "review1_dict"
   ]
  },
  {
   "cell_type": "code",
   "execution_count": 15,
   "id": "e0bd3bec-00eb-4121-baf3-b7706245965b",
   "metadata": {},
   "outputs": [],
   "source": [
    "for token in review_2_tokens:\n",
    "    review2_dict[token]+=1\n",
    "    \n",
    "for token in review_3_tokens:\n",
    "    review3_dict[token]+=1"
   ]
  },
  {
   "cell_type": "code",
   "execution_count": 16,
   "id": "79a603b7-b9a8-4274-8b51-fbb96c85d9e8",
   "metadata": {},
   "outputs": [],
   "source": [
    "review_dict_df=pd.DataFrame([review1_dict,review2_dict,review3_dict])"
   ]
  },
  {
   "cell_type": "code",
   "execution_count": 17,
   "id": "1d457008-dd43-4d8b-a594-42677c5bd452",
   "metadata": {},
   "outputs": [
    {
     "data": {
      "text/html": [
       "<div>\n",
       "<style scoped>\n",
       "    .dataframe tbody tr th:only-of-type {\n",
       "        vertical-align: middle;\n",
       "    }\n",
       "\n",
       "    .dataframe tbody tr th {\n",
       "        vertical-align: top;\n",
       "    }\n",
       "\n",
       "    .dataframe thead th {\n",
       "        text-align: right;\n",
       "    }\n",
       "</style>\n",
       "<table border=\"1\" class=\"dataframe\">\n",
       "  <thead>\n",
       "    <tr style=\"text-align: right;\">\n",
       "      <th></th>\n",
       "      <th>movie</th>\n",
       "      <th>lenghty</th>\n",
       "      <th>good</th>\n",
       "      <th>to</th>\n",
       "      <th>did</th>\n",
       "      <th>ending</th>\n",
       "      <th>like</th>\n",
       "      <th>it</th>\n",
       "      <th>but</th>\n",
       "      <th>boring</th>\n",
       "      <th>i</th>\n",
       "      <th>the</th>\n",
       "      <th>loved</th>\n",
       "      <th>not</th>\n",
       "      <th>was</th>\n",
       "      <th>we</th>\n",
       "    </tr>\n",
       "  </thead>\n",
       "  <tbody>\n",
       "    <tr>\n",
       "      <th>0</th>\n",
       "      <td>1</td>\n",
       "      <td>0</td>\n",
       "      <td>1</td>\n",
       "      <td>0</td>\n",
       "      <td>0</td>\n",
       "      <td>0</td>\n",
       "      <td>0</td>\n",
       "      <td>1</td>\n",
       "      <td>0</td>\n",
       "      <td>0</td>\n",
       "      <td>1</td>\n",
       "      <td>1</td>\n",
       "      <td>1</td>\n",
       "      <td>0</td>\n",
       "      <td>1</td>\n",
       "      <td>0</td>\n",
       "    </tr>\n",
       "    <tr>\n",
       "      <th>1</th>\n",
       "      <td>2</td>\n",
       "      <td>0</td>\n",
       "      <td>2</td>\n",
       "      <td>0</td>\n",
       "      <td>0</td>\n",
       "      <td>2</td>\n",
       "      <td>0</td>\n",
       "      <td>0</td>\n",
       "      <td>2</td>\n",
       "      <td>2</td>\n",
       "      <td>0</td>\n",
       "      <td>4</td>\n",
       "      <td>0</td>\n",
       "      <td>0</td>\n",
       "      <td>4</td>\n",
       "      <td>0</td>\n",
       "    </tr>\n",
       "    <tr>\n",
       "      <th>2</th>\n",
       "      <td>1</td>\n",
       "      <td>1</td>\n",
       "      <td>0</td>\n",
       "      <td>1</td>\n",
       "      <td>1</td>\n",
       "      <td>0</td>\n",
       "      <td>1</td>\n",
       "      <td>0</td>\n",
       "      <td>0</td>\n",
       "      <td>0</td>\n",
       "      <td>0</td>\n",
       "      <td>1</td>\n",
       "      <td>0</td>\n",
       "      <td>1</td>\n",
       "      <td>0</td>\n",
       "      <td>1</td>\n",
       "    </tr>\n",
       "  </tbody>\n",
       "</table>\n",
       "</div>"
      ],
      "text/plain": [
       "   movie  lenghty  good  to  did  ending  like  it  but  boring  i  the  \\\n",
       "0      1        0     1   0    0       0     0   1    0       0  1    1   \n",
       "1      2        0     2   0    0       2     0   0    2       2  0    4   \n",
       "2      1        1     0   1    1       0     1   0    0       0  0    1   \n",
       "\n",
       "   loved  not  was  we  \n",
       "0      1    0    1   0  \n",
       "1      0    0    4   0  \n",
       "2      0    1    0   1  "
      ]
     },
     "execution_count": 17,
     "metadata": {},
     "output_type": "execute_result"
    }
   ],
   "source": [
    "review_dict_df"
   ]
  },
  {
   "cell_type": "code",
   "execution_count": 18,
   "id": "4984d827-5118-47a0-a214-5d8617f416bd",
   "metadata": {},
   "outputs": [],
   "source": [
    "from sklearn.feature_extraction.text import CountVectorizer"
   ]
  },
  {
   "cell_type": "code",
   "execution_count": 19,
   "id": "8349086a-bf7c-4c1e-a357-dbf06d2ee200",
   "metadata": {},
   "outputs": [
    {
     "data": {
      "text/plain": [
       "['the movie was good i loved it',\n",
       " 'the movie was good but the ending was boring',\n",
       " 'we did not like the movie to lenghty']"
      ]
     },
     "execution_count": 19,
     "metadata": {},
     "output_type": "execute_result"
    }
   ],
   "source": [
    "review_list=[review_1,review_2,review_3]\n",
    "review_list"
   ]
  },
  {
   "cell_type": "code",
   "execution_count": 23,
   "id": "c8fa1706-bdd0-4dfe-92ea-9f891f43d5fc",
   "metadata": {},
   "outputs": [
    {
     "data": {
      "text/plain": [
       "array([[0, 0, 0, 0, 1, 1, 0, 0, 1, 1, 0, 1, 0, 1, 0],\n",
       "       [1, 1, 0, 1, 1, 0, 0, 0, 0, 1, 0, 2, 0, 2, 0],\n",
       "       [0, 0, 1, 0, 0, 0, 1, 1, 0, 1, 1, 1, 1, 0, 1]], dtype=int64)"
      ]
     },
     "execution_count": 23,
     "metadata": {},
     "output_type": "execute_result"
    }
   ],
   "source": [
    "count_vect=CountVectorizer()\n",
    "X_counts=count_vect.fit_transform(review_list)\n",
    "X_counts.toarray()"
   ]
  },
  {
   "cell_type": "code",
   "execution_count": 24,
   "id": "0e871841-e535-4283-a2c3-a178c3a0f57f",
   "metadata": {},
   "outputs": [
    {
     "data": {
      "text/plain": [
       "scipy.sparse._csr.csr_matrix"
      ]
     },
     "execution_count": 24,
     "metadata": {},
     "output_type": "execute_result"
    }
   ],
   "source": [
    "type(X_counts)"
   ]
  },
  {
   "cell_type": "code",
   "execution_count": 26,
   "id": "6673d161-2138-459a-803a-c1cfa50ee1bb",
   "metadata": {},
   "outputs": [
    {
     "data": {
      "text/plain": [
       "array(['boring', 'but', 'did', 'ending', 'good', 'it', 'lenghty', 'like',\n",
       "       'loved', 'movie', 'not', 'the', 'to', 'was', 'we'], dtype=object)"
      ]
     },
     "execution_count": 26,
     "metadata": {},
     "output_type": "execute_result"
    }
   ],
   "source": [
    "x_names=count_vect.get_feature_names_out()\n",
    "x_names"
   ]
  },
  {
   "cell_type": "code",
   "execution_count": 28,
   "id": "f3c446f3-84a1-41ff-a762-c0fa0c453dbb",
   "metadata": {},
   "outputs": [],
   "source": [
    "a=pd.DataFrame(X_counts.toarray(),columns=x_names)"
   ]
  },
  {
   "cell_type": "code",
   "execution_count": 29,
   "id": "85f32d7a-9b24-4526-806e-b9309c4d8352",
   "metadata": {},
   "outputs": [
    {
     "data": {
      "text/html": [
       "<div>\n",
       "<style scoped>\n",
       "    .dataframe tbody tr th:only-of-type {\n",
       "        vertical-align: middle;\n",
       "    }\n",
       "\n",
       "    .dataframe tbody tr th {\n",
       "        vertical-align: top;\n",
       "    }\n",
       "\n",
       "    .dataframe thead th {\n",
       "        text-align: right;\n",
       "    }\n",
       "</style>\n",
       "<table border=\"1\" class=\"dataframe\">\n",
       "  <thead>\n",
       "    <tr style=\"text-align: right;\">\n",
       "      <th></th>\n",
       "      <th>boring</th>\n",
       "      <th>but</th>\n",
       "      <th>did</th>\n",
       "      <th>ending</th>\n",
       "      <th>good</th>\n",
       "      <th>it</th>\n",
       "      <th>lenghty</th>\n",
       "      <th>like</th>\n",
       "      <th>loved</th>\n",
       "      <th>movie</th>\n",
       "      <th>not</th>\n",
       "      <th>the</th>\n",
       "      <th>to</th>\n",
       "      <th>was</th>\n",
       "      <th>we</th>\n",
       "    </tr>\n",
       "  </thead>\n",
       "  <tbody>\n",
       "    <tr>\n",
       "      <th>0</th>\n",
       "      <td>0</td>\n",
       "      <td>0</td>\n",
       "      <td>0</td>\n",
       "      <td>0</td>\n",
       "      <td>1</td>\n",
       "      <td>1</td>\n",
       "      <td>0</td>\n",
       "      <td>0</td>\n",
       "      <td>1</td>\n",
       "      <td>1</td>\n",
       "      <td>0</td>\n",
       "      <td>1</td>\n",
       "      <td>0</td>\n",
       "      <td>1</td>\n",
       "      <td>0</td>\n",
       "    </tr>\n",
       "    <tr>\n",
       "      <th>1</th>\n",
       "      <td>1</td>\n",
       "      <td>1</td>\n",
       "      <td>0</td>\n",
       "      <td>1</td>\n",
       "      <td>1</td>\n",
       "      <td>0</td>\n",
       "      <td>0</td>\n",
       "      <td>0</td>\n",
       "      <td>0</td>\n",
       "      <td>1</td>\n",
       "      <td>0</td>\n",
       "      <td>2</td>\n",
       "      <td>0</td>\n",
       "      <td>2</td>\n",
       "      <td>0</td>\n",
       "    </tr>\n",
       "    <tr>\n",
       "      <th>2</th>\n",
       "      <td>0</td>\n",
       "      <td>0</td>\n",
       "      <td>1</td>\n",
       "      <td>0</td>\n",
       "      <td>0</td>\n",
       "      <td>0</td>\n",
       "      <td>1</td>\n",
       "      <td>1</td>\n",
       "      <td>0</td>\n",
       "      <td>1</td>\n",
       "      <td>1</td>\n",
       "      <td>1</td>\n",
       "      <td>1</td>\n",
       "      <td>0</td>\n",
       "      <td>1</td>\n",
       "    </tr>\n",
       "  </tbody>\n",
       "</table>\n",
       "</div>"
      ],
      "text/plain": [
       "   boring  but  did  ending  good  it  lenghty  like  loved  movie  not  the  \\\n",
       "0       0    0    0       0     1   1        0     0      1      1    0    1   \n",
       "1       1    1    0       1     1   0        0     0      0      1    0    2   \n",
       "2       0    0    1       0     0   0        1     1      0      1    1    1   \n",
       "\n",
       "   to  was  we  \n",
       "0   0    1   0  \n",
       "1   0    2   0  \n",
       "2   1    0   1  "
      ]
     },
     "execution_count": 29,
     "metadata": {},
     "output_type": "execute_result"
    }
   ],
   "source": [
    "a"
   ]
  },
  {
   "cell_type": "code",
   "execution_count": 30,
   "id": "9c05a6c2-594b-47de-a6ca-63c6c9aa8c6f",
   "metadata": {},
   "outputs": [],
   "source": [
    "from sklearn.feature_extraction.text import TfidfVectorizer"
   ]
  },
  {
   "cell_type": "code",
   "execution_count": 31,
   "id": "fbba959c-f393-4871-b949-e85766a72bdd",
   "metadata": {},
   "outputs": [],
   "source": [
    "tf_vect=TfidfVectorizer(min_df=1,lowercase=True,stop_words='english')"
   ]
  },
  {
   "cell_type": "code",
   "execution_count": 32,
   "id": "c90af665-a322-4cd3-8333-b3859875e467",
   "metadata": {},
   "outputs": [],
   "source": [
    "tf_matrix=tf_vect.fit_transform(review_list)"
   ]
  },
  {
   "cell_type": "code",
   "execution_count": 33,
   "id": "722e938f-e6eb-4683-bc4a-3b7907273de3",
   "metadata": {},
   "outputs": [
    {
     "data": {
      "text/plain": [
       "scipy.sparse._csr.csr_matrix"
      ]
     },
     "execution_count": 33,
     "metadata": {},
     "output_type": "execute_result"
    }
   ],
   "source": [
    "type(tf_matrix)"
   ]
  },
  {
   "cell_type": "code",
   "execution_count": 34,
   "id": "130a383e-2646-4890-bc39-a8cc79955012",
   "metadata": {},
   "outputs": [
    {
     "data": {
      "text/plain": [
       "(3, 8)"
      ]
     },
     "execution_count": 34,
     "metadata": {},
     "output_type": "execute_result"
    }
   ],
   "source": [
    "tf_matrix.shape"
   ]
  },
  {
   "cell_type": "code",
   "execution_count": 35,
   "id": "2c0da63c-fedf-4f92-a5ea-653ae4ae93c8",
   "metadata": {},
   "outputs": [],
   "source": [
    "tf_names=tf_vect.get_feature_names_out()"
   ]
  },
  {
   "cell_type": "code",
   "execution_count": 36,
   "id": "efee293a-8eaa-4439-a7c1-36d4efb17f96",
   "metadata": {},
   "outputs": [
    {
     "data": {
      "text/plain": [
       "array(['boring', 'did', 'ending', 'good', 'lenghty', 'like', 'loved',\n",
       "       'movie'], dtype=object)"
      ]
     },
     "execution_count": 36,
     "metadata": {},
     "output_type": "execute_result"
    }
   ],
   "source": [
    "tf_names"
   ]
  },
  {
   "cell_type": "code",
   "execution_count": 38,
   "id": "dc5415e7-9f07-4025-8554-ee1b1295a815",
   "metadata": {},
   "outputs": [],
   "source": [
    "tf_df=pd.DataFrame(tf_matrix.toarray(),columns=tf_names)"
   ]
  },
  {
   "cell_type": "code",
   "execution_count": 39,
   "id": "d9b38ff5-f4a3-41ca-b9a8-c25f4f79cb82",
   "metadata": {},
   "outputs": [
    {
     "data": {
      "text/html": [
       "<div>\n",
       "<style scoped>\n",
       "    .dataframe tbody tr th:only-of-type {\n",
       "        vertical-align: middle;\n",
       "    }\n",
       "\n",
       "    .dataframe tbody tr th {\n",
       "        vertical-align: top;\n",
       "    }\n",
       "\n",
       "    .dataframe thead th {\n",
       "        text-align: right;\n",
       "    }\n",
       "</style>\n",
       "<table border=\"1\" class=\"dataframe\">\n",
       "  <thead>\n",
       "    <tr style=\"text-align: right;\">\n",
       "      <th></th>\n",
       "      <th>boring</th>\n",
       "      <th>did</th>\n",
       "      <th>ending</th>\n",
       "      <th>good</th>\n",
       "      <th>lenghty</th>\n",
       "      <th>like</th>\n",
       "      <th>loved</th>\n",
       "      <th>movie</th>\n",
       "    </tr>\n",
       "  </thead>\n",
       "  <tbody>\n",
       "    <tr>\n",
       "      <th>0</th>\n",
       "      <td>0.000000</td>\n",
       "      <td>0.000000</td>\n",
       "      <td>0.000000</td>\n",
       "      <td>0.547832</td>\n",
       "      <td>0.000000</td>\n",
       "      <td>0.000000</td>\n",
       "      <td>0.720333</td>\n",
       "      <td>0.425441</td>\n",
       "    </tr>\n",
       "    <tr>\n",
       "      <th>1</th>\n",
       "      <td>0.584483</td>\n",
       "      <td>0.000000</td>\n",
       "      <td>0.584483</td>\n",
       "      <td>0.444514</td>\n",
       "      <td>0.000000</td>\n",
       "      <td>0.000000</td>\n",
       "      <td>0.000000</td>\n",
       "      <td>0.345205</td>\n",
       "    </tr>\n",
       "    <tr>\n",
       "      <th>2</th>\n",
       "      <td>0.000000</td>\n",
       "      <td>0.546454</td>\n",
       "      <td>0.000000</td>\n",
       "      <td>0.000000</td>\n",
       "      <td>0.546454</td>\n",
       "      <td>0.546454</td>\n",
       "      <td>0.000000</td>\n",
       "      <td>0.322745</td>\n",
       "    </tr>\n",
       "  </tbody>\n",
       "</table>\n",
       "</div>"
      ],
      "text/plain": [
       "     boring       did    ending      good   lenghty      like     loved  \\\n",
       "0  0.000000  0.000000  0.000000  0.547832  0.000000  0.000000  0.720333   \n",
       "1  0.584483  0.000000  0.584483  0.444514  0.000000  0.000000  0.000000   \n",
       "2  0.000000  0.546454  0.000000  0.000000  0.546454  0.546454  0.000000   \n",
       "\n",
       "      movie  \n",
       "0  0.425441  \n",
       "1  0.345205  \n",
       "2  0.322745  "
      ]
     },
     "execution_count": 39,
     "metadata": {},
     "output_type": "execute_result"
    }
   ],
   "source": [
    "tf_df"
   ]
  },
  {
   "cell_type": "code",
   "execution_count": null,
   "id": "d0449d8a-cb18-4ad1-999e-ea3f059d85b2",
   "metadata": {},
   "outputs": [],
   "source": []
  }
 ],
 "metadata": {
  "kernelspec": {
   "display_name": "Python 3 (ipykernel)",
   "language": "python",
   "name": "python3"
  },
  "language_info": {
   "codemirror_mode": {
    "name": "ipython",
    "version": 3
   },
   "file_extension": ".py",
   "mimetype": "text/x-python",
   "name": "python",
   "nbconvert_exporter": "python",
   "pygments_lexer": "ipython3",
   "version": "3.10.11"
  }
 },
 "nbformat": 4,
 "nbformat_minor": 5
}
