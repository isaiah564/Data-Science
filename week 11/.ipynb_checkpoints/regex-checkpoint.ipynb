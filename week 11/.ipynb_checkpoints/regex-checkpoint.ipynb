{
 "cells": [
  {
   "cell_type": "code",
   "execution_count": 1,
   "id": "3f497919-956f-4bbb-a5d8-479f0d1192f3",
   "metadata": {},
   "outputs": [],
   "source": [
    "### first we will import the re module,which is where the python stores the regular expression libraries\n",
    "import re"
   ]
  },
  {
   "cell_type": "code",
   "execution_count": 2,
   "id": "9d717dfa-f32f-4099-93cd-d420bef55cc0",
   "metadata": {},
   "outputs": [
    {
     "name": "stdout",
     "output_type": "stream",
     "text": [
      "wonderful\n"
     ]
    }
   ],
   "source": [
    "### there are several main processing functions in re that you might use.the first,match() checks for a match\n",
    "### that is at the begining of the string and returns a boolean.similarly,search(),checks for a match\n",
    "### anywhere in the string,and returns a boolean.\n",
    "\n",
    "### lets create some text for an example\n",
    "text='this is a good day'\n",
    "\n",
    "### now,lets see if its's a good day or not:\n",
    "if re.search('good',text):## the first parameter here is the pattern\n",
    "    print('wonderful')\n",
    "else:\n",
    "    print('Alas:(')"
   ]
  },
  {
   "cell_type": "code",
   "execution_count": 3,
   "id": "58fed044-6654-4910-9e0c-a4acb257b588",
   "metadata": {},
   "outputs": [
    {
     "data": {
      "text/plain": [
       "['', ' works dilligently. ', ' gets good grades.our students ', ' succesful']"
      ]
     },
     "execution_count": 3,
     "metadata": {},
     "output_type": "execute_result"
    }
   ],
   "source": [
    "### in addtion to checking for conditionals,we can segment a string. the work that regex does here is called\n",
    "### tokenizing,where the string is seperated into subtrings based on patterns.Tokenizing is a core activity\n",
    "## in natural language processing,which we wont talk much about here but that you will study in the future\n",
    "\n",
    "## the findall() and split() functions will parse the string for us and return chunks.lets try and example\n",
    "text='Any works dilligently. Any gets good grades.our students Any succesful'\n",
    "## this is a bit of a fabricated example,but lets split this on all instances of Any\n",
    "re.split('Any',text)\n"
   ]
  },
  {
   "cell_type": "code",
   "execution_count": 4,
   "id": "595bf1d5-a233-4044-a49f-abb4c8eaee77",
   "metadata": {},
   "outputs": [
    {
     "data": {
      "text/plain": [
       "['Any', 'Any', 'Any']"
      ]
     },
     "execution_count": 4,
     "metadata": {},
     "output_type": "execute_result"
    }
   ],
   "source": [
    "re.findall('Any',text)"
   ]
  },
  {
   "cell_type": "markdown",
   "id": "7fd2d53c-8b1d-459c-8383-084f1b672567",
   "metadata": {},
   "source": [
    "### patterns and chaacter classes"
   ]
  },
  {
   "cell_type": "code",
   "execution_count": 9,
   "id": "1fa9248a-1366-4dee-bc00-40dbc7c1306b",
   "metadata": {},
   "outputs": [
    {
     "data": {
      "text/plain": [
       "['B', 'B']"
      ]
     },
     "execution_count": 9,
     "metadata": {},
     "output_type": "execute_result"
    }
   ],
   "source": [
    "grades= 'ABRACADABACCDA'\n",
    "re.findall('B',grades)"
   ]
  },
  {
   "cell_type": "code",
   "execution_count": 10,
   "id": "867df539-8814-4987-879d-7dcb4497b391",
   "metadata": {},
   "outputs": [
    {
     "data": {
      "text/plain": [
       "['A', 'B', 'A', 'A', 'A', 'B', 'A', 'A']"
      ]
     },
     "execution_count": 10,
     "metadata": {},
     "output_type": "execute_result"
    }
   ],
   "source": [
    "re.findall('[AB]',grades)"
   ]
  },
  {
   "cell_type": "code",
   "execution_count": 11,
   "id": "9539f757-7b2a-43b6-9e7a-28187db632d4",
   "metadata": {},
   "outputs": [
    {
     "data": {
      "text/plain": [
       "['AB', 'AC', 'AB', 'AC']"
      ]
     },
     "execution_count": 11,
     "metadata": {},
     "output_type": "execute_result"
    }
   ],
   "source": [
    "re.findall('[A][B-C]',grades)"
   ]
  },
  {
   "cell_type": "code",
   "execution_count": 12,
   "id": "55db2fc2-5bbb-454d-9ce2-40906de32e24",
   "metadata": {},
   "outputs": [
    {
     "data": {
      "text/plain": [
       "['AB', 'AC', 'AB', 'AC']"
      ]
     },
     "execution_count": 12,
     "metadata": {},
     "output_type": "execute_result"
    }
   ],
   "source": [
    "re.findall('AC|AB',grades)"
   ]
  },
  {
   "cell_type": "code",
   "execution_count": 13,
   "id": "56f574e6-c5bc-4b4a-85f3-f08701b3473d",
   "metadata": {},
   "outputs": [
    {
     "data": {
      "text/plain": [
       "['B', 'R', 'C', 'D', 'B', 'C', 'C', 'D']"
      ]
     },
     "execution_count": 13,
     "metadata": {},
     "output_type": "execute_result"
    }
   ],
   "source": [
    "re.findall('[^A]',grades)"
   ]
  },
  {
   "cell_type": "code",
   "execution_count": 14,
   "id": "a6029f57-a820-4c1d-b9e8-1efe9b8568a9",
   "metadata": {},
   "outputs": [
    {
     "data": {
      "text/plain": [
       "[]"
      ]
     },
     "execution_count": 14,
     "metadata": {},
     "output_type": "execute_result"
    }
   ],
   "source": [
    "re.findall('^[^A]',grades)"
   ]
  },
  {
   "cell_type": "markdown",
   "id": "bddc40f7-d9e9-4e80-b693-0f10c38cf1da",
   "metadata": {},
   "source": [
    "### quantifiers"
   ]
  },
  {
   "cell_type": "code",
   "execution_count": 17,
   "id": "a3ea03ae-708a-4c03-9cc5-f92b859b3eb5",
   "metadata": {},
   "outputs": [
    {
     "data": {
      "text/plain": [
       "['A', 'A', 'A', 'A', 'A', 'A']"
      ]
     },
     "execution_count": 17,
     "metadata": {},
     "output_type": "execute_result"
    }
   ],
   "source": [
    "re.findall('A{1,10}',grades)"
   ]
  },
  {
   "cell_type": "code",
   "execution_count": 18,
   "id": "1a9fa93e-743c-4725-b2ca-2aee00393d58",
   "metadata": {},
   "outputs": [
    {
     "data": {
      "text/plain": [
       "[]"
      ]
     },
     "execution_count": 18,
     "metadata": {},
     "output_type": "execute_result"
    }
   ],
   "source": [
    "re.findall('AA',grades)"
   ]
  },
  {
   "cell_type": "code",
   "execution_count": 22,
   "id": "0320744b-73ee-44dd-a058-56b1a09e60bc",
   "metadata": {},
   "outputs": [
    {
     "name": "stdout",
     "output_type": "stream",
     "text": [
      "{'Theon': '22', 'Gabriel': '33'}\n"
     ]
    }
   ],
   "source": [
    "NameAge='''\n",
    "janice is 22 and Theon is 33\n",
    "Gabriel is 44 and joey is 21\n",
    "'''\n",
    "\n",
    "ages=re.findall(r'\\d{1,3}',NameAge)\n",
    "names=re.findall(r'[A-Z][a-z]*',NameAge)\n",
    "\n",
    "ageDict={}\n",
    "\n",
    "\n",
    "x=0\n",
    "\n",
    "\n",
    "\n",
    "for eachname in names:\n",
    "    ageDict[eachname]=ages[x]\n",
    "    x+=1\n",
    "    \n",
    "print(ageDict)"
   ]
  },
  {
   "cell_type": "code",
   "execution_count": 23,
   "id": "b16306a9-7230-41b6-92ef-4c2e6490ad12",
   "metadata": {},
   "outputs": [
    {
     "name": "stdout",
     "output_type": "stream",
     "text": [
      "there is inform\n"
     ]
    }
   ],
   "source": [
    "if re.search('inform','we need to inform him with the latest information'):\n",
    "    print('there is inform')"
   ]
  },
  {
   "cell_type": "code",
   "execution_count": null,
   "id": "71c3cbf2-79e5-4dd2-a427-610374c4ce44",
   "metadata": {},
   "outputs": [],
   "source": []
  },
  {
   "cell_type": "code",
   "execution_count": 25,
   "id": "206b610a-7a07-453b-92a0-f6ba8db7b384",
   "metadata": {},
   "outputs": [
    {
     "name": "stdout",
     "output_type": "stream",
     "text": [
      "inform\n",
      "inform\n"
     ]
    }
   ],
   "source": [
    "allinform=re.findall('inform','we need to inform him with the latest information')\n",
    "for i in allinform:\n",
    "    print(i)"
   ]
  },
  {
   "cell_type": "code",
   "execution_count": 26,
   "id": "4ca97fed-e785-4988-a6eb-9aaccf4c32fd",
   "metadata": {},
   "outputs": [
    {
     "name": "stdout",
     "output_type": "stream",
     "text": [
      "(11, 17)\n",
      "(38, 44)\n"
     ]
    }
   ],
   "source": [
    "Str='we need to inform him withnthe latest information'\n",
    "for i in re.finditer('inform',Str):\n",
    "    locTuple=i.span()\n",
    "    print(locTuple)"
   ]
  },
  {
   "cell_type": "code",
   "execution_count": 29,
   "id": "b63598ec-f954-48e1-bb2e-2fcd7479e0d8",
   "metadata": {},
   "outputs": [
    {
     "name": "stdout",
     "output_type": "stream",
     "text": [
      "sat\n",
      "hat\n",
      "mat\n",
      "pat\n"
     ]
    }
   ],
   "source": [
    "Str='sat,hat,mat,pat'\n",
    "allstr=re.findall('[shmp]at',Str)\n",
    "for i in allstr:\n",
    "    print(i)"
   ]
  },
  {
   "cell_type": "code",
   "execution_count": 30,
   "id": "15737c9d-c872-46c2-bfaf-3e8841535714",
   "metadata": {},
   "outputs": [
    {
     "name": "stdout",
     "output_type": "stream",
     "text": [
      "hat\n",
      "mat\n"
     ]
    }
   ],
   "source": [
    "Str='sat,hat,mat,pat'\n",
    "allstr=re.findall('[h-m]at',Str)\n",
    "for i in allstr:\n",
    "    print(i)"
   ]
  },
  {
   "cell_type": "code",
   "execution_count": 31,
   "id": "22eacf81-9ff6-4b52-b9d9-d7f07401a038",
   "metadata": {},
   "outputs": [
    {
     "name": "stdout",
     "output_type": "stream",
     "text": [
      "hat food mat pat\n"
     ]
    }
   ],
   "source": [
    "food='hat rat mat pat'\n",
    "regex=re.compile('[r]at')\n",
    "food=regex.sub('food',food)\n",
    "print(food)"
   ]
  },
  {
   "cell_type": "code",
   "execution_count": null,
   "id": "f0da5fb8-1827-474a-bb15-6ecc7d12796c",
   "metadata": {},
   "outputs": [],
   "source": []
  }
 ],
 "metadata": {
  "kernelspec": {
   "display_name": "py7",
   "language": "python",
   "name": "py7"
  },
  "language_info": {
   "codemirror_mode": {
    "name": "ipython",
    "version": 3
   },
   "file_extension": ".py",
   "mimetype": "text/x-python",
   "name": "python",
   "nbconvert_exporter": "python",
   "pygments_lexer": "ipython3",
   "version": "3.9.16"
  }
 },
 "nbformat": 4,
 "nbformat_minor": 5
}
