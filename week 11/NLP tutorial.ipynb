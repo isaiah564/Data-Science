{
 "cells": [
  {
   "cell_type": "code",
   "execution_count": 21,
   "id": "4d6c6efe-1114-4170-aff5-03b59bdd98eb",
   "metadata": {},
   "outputs": [],
   "source": [
    "import os\n",
    "import nltk\n",
    "import nltk.corpus"
   ]
  },
  {
   "cell_type": "code",
   "execution_count": 22,
   "id": "9eb30bed-4c92-4b81-a9f0-e0f977a4bb38",
   "metadata": {},
   "outputs": [
    {
     "name": "stdout",
     "output_type": "stream",
     "text": [
      "['brown', 'brown.zip', 'gutenberg', 'gutenberg.zip', 'stopwords', 'stopwords.zip']\n"
     ]
    }
   ],
   "source": [
    "print(os.listdir(nltk.data.find('corpora')))"
   ]
  },
  {
   "cell_type": "code",
   "execution_count": 23,
   "id": "73513130-8f03-4dcd-a21c-051d32e940d3",
   "metadata": {},
   "outputs": [
    {
     "data": {
      "text/plain": [
       "['The', 'Fulton', 'County', 'Grand', 'Jury', 'said', ...]"
      ]
     },
     "execution_count": 23,
     "metadata": {},
     "output_type": "execute_result"
    }
   ],
   "source": [
    "from nltk.corpus import brown\n",
    "brown.words()"
   ]
  },
  {
   "cell_type": "code",
   "execution_count": 25,
   "id": "67fb3976-be30-43c1-b885-1d74ab2e2107",
   "metadata": {},
   "outputs": [
    {
     "data": {
      "text/plain": [
       "['austen-emma.txt',\n",
       " 'austen-persuasion.txt',\n",
       " 'austen-sense.txt',\n",
       " 'bible-kjv.txt',\n",
       " 'blake-poems.txt',\n",
       " 'bryant-stories.txt',\n",
       " 'burgess-busterbrown.txt',\n",
       " 'carroll-alice.txt',\n",
       " 'chesterton-ball.txt',\n",
       " 'chesterton-brown.txt',\n",
       " 'chesterton-thursday.txt',\n",
       " 'edgeworth-parents.txt',\n",
       " 'melville-moby_dick.txt',\n",
       " 'milton-paradise.txt',\n",
       " 'shakespeare-caesar.txt',\n",
       " 'shakespeare-hamlet.txt',\n",
       " 'shakespeare-macbeth.txt',\n",
       " 'whitman-leaves.txt']"
      ]
     },
     "execution_count": 25,
     "metadata": {},
     "output_type": "execute_result"
    }
   ],
   "source": [
    "nltk.corpus.gutenberg.fileids()"
   ]
  },
  {
   "cell_type": "code",
   "execution_count": 26,
   "id": "9af7372c-7680-4604-9eb8-2930333b69e0",
   "metadata": {},
   "outputs": [
    {
     "data": {
      "text/plain": [
       "['[', 'The', 'Tragedie', 'of', 'Hamlet', 'by', ...]"
      ]
     },
     "execution_count": 26,
     "metadata": {},
     "output_type": "execute_result"
    }
   ],
   "source": [
    "hamlet=nltk.corpus.gutenberg.words('shakespeare-hamlet.txt')\n",
    "hamlet"
   ]
  },
  {
   "cell_type": "code",
   "execution_count": 28,
   "id": "9ff0e58c-0fc9-42fa-b92c-d94b46002c73",
   "metadata": {},
   "outputs": [
    {
     "name": "stdout",
     "output_type": "stream",
     "text": [
      "[TheTragedieofHamletbyWilliamShakespeare1599]ActusPrimus.ScoenaPrima.EnterBarnardoandFranciscotwoCentinels.Barnardo.Who'sthere?Fran.Nayanswerme:Stand&vnfoldyourselfeBar.LongliuetheKingFran.Barnardo?Bar.HeFran.YoucomemostcarefullyvponyourhoureBar.'Tisnowstrooktwelue,gettheetobedFranciscoFran.Forthisreleefemuchthankes:'Tisbittercold,AndIamsickeatheartBarn.HaueyouhadquietGuard?Fran.NotaMousestirringBarn.Well,goodnight.IfyoudomeetHoratioandMarcellus,theRiualsofmyWatch,bidthemmakehast.EnterHoratioandMarcellus.Fran.IthinkeIhearethem.Stand:who'sthere?Hor.FriendstothisgroundMar.AndLeige-mentotheDaneFran.GiueyougoodnightMar.OfarwelhonestSoldier,whohathrelieu'dyou?Fra.Barnardoha'smyplace:giueyougoodnight.ExitFran.Mar.HollaBarnardoBar.Say,whatisHoratiothere?Hor.ApeeceofhimBar.WelcomeHoratio,welcomegoodMarcellusMar.What,ha'sthisthingappear'dagainetonightBar.IhaueseenenothingMar.Horatiosaies,'tisbutourFantasie,AndwillnotletbeleefetakeholdofhimTouchingthisdreadedsight,twiceseeneofvs,ThereforeIhaueintreatedhimalongWithvs,towatchtheminutesofthisNight,ThatifagainethisApparitioncome,Hemayapproueoureyes,andspeaketoitHor.Tush,tush,'twillnotappeareBar.Sitdownea-while,Andletvsonceagaineassaileyoureares,ThataresofortifiedagainstourStory,WhatwetwoNightshaueseeneHor.Well,sitwedowne,AndletvsheareBarnardospeakeofthisBarn.Lastnightofall,WhenyondsameStarrethat'sWestwardfromthePoleHadmadehiscourset'illumethatpartofHeauenWherenowitburnes,Marcellusandmyselfe,TheBellthenbeatingoneMar.Peace,breaketheeof:EntertheGhost.LookewhereitcomesagaineBarn.Inthesamefigure,liketheKingthat'sdeadMar.ThouartaScholler;speaketoitHoratioBarn.LookesitnotliketheKing?MarkeitHoratioHora.Mostlike:Itharrowesmewithfear&wonderBarn.ItwouldbespoketooMar.QuestionitHoratioHor.Whatart"
     ]
    }
   ],
   "source": [
    "for word in hamlet[:500]:\n",
    "    print(word,sep='',end='')"
   ]
  },
  {
   "cell_type": "code",
   "execution_count": 30,
   "id": "028aa17b-9215-49fc-a182-1d6944cb1318",
   "metadata": {},
   "outputs": [],
   "source": [
    "AI='1956 - John McCarthy coined the term artificial intelligence and had the first AI conference. 1969 - Shakey was the first general-purpose mobile robot built. It is now able to do things with a purpose vs. just a list of instructions'"
   ]
  },
  {
   "cell_type": "code",
   "execution_count": 31,
   "id": "c082073c-1717-40c4-8efc-ebe2c8e1ecfa",
   "metadata": {},
   "outputs": [
    {
     "data": {
      "text/plain": [
       "str"
      ]
     },
     "execution_count": 31,
     "metadata": {},
     "output_type": "execute_result"
    }
   ],
   "source": [
    "type(AI)"
   ]
  },
  {
   "cell_type": "code",
   "execution_count": 32,
   "id": "a1a41e8e-7b0a-48f9-aa19-41f72f2dc01c",
   "metadata": {},
   "outputs": [],
   "source": [
    "from nltk.tokenize import word_tokenize"
   ]
  },
  {
   "cell_type": "code",
   "execution_count": 36,
   "id": "d2f09b11-53f4-4ef3-be70-bef907dda1dc",
   "metadata": {},
   "outputs": [
    {
     "data": {
      "text/plain": [
       "['1956',\n",
       " '-',\n",
       " 'John',\n",
       " 'McCarthy',\n",
       " 'coined',\n",
       " 'the',\n",
       " 'term',\n",
       " 'artificial',\n",
       " 'intelligence',\n",
       " 'and',\n",
       " 'had',\n",
       " 'the',\n",
       " 'first',\n",
       " 'AI',\n",
       " 'conference',\n",
       " '.',\n",
       " '1969',\n",
       " '-',\n",
       " 'Shakey',\n",
       " 'was',\n",
       " 'the',\n",
       " 'first',\n",
       " 'general-purpose',\n",
       " 'mobile',\n",
       " 'robot',\n",
       " 'built',\n",
       " '.',\n",
       " 'It',\n",
       " 'is',\n",
       " 'now',\n",
       " 'able',\n",
       " 'to',\n",
       " 'do',\n",
       " 'things',\n",
       " 'with',\n",
       " 'a',\n",
       " 'purpose',\n",
       " 'vs.',\n",
       " 'just',\n",
       " 'a',\n",
       " 'list',\n",
       " 'of',\n",
       " 'instructions']"
      ]
     },
     "execution_count": 36,
     "metadata": {},
     "output_type": "execute_result"
    }
   ],
   "source": [
    "AI_tokens=word_tokenize(AI)\n",
    "AI_tokens"
   ]
  },
  {
   "cell_type": "code",
   "execution_count": 37,
   "id": "e902a6c2-0f5a-4fa8-a036-12a049da2367",
   "metadata": {},
   "outputs": [
    {
     "data": {
      "text/plain": [
       "43"
      ]
     },
     "execution_count": 37,
     "metadata": {},
     "output_type": "execute_result"
    }
   ],
   "source": [
    "len(AI_tokens)"
   ]
  },
  {
   "cell_type": "code",
   "execution_count": 38,
   "id": "cfdd3b6e-2d6e-43f4-abc8-37637f10a204",
   "metadata": {},
   "outputs": [],
   "source": [
    "from nltk.probability import FreqDist\n",
    "fdist=FreqDist()"
   ]
  },
  {
   "cell_type": "code",
   "execution_count": 39,
   "id": "12fe495e-9a36-4958-b3ac-e338e565af48",
   "metadata": {},
   "outputs": [
    {
     "data": {
      "text/plain": [
       "FreqDist({'the': 3, '-': 2, 'first': 2, '.': 2, 'a': 2, '1956': 1, 'john': 1, 'mccarthy': 1, 'coined': 1, 'term': 1, ...})"
      ]
     },
     "execution_count": 39,
     "metadata": {},
     "output_type": "execute_result"
    }
   ],
   "source": [
    "for word in AI_tokens:\n",
    "    fdist[word.lower()]+=1\n",
    "fdist"
   ]
  },
  {
   "cell_type": "code",
   "execution_count": 42,
   "id": "d48974af-9eb5-46b3-83d4-8aa85c303426",
   "metadata": {},
   "outputs": [
    {
     "data": {
      "text/plain": [
       "1"
      ]
     },
     "execution_count": 42,
     "metadata": {},
     "output_type": "execute_result"
    }
   ],
   "source": [
    "fdist['artificial']"
   ]
  },
  {
   "cell_type": "code",
   "execution_count": 43,
   "id": "8096227a-5fe2-40b6-b66e-ed4f74c1c9b9",
   "metadata": {},
   "outputs": [
    {
     "data": {
      "text/plain": [
       "37"
      ]
     },
     "execution_count": 43,
     "metadata": {},
     "output_type": "execute_result"
    }
   ],
   "source": [
    "len(fdist)"
   ]
  },
  {
   "cell_type": "code",
   "execution_count": 44,
   "id": "2cadb35f-429c-41b3-a1a4-8adc75d0a341",
   "metadata": {},
   "outputs": [
    {
     "data": {
      "text/plain": [
       "[('the', 3),\n",
       " ('-', 2),\n",
       " ('first', 2),\n",
       " ('.', 2),\n",
       " ('a', 2),\n",
       " ('1956', 1),\n",
       " ('john', 1),\n",
       " ('mccarthy', 1),\n",
       " ('coined', 1),\n",
       " ('term', 1)]"
      ]
     },
     "execution_count": 44,
     "metadata": {},
     "output_type": "execute_result"
    }
   ],
   "source": [
    "fdist_top10=fdist.most_common(10)\n",
    "fdist_top10"
   ]
  },
  {
   "cell_type": "code",
   "execution_count": 45,
   "id": "4e439c5b-eefe-43a3-a378-87a6e2bfb56c",
   "metadata": {},
   "outputs": [
    {
     "data": {
      "text/plain": [
       "1"
      ]
     },
     "execution_count": 45,
     "metadata": {},
     "output_type": "execute_result"
    }
   ],
   "source": [
    "from nltk.tokenize import blankline_tokenize\n",
    "AI_blank=blankline_tokenize(AI)\n",
    "len(AI_blank)"
   ]
  },
  {
   "cell_type": "code",
   "execution_count": 48,
   "id": "30eca69e-9a3d-4726-8a23-ef3e2f2071bf",
   "metadata": {},
   "outputs": [
    {
     "data": {
      "text/plain": [
       "'1956 - John McCarthy coined the term artificial intelligence and had the first AI conference. 1969 - Shakey was the first general-purpose mobile robot built. It is now able to do things with a purpose vs. just a list of instructions'"
      ]
     },
     "execution_count": 48,
     "metadata": {},
     "output_type": "execute_result"
    }
   ],
   "source": [
    "AI_blank[0]"
   ]
  },
  {
   "cell_type": "code",
   "execution_count": 49,
   "id": "e43b2bc7-8fa9-4bed-a023-6d8f8a4e8ec9",
   "metadata": {},
   "outputs": [],
   "source": [
    "from nltk.util import bigrams,trigrams,ngrams"
   ]
  },
  {
   "cell_type": "code",
   "execution_count": 50,
   "id": "1760cc5f-ee77-4b6e-9c21-2158d1c8223c",
   "metadata": {},
   "outputs": [
    {
     "data": {
      "text/plain": [
       "['1956',\n",
       " '-',\n",
       " 'John',\n",
       " 'McCarthy',\n",
       " 'coined',\n",
       " 'the',\n",
       " 'term',\n",
       " 'artificial',\n",
       " 'intelligence',\n",
       " 'and',\n",
       " 'had',\n",
       " 'the',\n",
       " 'first',\n",
       " 'AI',\n",
       " 'conference',\n",
       " '.']"
      ]
     },
     "execution_count": 50,
     "metadata": {},
     "output_type": "execute_result"
    }
   ],
   "source": [
    "string='1956 - John McCarthy coined the term artificial intelligence and had the first AI conference.'\n",
    "quotes_token=nltk.word_tokenize(string)\n",
    "quotes_token"
   ]
  },
  {
   "cell_type": "code",
   "execution_count": 51,
   "id": "f0612b9d-5be8-4317-897e-632a202aae2d",
   "metadata": {},
   "outputs": [
    {
     "data": {
      "text/plain": [
       "[('1956', '-'),\n",
       " ('-', 'John'),\n",
       " ('John', 'McCarthy'),\n",
       " ('McCarthy', 'coined'),\n",
       " ('coined', 'the'),\n",
       " ('the', 'term'),\n",
       " ('term', 'artificial'),\n",
       " ('artificial', 'intelligence'),\n",
       " ('intelligence', 'and'),\n",
       " ('and', 'had'),\n",
       " ('had', 'the'),\n",
       " ('the', 'first'),\n",
       " ('first', 'AI'),\n",
       " ('AI', 'conference'),\n",
       " ('conference', '.')]"
      ]
     },
     "execution_count": 51,
     "metadata": {},
     "output_type": "execute_result"
    }
   ],
   "source": [
    "quotes_bigrams=list(nltk.bigrams(quotes_token))\n",
    "quotes_bigrams"
   ]
  },
  {
   "cell_type": "code",
   "execution_count": 53,
   "id": "a8a2018a-3c4d-43fd-9079-057ba3e15912",
   "metadata": {},
   "outputs": [
    {
     "data": {
      "text/plain": [
       "[('1956', '-', 'John'),\n",
       " ('-', 'John', 'McCarthy'),\n",
       " ('John', 'McCarthy', 'coined'),\n",
       " ('McCarthy', 'coined', 'the'),\n",
       " ('coined', 'the', 'term'),\n",
       " ('the', 'term', 'artificial'),\n",
       " ('term', 'artificial', 'intelligence'),\n",
       " ('artificial', 'intelligence', 'and'),\n",
       " ('intelligence', 'and', 'had'),\n",
       " ('and', 'had', 'the'),\n",
       " ('had', 'the', 'first'),\n",
       " ('the', 'first', 'AI'),\n",
       " ('first', 'AI', 'conference'),\n",
       " ('AI', 'conference', '.')]"
      ]
     },
     "execution_count": 53,
     "metadata": {},
     "output_type": "execute_result"
    }
   ],
   "source": [
    "quotes_trigrams=list(nltk.trigrams(quotes_token))\n",
    "quotes_trigrams"
   ]
  },
  {
   "cell_type": "code",
   "execution_count": 55,
   "id": "cdf201d2-2c6e-48f1-8b59-720bc1384ef7",
   "metadata": {},
   "outputs": [
    {
     "data": {
      "text/plain": [
       "[('1956', '-', 'John', 'McCarthy', 'coined'),\n",
       " ('-', 'John', 'McCarthy', 'coined', 'the'),\n",
       " ('John', 'McCarthy', 'coined', 'the', 'term'),\n",
       " ('McCarthy', 'coined', 'the', 'term', 'artificial'),\n",
       " ('coined', 'the', 'term', 'artificial', 'intelligence'),\n",
       " ('the', 'term', 'artificial', 'intelligence', 'and'),\n",
       " ('term', 'artificial', 'intelligence', 'and', 'had'),\n",
       " ('artificial', 'intelligence', 'and', 'had', 'the'),\n",
       " ('intelligence', 'and', 'had', 'the', 'first'),\n",
       " ('and', 'had', 'the', 'first', 'AI'),\n",
       " ('had', 'the', 'first', 'AI', 'conference'),\n",
       " ('the', 'first', 'AI', 'conference', '.')]"
      ]
     },
     "execution_count": 55,
     "metadata": {},
     "output_type": "execute_result"
    }
   ],
   "source": [
    "quotes_ngrams=list(nltk.ngrams(quotes_token,5))\n",
    "quotes_ngrams"
   ]
  },
  {
   "cell_type": "code",
   "execution_count": 57,
   "id": "16cef5c0-31ed-4887-a5bd-87da201ce046",
   "metadata": {},
   "outputs": [],
   "source": [
    "from nltk.stem import PorterStemmer\n",
    "pst=PorterStemmer()"
   ]
  },
  {
   "cell_type": "code",
   "execution_count": 60,
   "id": "bc061fac-e735-4ec4-8106-05f41919cf2e",
   "metadata": {},
   "outputs": [
    {
     "data": {
      "text/plain": [
       "'curv'"
      ]
     },
     "execution_count": 60,
     "metadata": {},
     "output_type": "execute_result"
    }
   ],
   "source": [
    "pst.stem('curving')"
   ]
  },
  {
   "cell_type": "code",
   "execution_count": 62,
   "id": "c7ee7d88-3d4f-436e-adc6-c091c8ea207f",
   "metadata": {},
   "outputs": [
    {
     "name": "stdout",
     "output_type": "stream",
     "text": [
      "give:give\n",
      "giving:give\n",
      "given:given\n",
      "gave:gave\n"
     ]
    }
   ],
   "source": [
    "words_to_stem=['give','giving','given','gave']\n",
    "for wors in words_to_stem:\n",
    "    print(wors+':'+pst.stem(wors))"
   ]
  },
  {
   "cell_type": "code",
   "execution_count": 65,
   "id": "e410e68b-5cc4-4428-9013-c2396fc9e6b0",
   "metadata": {},
   "outputs": [
    {
     "name": "stdout",
     "output_type": "stream",
     "text": [
      "give:giv\n",
      "giving:giv\n",
      "given:giv\n",
      "gave:gav\n"
     ]
    }
   ],
   "source": [
    "from nltk.stem import LancasterStemmer\n",
    "lst=LancasterStemmer()\n",
    "for wors in words_to_stem:\n",
    "    print(wors+':'+lst.stem(wors))"
   ]
  },
  {
   "cell_type": "code",
   "execution_count": 70,
   "id": "ea86e7b8-10fb-421e-991f-3adcfb3934ce",
   "metadata": {},
   "outputs": [],
   "source": [
    "from nltk.stem import wordnet\n",
    "from nltk.stem import WordNetLemmatizer\n",
    "word_lem=WordNetLemmatizer()"
   ]
  },
  {
   "cell_type": "code",
   "execution_count": 74,
   "id": "ae1140eb-399c-48fb-b94d-32d88f29d97f",
   "metadata": {},
   "outputs": [
    {
     "data": {
      "text/plain": [
       "'corpus'"
      ]
     },
     "execution_count": 74,
     "metadata": {},
     "output_type": "execute_result"
    }
   ],
   "source": [
    "word_lem.lemmatize('corpora')"
   ]
  },
  {
   "cell_type": "code",
   "execution_count": 75,
   "id": "b0863fd9-b563-4b7b-93f1-d93468a68bd8",
   "metadata": {},
   "outputs": [
    {
     "name": "stdout",
     "output_type": "stream",
     "text": [
      "give:give\n",
      "giving:giving\n",
      "given:given\n",
      "gave:gave\n"
     ]
    }
   ],
   "source": [
    "for wors in words_to_stem:\n",
    "    print(wors+':'+word_lem.lemmatize(wors))"
   ]
  },
  {
   "cell_type": "code",
   "execution_count": 76,
   "id": "3a3ff9b9-1957-4633-987e-1b6bc8c0ffe7",
   "metadata": {},
   "outputs": [],
   "source": [
    "from nltk.corpus import stopwords"
   ]
  },
  {
   "cell_type": "code",
   "execution_count": 82,
   "id": "c4f4403f-89ae-4e1f-95bb-8ba2f099eb7c",
   "metadata": {},
   "outputs": [
    {
     "data": {
      "text/plain": [
       "['i',\n",
       " 'me',\n",
       " 'my',\n",
       " 'myself',\n",
       " 'we',\n",
       " 'our',\n",
       " 'ours',\n",
       " 'ourselves',\n",
       " 'you',\n",
       " \"you're\",\n",
       " \"you've\",\n",
       " \"you'll\",\n",
       " \"you'd\",\n",
       " 'your',\n",
       " 'yours',\n",
       " 'yourself',\n",
       " 'yourselves',\n",
       " 'he',\n",
       " 'him',\n",
       " 'his',\n",
       " 'himself',\n",
       " 'she',\n",
       " \"she's\",\n",
       " 'her',\n",
       " 'hers',\n",
       " 'herself',\n",
       " 'it',\n",
       " \"it's\",\n",
       " 'its',\n",
       " 'itself',\n",
       " 'they',\n",
       " 'them',\n",
       " 'their',\n",
       " 'theirs',\n",
       " 'themselves',\n",
       " 'what',\n",
       " 'which',\n",
       " 'who',\n",
       " 'whom',\n",
       " 'this',\n",
       " 'that',\n",
       " \"that'll\",\n",
       " 'these',\n",
       " 'those',\n",
       " 'am',\n",
       " 'is',\n",
       " 'are',\n",
       " 'was',\n",
       " 'were',\n",
       " 'be',\n",
       " 'been',\n",
       " 'being',\n",
       " 'have',\n",
       " 'has',\n",
       " 'had',\n",
       " 'having',\n",
       " 'do',\n",
       " 'does',\n",
       " 'did',\n",
       " 'doing',\n",
       " 'a',\n",
       " 'an',\n",
       " 'the',\n",
       " 'and',\n",
       " 'but',\n",
       " 'if',\n",
       " 'or',\n",
       " 'because',\n",
       " 'as',\n",
       " 'until',\n",
       " 'while',\n",
       " 'of',\n",
       " 'at',\n",
       " 'by',\n",
       " 'for',\n",
       " 'with',\n",
       " 'about',\n",
       " 'against',\n",
       " 'between',\n",
       " 'into',\n",
       " 'through',\n",
       " 'during',\n",
       " 'before',\n",
       " 'after',\n",
       " 'above',\n",
       " 'below',\n",
       " 'to',\n",
       " 'from',\n",
       " 'up',\n",
       " 'down',\n",
       " 'in',\n",
       " 'out',\n",
       " 'on',\n",
       " 'off',\n",
       " 'over',\n",
       " 'under',\n",
       " 'again',\n",
       " 'further',\n",
       " 'then',\n",
       " 'once',\n",
       " 'here',\n",
       " 'there',\n",
       " 'when',\n",
       " 'where',\n",
       " 'why',\n",
       " 'how',\n",
       " 'all',\n",
       " 'any',\n",
       " 'both',\n",
       " 'each',\n",
       " 'few',\n",
       " 'more',\n",
       " 'most',\n",
       " 'other',\n",
       " 'some',\n",
       " 'such',\n",
       " 'no',\n",
       " 'nor',\n",
       " 'not',\n",
       " 'only',\n",
       " 'own',\n",
       " 'same',\n",
       " 'so',\n",
       " 'than',\n",
       " 'too',\n",
       " 'very',\n",
       " 's',\n",
       " 't',\n",
       " 'can',\n",
       " 'will',\n",
       " 'just',\n",
       " 'don',\n",
       " \"don't\",\n",
       " 'should',\n",
       " \"should've\",\n",
       " 'now',\n",
       " 'd',\n",
       " 'll',\n",
       " 'm',\n",
       " 'o',\n",
       " 're',\n",
       " 've',\n",
       " 'y',\n",
       " 'ain',\n",
       " 'aren',\n",
       " \"aren't\",\n",
       " 'couldn',\n",
       " \"couldn't\",\n",
       " 'didn',\n",
       " \"didn't\",\n",
       " 'doesn',\n",
       " \"doesn't\",\n",
       " 'hadn',\n",
       " \"hadn't\",\n",
       " 'hasn',\n",
       " \"hasn't\",\n",
       " 'haven',\n",
       " \"haven't\",\n",
       " 'isn',\n",
       " \"isn't\",\n",
       " 'ma',\n",
       " 'mightn',\n",
       " \"mightn't\",\n",
       " 'mustn',\n",
       " \"mustn't\",\n",
       " 'needn',\n",
       " \"needn't\",\n",
       " 'shan',\n",
       " \"shan't\",\n",
       " 'shouldn',\n",
       " \"shouldn't\",\n",
       " 'wasn',\n",
       " \"wasn't\",\n",
       " 'weren',\n",
       " \"weren't\",\n",
       " 'won',\n",
       " \"won't\",\n",
       " 'wouldn',\n",
       " \"wouldn't\"]"
      ]
     },
     "execution_count": 82,
     "metadata": {},
     "output_type": "execute_result"
    }
   ],
   "source": [
    "stopwords.words('english')"
   ]
  },
  {
   "cell_type": "code",
   "execution_count": 84,
   "id": "59b79730-ddfc-42c6-a303-9a3b5947c64a",
   "metadata": {},
   "outputs": [
    {
     "data": {
      "text/plain": [
       "179"
      ]
     },
     "execution_count": 84,
     "metadata": {},
     "output_type": "execute_result"
    }
   ],
   "source": [
    "len(stopwords.words('english'))"
   ]
  },
  {
   "cell_type": "code",
   "execution_count": 85,
   "id": "543f0207-43fc-4e9e-86da-cc555919f3af",
   "metadata": {},
   "outputs": [
    {
     "data": {
      "text/plain": [
       "[('the', 3),\n",
       " ('-', 2),\n",
       " ('first', 2),\n",
       " ('.', 2),\n",
       " ('a', 2),\n",
       " ('1956', 1),\n",
       " ('john', 1),\n",
       " ('mccarthy', 1),\n",
       " ('coined', 1),\n",
       " ('term', 1)]"
      ]
     },
     "execution_count": 85,
     "metadata": {},
     "output_type": "execute_result"
    }
   ],
   "source": [
    "fdist_top10"
   ]
  },
  {
   "cell_type": "code",
   "execution_count": 86,
   "id": "2823ecad-9636-47b9-b2d3-2c2d213beb01",
   "metadata": {},
   "outputs": [],
   "source": [
    "import re\n",
    "punctuation=re.compile(r'[-.?!,:;()|[0-9]')"
   ]
  },
  {
   "cell_type": "code",
   "execution_count": 88,
   "id": "593c9177-e397-489e-b60c-173cd65a19c3",
   "metadata": {},
   "outputs": [],
   "source": [
    "post_punctuation=[]\n",
    "for words in AI_tokens:\n",
    "    word=punctuation.sub('',words)\n",
    "    if len(word)>0:\n",
    "        post_punctuation.append(word)"
   ]
  },
  {
   "cell_type": "code",
   "execution_count": 89,
   "id": "2c702828-5fa8-442c-ac66-9800172af16a",
   "metadata": {},
   "outputs": [
    {
     "data": {
      "text/plain": [
       "['John',\n",
       " 'McCarthy',\n",
       " 'coined',\n",
       " 'the',\n",
       " 'term',\n",
       " 'artificial',\n",
       " 'intelligence',\n",
       " 'and',\n",
       " 'had',\n",
       " 'the',\n",
       " 'first',\n",
       " 'AI',\n",
       " 'conference',\n",
       " 'Shakey',\n",
       " 'was',\n",
       " 'the',\n",
       " 'first',\n",
       " 'generalpurpose',\n",
       " 'mobile',\n",
       " 'robot',\n",
       " 'built',\n",
       " 'It',\n",
       " 'is',\n",
       " 'now',\n",
       " 'able',\n",
       " 'to',\n",
       " 'do',\n",
       " 'things',\n",
       " 'with',\n",
       " 'a',\n",
       " 'purpose',\n",
       " 'vs',\n",
       " 'just',\n",
       " 'a',\n",
       " 'list',\n",
       " 'of',\n",
       " 'instructions']"
      ]
     },
     "execution_count": 89,
     "metadata": {},
     "output_type": "execute_result"
    }
   ],
   "source": [
    "post_punctuation"
   ]
  },
  {
   "cell_type": "code",
   "execution_count": 92,
   "id": "daeabcb0-b585-4a84-b570-9ac0e90d179f",
   "metadata": {},
   "outputs": [],
   "source": [
    "sent='timothy is a natural when it comes to running'\n",
    "sent_tokens=word_tokenize(sent)"
   ]
  },
  {
   "cell_type": "code",
   "execution_count": 96,
   "id": "c7127755-4e26-48f1-8946-0241c09b824e",
   "metadata": {},
   "outputs": [
    {
     "name": "stdout",
     "output_type": "stream",
     "text": [
      "[('timothy', 'NN')]\n",
      "[('is', 'VBZ')]\n",
      "[('a', 'DT')]\n",
      "[('natural', 'JJ')]\n",
      "[('when', 'WRB')]\n",
      "[('it', 'PRP')]\n",
      "[('comes', 'VBZ')]\n",
      "[('to', 'TO')]\n",
      "[('running', 'VBG')]\n"
     ]
    }
   ],
   "source": [
    "for token in sent_tokens:\n",
    "    print(nltk.pos_tag([token]))"
   ]
  },
  {
   "cell_type": "code",
   "execution_count": 97,
   "id": "fe3fdf73-441c-4931-959f-45327939e514",
   "metadata": {},
   "outputs": [],
   "source": [
    "sent2='i study at dataset nexus tech'\n",
    "sent_tokens2=word_tokenize(sent2)"
   ]
  },
  {
   "cell_type": "code",
   "execution_count": 98,
   "id": "cef639a7-6f9f-4467-9830-5ce6f01a66b2",
   "metadata": {},
   "outputs": [
    {
     "name": "stdout",
     "output_type": "stream",
     "text": [
      "[('i', 'NN')]\n",
      "[('study', 'NN')]\n",
      "[('at', 'IN')]\n",
      "[('dataset', 'NN')]\n",
      "[('nexus', 'NN')]\n",
      "[('tech', 'NN')]\n"
     ]
    }
   ],
   "source": [
    "for token in sent_tokens2:\n",
    "    print(nltk.pos_tag([token]))"
   ]
  },
  {
   "cell_type": "code",
   "execution_count": 99,
   "id": "0e77bf9e-c8c8-4a40-a8d4-e5396b0720e9",
   "metadata": {},
   "outputs": [],
   "source": [
    "from nltk import ne_chunk"
   ]
  },
  {
   "cell_type": "code",
   "execution_count": 100,
   "id": "1f4186eb-7249-43ee-b43b-2fe33392b8dd",
   "metadata": {},
   "outputs": [],
   "source": [
    "NE_sent='president of nigeris is tinubu'\n",
    "NE_tokens=word_tokenize(NE_sent)\n",
    "NE_tags=nltk.pos_tag(NE_tokens)"
   ]
  },
  {
   "cell_type": "code",
   "execution_count": 109,
   "id": "57e815ef-820d-4671-8774-d84a5c4f0db3",
   "metadata": {},
   "outputs": [
    {
     "name": "stdout",
     "output_type": "stream",
     "text": [
      "(S president/NN of/IN nigeris/NN is/VBZ tinubu/JJ)\n"
     ]
    }
   ],
   "source": [
    "NE_NER=ne_chunk(NE_tags)\n",
    "print(NE_NER)"
   ]
  },
  {
   "cell_type": "code",
   "execution_count": null,
   "id": "c8429440-8809-4169-a958-f17172ecaa7c",
   "metadata": {},
   "outputs": [],
   "source": []
  }
 ],
 "metadata": {
  "kernelspec": {
   "display_name": "py3-tf2",
   "language": "python",
   "name": "py3-tf2"
  },
  "language_info": {
   "codemirror_mode": {
    "name": "ipython",
    "version": 3
   },
   "file_extension": ".py",
   "mimetype": "text/x-python",
   "name": "python",
   "nbconvert_exporter": "python",
   "pygments_lexer": "ipython3",
   "version": "3.10.11"
  }
 },
 "nbformat": 4,
 "nbformat_minor": 5
}
