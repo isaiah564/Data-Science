{
 "cells": [
  {
   "cell_type": "markdown",
   "id": "acb036f4-3a96-42c1-a9ac-d0cd7b9babf0",
   "metadata": {},
   "source": [
    "#### deep neural network for minst classification"
   ]
  },
  {
   "cell_type": "markdown",
   "id": "e3ce2662-14fe-4601-8487-d2b1fd136f5d",
   "metadata": {},
   "source": [
    "## import relevant packages"
   ]
  },
  {
   "cell_type": "code",
   "execution_count": 1,
   "id": "b69d7a3a-2aba-4b0d-8cc1-9267f54542fa",
   "metadata": {},
   "outputs": [
    {
     "name": "stderr",
     "output_type": "stream",
     "text": [
      "C:\\Users\\Admin\\anaconda3\\envs\\py3-tf2\\lib\\site-packages\\tqdm\\auto.py:21: TqdmWarning: IProgress not found. Please update jupyter and ipywidgets. See https://ipywidgets.readthedocs.io/en/stable/user_install.html\n",
      "  from .autonotebook import tqdm as notebook_tqdm\n"
     ]
    }
   ],
   "source": [
    "import numpy as np\n",
    "import tensorflow as tf\n",
    "import tensorflow_datasets as tfds"
   ]
  },
  {
   "cell_type": "markdown",
   "id": "5eb9d625-5ed4-4876-9616-adb1e15217c0",
   "metadata": {},
   "source": [
    "### data"
   ]
  },
  {
   "cell_type": "code",
   "execution_count": 30,
   "id": "c179adef-70a9-4a9f-930b-5d884fe2e21e",
   "metadata": {},
   "outputs": [
    {
     "name": "stderr",
     "output_type": "stream",
     "text": [
      "WARNING:absl:Warning: Setting shuffle_files=True because split=TRAIN and shuffle_files=None. This behavior will be deprecated on 2019-08-06, at which point shuffle_files=False will be the default for all splits.\n"
     ]
    }
   ],
   "source": [
    "m_dataset,mnist_info=tfds.load(name='mnist',with_info=True,as_supervised=True)\n",
    "\n",
    "mnist_train,mnist_test=m_dataset['train'],m_dataset['test']\n",
    "\n",
    "num_validation_samples=0.1*mnist_info.splits['train'].num_examples\n",
    "num_validation_samples=tf.cast(num_validation_samples,tf.int64)\n",
    "num_test_samples=mnist_info.splits['test'].num_examples\n",
    "num_test_samples=tf.cast(num_test_samples,tf.int64)\n",
    "\n",
    "\n",
    "\n",
    "def scale(image,label):\n",
    "    image=tf.cast(image,tf.float32)\n",
    "    image/=255.\n",
    "    return image,label\n",
    "\n",
    "scaled_train_and_validation=mnist_train.map(scale)\n",
    "test_data=mnist_test.map(scale)\n",
    "\n",
    "BUFFER_SIZE=10000\n",
    "shuffled_train_and_validation_data=scaled_train_and_validation.shuffle(BUFFER_SIZE)\n",
    "validation_data=shuffled_train_and_validation_data.take(num_validation_samples)\n",
    "\n",
    "train_data=shuffled_train_and_validation_data.skip(num_validation_samples)\n",
    "BATCH_SIZE=100\n",
    "train_data=train_data.batch(BATCH_SIZE)\n",
    "validation_data=validation_data.batch(num_validation_samples)\n",
    "test_data=test_data.batch(num_test_samples)\n",
    "\n",
    "validation_inputs,validation_targets=next(iter(validation_data))\n",
    "test_inputs,test_targets=next(iter(test_data))"
   ]
  },
  {
   "cell_type": "markdown",
   "id": "743a2176-021f-4e85-b77a-fb1be70f670f",
   "metadata": {},
   "source": [
    "## model"
   ]
  },
  {
   "cell_type": "markdown",
   "id": "5895b556-44c9-497c-86d8-8af4ae2ffa29",
   "metadata": {},
   "source": [
    "### outline the model"
   ]
  },
  {
   "cell_type": "code",
   "execution_count": 22,
   "id": "099ba440-fc0a-426b-a0e7-8a9d05cbcc46",
   "metadata": {},
   "outputs": [],
   "source": [
    "input_size=784\n",
    "output_size=10\n",
    "hidden_layer_size=100\n",
    "model=tf.keras.Sequential([\n",
    "                           tf.keras.layers.Flatten(input_shape=(28,28,1)),\n",
    "                           tf.keras.layers.Dense(hidden_layer_size,activation='relu'),\n",
    "                            tf.keras.layers.Dense(hidden_layer_size,activation='relu'),\n",
    "                           tf.keras.layers.Dense(output_size,activation='softmax')\n",
    "    \n",
    "    \n",
    "])"
   ]
  },
  {
   "cell_type": "markdown",
   "id": "bdb3fb53-158e-42bb-8c7b-18efb28c7959",
   "metadata": {},
   "source": [
    "### choose the optimizer and the loss"
   ]
  },
  {
   "cell_type": "code",
   "execution_count": 23,
   "id": "832afa3b-3992-4740-9101-294d42e41398",
   "metadata": {},
   "outputs": [],
   "source": [
    "model.compile(optimizer='adam',loss='sparse_categorical_crossentropy',metrics=['accuracy'])"
   ]
  },
  {
   "cell_type": "markdown",
   "id": "f4ebadf9-6309-45c0-b52c-807783553df5",
   "metadata": {},
   "source": [
    "### training"
   ]
  },
  {
   "cell_type": "code",
   "execution_count": 24,
   "id": "92c19db1-5f02-4150-a8cb-b71a14e41db4",
   "metadata": {},
   "outputs": [
    {
     "name": "stdout",
     "output_type": "stream",
     "text": [
      "Epoch 1/5\n",
      "540/540 - 9s - loss: 0.3370 - accuracy: 0.9011 - val_loss: 0.1766 - val_accuracy: 0.9485 - 9s/epoch - 17ms/step\n",
      "Epoch 2/5\n",
      "540/540 - 8s - loss: 0.1385 - accuracy: 0.9585 - val_loss: 0.1257 - val_accuracy: 0.9617 - 8s/epoch - 15ms/step\n",
      "Epoch 3/5\n",
      "540/540 - 8s - loss: 0.0982 - accuracy: 0.9700 - val_loss: 0.0890 - val_accuracy: 0.9738 - 8s/epoch - 15ms/step\n",
      "Epoch 4/5\n",
      "540/540 - 8s - loss: 0.0750 - accuracy: 0.9771 - val_loss: 0.0811 - val_accuracy: 0.9758 - 8s/epoch - 15ms/step\n",
      "Epoch 5/5\n",
      "540/540 - 9s - loss: 0.0606 - accuracy: 0.9811 - val_loss: 0.0641 - val_accuracy: 0.9815 - 9s/epoch - 16ms/step\n"
     ]
    },
    {
     "data": {
      "text/plain": [
       "<keras.callbacks.History at 0x2615f78de40>"
      ]
     },
     "execution_count": 24,
     "metadata": {},
     "output_type": "execute_result"
    }
   ],
   "source": [
    "num_epochs=5\n",
    "\n",
    "model.fit(train_data,epochs=num_epochs,validation_data=(validation_inputs,validation_targets),verbose=2)"
   ]
  },
  {
   "cell_type": "markdown",
   "id": "e6b40773-c839-4a85-ba06-25115c086ea7",
   "metadata": {},
   "source": [
    "### test the model"
   ]
  },
  {
   "cell_type": "code",
   "execution_count": 31,
   "id": "edd7bdfc-0c0e-4262-8ddb-89ac5fd301da",
   "metadata": {},
   "outputs": [
    {
     "name": "stdout",
     "output_type": "stream",
     "text": [
      "313/313 [==============================] - 1s 4ms/step - loss: 0.0804 - accuracy: 0.9741\n"
     ]
    }
   ],
   "source": [
    "test_loss,test_accuracy=model.evaluate(test_inputs,test_targets)"
   ]
  },
  {
   "cell_type": "code",
   "execution_count": 32,
   "id": "b1556531-afe9-47c1-bc13-5f469d0352c3",
   "metadata": {},
   "outputs": [
    {
     "name": "stdout",
     "output_type": "stream",
     "text": [
      "\n",
      "Test loss:0.08.Test accuracy:97.409999%\n"
     ]
    }
   ],
   "source": [
    "print('\\nTest loss:{0:.2f}.Test accuracy:{1:2f}%'.format(test_loss,test_accuracy*100))"
   ]
  },
  {
   "cell_type": "code",
   "execution_count": null,
   "id": "834f0ca0-70ad-4996-a3e8-f492b7b6d0b6",
   "metadata": {},
   "outputs": [],
   "source": []
  }
 ],
 "metadata": {
  "kernelspec": {
   "display_name": "py3-tf2",
   "language": "python",
   "name": "py3-tf2"
  },
  "language_info": {
   "codemirror_mode": {
    "name": "ipython",
    "version": 3
   },
   "file_extension": ".py",
   "mimetype": "text/x-python",
   "name": "python",
   "nbconvert_exporter": "python",
   "pygments_lexer": "ipython3",
   "version": "3.10.11"
  }
 },
 "nbformat": 4,
 "nbformat_minor": 5
}
