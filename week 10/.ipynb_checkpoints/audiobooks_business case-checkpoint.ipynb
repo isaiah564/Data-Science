{
 "cells": [
  {
   "cell_type": "code",
   "execution_count": 19,
   "id": "02f0bcb9-c0b3-42b0-b5be-1b916b5a6f0f",
   "metadata": {},
   "outputs": [],
   "source": [
    "import numpy as np\n",
    "from sklearn import preprocessing\n",
    "\n",
    "raw=np.loadtxt('C:\\\\Users\\\\Admin\\\\Desktop\\\\DataScience\\\\Datasets\\\\Audiobooks-data.csv',delimiter=',')\n",
    "unscaled_inputs=raw[:,1:-1]\n",
    "targets_all=raw[:,-1]"
   ]
  },
  {
   "cell_type": "markdown",
   "id": "a519e881-3817-49ec-9bcc-cacc9fa0a01f",
   "metadata": {},
   "source": [
    "### balance the dataset"
   ]
  },
  {
   "cell_type": "code",
   "execution_count": 20,
   "id": "e310a85f-7800-4da0-bff1-edc0c9684780",
   "metadata": {},
   "outputs": [],
   "source": [
    "num_one_targets=int(np.sum(targets_all))\n",
    "zero_targets_counter=0\n",
    "indices_to_remove=[]\n",
    "\n",
    "for i in range(targets_all.shape[0]):\n",
    "    if targets_all[i] ==0:\n",
    "        zero_targets_counter+=1\n",
    "        if zero_targets_counter>num_one_targets:\n",
    "            indices_to_remove.append(i)\n",
    "            \n",
    "unscaled_inputs_equal_priors=np.delete(unscaled_inputs,indices_to_remove,axis=0)\n",
    "targets_equal_priors=np.delete(targets_all,indices_to_remove,axis=0)"
   ]
  },
  {
   "cell_type": "markdown",
   "id": "768f8d66-c55d-40d5-94d8-f6fb7bb75830",
   "metadata": {},
   "source": [
    "### standardize the inputs"
   ]
  },
  {
   "cell_type": "code",
   "execution_count": 21,
   "id": "834f0318-9c33-4cc1-b268-ea1e1bedea03",
   "metadata": {},
   "outputs": [],
   "source": [
    "scaled_inputs=preprocessing.scale(unscaled_inputs_equal_priors)"
   ]
  },
  {
   "cell_type": "markdown",
   "id": "4218c38f-f2a2-47b6-859c-e67859a3fa76",
   "metadata": {},
   "source": [
    "### shuffle the data"
   ]
  },
  {
   "cell_type": "code",
   "execution_count": 22,
   "id": "27473741-60a3-426c-a6b8-d9ec206301a7",
   "metadata": {},
   "outputs": [],
   "source": [
    "shuffled_indices=np.arange(scaled_inputs.shape[0])\n",
    "np.random.shuffle(shuffled_indices)\n",
    "\n",
    "shuffled_inputs=scaled_inputs[shuffled_indices]\n",
    "shuffled_targets=targets_equal_priors[shuffled_indices]"
   ]
  },
  {
   "cell_type": "markdown",
   "id": "fae89af7-6b56-45f7-80b7-95ee51851e64",
   "metadata": {},
   "source": [
    "### split the dataset into train,validation and test"
   ]
  },
  {
   "cell_type": "code",
   "execution_count": 23,
   "id": "40113ea5-576e-4e75-b4c4-d145d5396f3d",
   "metadata": {},
   "outputs": [
    {
     "name": "stdout",
     "output_type": "stream",
     "text": [
      "1781.0 3579 0.49762503492595694\n",
      "244.0 447 0.5458612975391499\n",
      "212.0 448 0.4732142857142857\n"
     ]
    }
   ],
   "source": [
    "samples_count=shuffled_inputs.shape[0]\n",
    "\n",
    "train_samples_count=int(0.8*samples_count)\n",
    "validation_samples_count=int(0.1*samples_count)\n",
    "test_samples_count=samples_count-train_samples_count -validation_samples_count\n",
    "\n",
    "train_inputs=shuffled_inputs[:train_samples_count]\n",
    "train_targets=shuffled_targets[:train_samples_count]\n",
    "\n",
    "validation_inputs=shuffled_inputs[train_samples_count:train_samples_count+validation_samples_count]\n",
    "validation_targets=shuffled_targets[train_samples_count:train_samples_count+validation_samples_count]\n",
    "\n",
    "test_inputs=shuffled_inputs[train_samples_count+validation_samples_count:]\n",
    "test_targets=shuffled_targets[train_samples_count+validation_samples_count:]\n",
    "\n",
    "print(np.sum(train_targets),train_samples_count,np.sum(train_targets)/train_samples_count)\n",
    "print(np.sum(validation_targets),validation_samples_count,np.sum(validation_targets)/validation_samples_count)\n",
    "print(np.sum(test_targets),test_samples_count,np.sum(test_targets)/test_samples_count)"
   ]
  },
  {
   "cell_type": "markdown",
   "id": "dc206f68-10eb-488d-95a9-1d0a982376de",
   "metadata": {},
   "source": [
    "### save the three dataset in npz"
   ]
  },
  {
   "cell_type": "code",
   "execution_count": 24,
   "id": "ad180b82-82ca-4b98-b3ed-6a0eea76e2f0",
   "metadata": {},
   "outputs": [],
   "source": [
    "np.savez('Audiobooks_data_train',inputs=train_inputs,targets=train_targets)\n",
    "np.savez('Audiobooks_data_validation',inputs=validation_inputs,targets=validation_targets)\n",
    "np.savez('Audiobooks_data_test',inputs=test_inputs,targets=test_targets)"
   ]
  },
  {
   "cell_type": "markdown",
   "id": "006bf4ae-e4e3-4e93-97d5-59fe34507197",
   "metadata": {},
   "source": [
    "### create the machine learning algorithm"
   ]
  },
  {
   "cell_type": "code",
   "execution_count": 25,
   "id": "a1a64ba1-19dc-4c43-bb29-f6dbd3da0b63",
   "metadata": {},
   "outputs": [],
   "source": [
    "import tensorflow as tf"
   ]
  },
  {
   "cell_type": "markdown",
   "id": "4e8fdc49-6bcb-4133-8482-0ceeaa980263",
   "metadata": {},
   "source": [
    "### data"
   ]
  },
  {
   "cell_type": "code",
   "execution_count": 26,
   "id": "9815ff3e-c173-40de-af72-82a2b691bafc",
   "metadata": {},
   "outputs": [],
   "source": [
    "npz=np.load('Audiobooks_data_train.npz')\n",
    "train_inputs=npz['inputs'].astype(np.float64)\n",
    "train_targets=npz['targets'].astype(np.int64)\n",
    "\n",
    "npz=np.load('Audiobooks_data_validation.npz')\n",
    "validation_inputs,validation_targets=npz['inputs'].astype(np.float64),npz['targets'].astype(np.int64)\n",
    "\n",
    "\n",
    "npz=np.load('Audiobooks_data_test.npz')\n",
    "test_inputs,test_targets=npz['inputs'].astype(np.float64),npz['targets'].astype(np.int64)\n"
   ]
  },
  {
   "cell_type": "markdown",
   "id": "2f85979f-027d-4f25-9656-d871b684dcc2",
   "metadata": {},
   "source": [
    "### model"
   ]
  },
  {
   "cell_type": "code",
   "execution_count": 27,
   "id": "3d52e854-dde2-4cac-ba33-351f451d6192",
   "metadata": {},
   "outputs": [
    {
     "name": "stdout",
     "output_type": "stream",
     "text": [
      "Epoch 1/100\n",
      "36/36 - 2s - loss: 0.5476 - accuracy: 0.7075 - val_loss: 0.4690 - val_accuracy: 0.7830 - 2s/epoch - 56ms/step\n",
      "Epoch 2/100\n",
      "36/36 - 0s - loss: 0.4147 - accuracy: 0.7837 - val_loss: 0.4028 - val_accuracy: 0.7740 - 343ms/epoch - 10ms/step\n",
      "Epoch 3/100\n",
      "36/36 - 0s - loss: 0.3773 - accuracy: 0.8002 - val_loss: 0.3719 - val_accuracy: 0.8031 - 356ms/epoch - 10ms/step\n",
      "Epoch 4/100\n",
      "36/36 - 0s - loss: 0.3607 - accuracy: 0.8092 - val_loss: 0.3589 - val_accuracy: 0.8143 - 371ms/epoch - 10ms/step\n",
      "Epoch 5/100\n",
      "36/36 - 0s - loss: 0.3548 - accuracy: 0.8036 - val_loss: 0.3523 - val_accuracy: 0.8300 - 347ms/epoch - 10ms/step\n",
      "Epoch 6/100\n",
      "36/36 - 0s - loss: 0.3500 - accuracy: 0.8108 - val_loss: 0.3427 - val_accuracy: 0.8210 - 349ms/epoch - 10ms/step\n",
      "Epoch 7/100\n",
      "36/36 - 0s - loss: 0.3416 - accuracy: 0.8161 - val_loss: 0.3428 - val_accuracy: 0.8076 - 370ms/epoch - 10ms/step\n",
      "Epoch 8/100\n",
      "36/36 - 0s - loss: 0.3429 - accuracy: 0.8072 - val_loss: 0.3367 - val_accuracy: 0.8277 - 356ms/epoch - 10ms/step\n",
      "Epoch 9/100\n",
      "36/36 - 0s - loss: 0.3392 - accuracy: 0.8156 - val_loss: 0.3455 - val_accuracy: 0.8076 - 341ms/epoch - 9ms/step\n",
      "Epoch 10/100\n",
      "36/36 - 0s - loss: 0.3365 - accuracy: 0.8161 - val_loss: 0.3523 - val_accuracy: 0.8031 - 352ms/epoch - 10ms/step\n"
     ]
    },
    {
     "data": {
      "text/plain": [
       "<keras.callbacks.History at 0x283e652e6e0>"
      ]
     },
     "execution_count": 27,
     "metadata": {},
     "output_type": "execute_result"
    }
   ],
   "source": [
    "input_size=10\n",
    "output_size=2\n",
    "hidden_layer_size=100\n",
    "model=tf.keras.Sequential([\n",
    "                           tf.keras.layers.Dense(hidden_layer_size,activation='relu'),\n",
    "                            tf.keras.layers.Dense(hidden_layer_size,activation='relu'),\n",
    "                           tf.keras.layers.Dense(output_size,activation='softmax')\n",
    "    \n",
    "    \n",
    "])\n",
    "early_stopping=tf.keras.callbacks.EarlyStopping(patience=2)\n",
    "model.compile(optimizer='adam',loss='sparse_categorical_crossentropy',metrics=['accuracy'])\n",
    "batch_size=100\n",
    "max_epochs=100\n",
    "model.fit(train_inputs,\n",
    "          train_targets,\n",
    "          batch_size=batch_size,\n",
    "          epochs=max_epochs,\n",
    "          callbacks=[early_stopping],\n",
    "          validation_data=(validation_inputs,validation_targets),\n",
    "          verbose=2)\n"
   ]
  },
  {
   "cell_type": "markdown",
   "id": "06ce5e83-3da2-489d-be32-5d896ffca996",
   "metadata": {},
   "source": [
    "### testing the model"
   ]
  },
  {
   "cell_type": "code",
   "execution_count": 28,
   "id": "9b24c76c-9ecc-44b7-bfd5-9825a19ce2a4",
   "metadata": {},
   "outputs": [
    {
     "name": "stdout",
     "output_type": "stream",
     "text": [
      "14/14 [==============================] - 0s 6ms/step - loss: 0.3505 - accuracy: 0.8013\n"
     ]
    }
   ],
   "source": [
    "test_loss,test_accuracy=model.evaluate(test_inputs,test_targets)"
   ]
  },
  {
   "cell_type": "code",
   "execution_count": 29,
   "id": "1548ed14-b2bf-4eea-9aee-15dd7b0f6c8e",
   "metadata": {},
   "outputs": [
    {
     "name": "stdout",
     "output_type": "stream",
     "text": [
      "\n",
      "Test loss:0.35.Test accuracy:80.133927%\n"
     ]
    }
   ],
   "source": [
    "print('\\nTest loss:{0:.2f}.Test accuracy:{1:2f}%'.format(test_loss,test_accuracy*100))"
   ]
  },
  {
   "cell_type": "code",
   "execution_count": null,
   "id": "17e147e9-0cfd-4aa0-a8e4-1fc1fb08f5c5",
   "metadata": {},
   "outputs": [],
   "source": []
  },
  {
   "cell_type": "code",
   "execution_count": null,
   "id": "04cee7fe-68d6-465a-955c-a697162c413e",
   "metadata": {},
   "outputs": [],
   "source": []
  },
  {
   "cell_type": "code",
   "execution_count": null,
   "id": "73818770-dad9-4c4a-8aea-d6da521cec3d",
   "metadata": {},
   "outputs": [],
   "source": []
  }
 ],
 "metadata": {
  "kernelspec": {
   "display_name": "py3-tf2",
   "language": "python",
   "name": "py3-tf2"
  },
  "language_info": {
   "codemirror_mode": {
    "name": "ipython",
    "version": 3
   },
   "file_extension": ".py",
   "mimetype": "text/x-python",
   "name": "python",
   "nbconvert_exporter": "python",
   "pygments_lexer": "ipython3",
   "version": "3.10.11"
  }
 },
 "nbformat": 4,
 "nbformat_minor": 5
}
