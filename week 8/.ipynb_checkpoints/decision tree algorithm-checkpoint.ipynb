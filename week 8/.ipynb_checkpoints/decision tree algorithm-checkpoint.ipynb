{
 "cells": [
  {
   "cell_type": "code",
   "execution_count": 2,
   "id": "26f52ae3-af3d-4b2a-a40f-12dd6817167a",
   "metadata": {},
   "outputs": [],
   "source": [
    "## decision tree is a tree shaped daigram used to determine a course of action.each branch of the tree represents a possible decision,occureence or reaction"
   ]
  },
  {
   "cell_type": "code",
   "execution_count": 3,
   "id": "f3a75d69-080c-4c64-87d3-4093a3770dfe",
   "metadata": {},
   "outputs": [],
   "source": [
    "import numpy as np\n",
    "import pandas as pd\n",
    "from sklearn.model_selection import train_test_split\n",
    "from sklearn.tree import DecisionTreeClassifier\n",
    "from sklearn.metrics import accuracy_score\n",
    "from sklearn import tree"
   ]
  },
  {
   "cell_type": "code",
   "execution_count": 4,
   "id": "c586fa3a-f353-4e1d-994b-1ac03d54d21f",
   "metadata": {},
   "outputs": [],
   "source": [
    "data=pd.read_csv('C:\\\\Users\\\\Admin\\\\Desktop\\\\DataScience\\\\Datasets\\\\Decision+Tree+Dataset.csv')"
   ]
  },
  {
   "cell_type": "code",
   "execution_count": 5,
   "id": "1ef246df-3cdd-479f-8ea0-a9210407efc4",
   "metadata": {},
   "outputs": [
    {
     "data": {
      "text/html": [
       "<div>\n",
       "<style scoped>\n",
       "    .dataframe tbody tr th:only-of-type {\n",
       "        vertical-align: middle;\n",
       "    }\n",
       "\n",
       "    .dataframe tbody tr th {\n",
       "        vertical-align: top;\n",
       "    }\n",
       "\n",
       "    .dataframe thead th {\n",
       "        text-align: right;\n",
       "    }\n",
       "</style>\n",
       "<table border=\"1\" class=\"dataframe\">\n",
       "  <thead>\n",
       "    <tr style=\"text-align: right;\">\n",
       "      <th></th>\n",
       "      <th>Initial payment</th>\n",
       "      <th>Last payment</th>\n",
       "      <th>Credit Score</th>\n",
       "      <th>House Number</th>\n",
       "      <th>sum</th>\n",
       "      <th>Result</th>\n",
       "    </tr>\n",
       "  </thead>\n",
       "  <tbody>\n",
       "    <tr>\n",
       "      <th>0</th>\n",
       "      <td>201</td>\n",
       "      <td>10018</td>\n",
       "      <td>250</td>\n",
       "      <td>3046</td>\n",
       "      <td>13515</td>\n",
       "      <td>yes</td>\n",
       "    </tr>\n",
       "    <tr>\n",
       "      <th>1</th>\n",
       "      <td>205</td>\n",
       "      <td>10016</td>\n",
       "      <td>395</td>\n",
       "      <td>3044</td>\n",
       "      <td>13660</td>\n",
       "      <td>yes</td>\n",
       "    </tr>\n",
       "    <tr>\n",
       "      <th>2</th>\n",
       "      <td>257</td>\n",
       "      <td>10129</td>\n",
       "      <td>109</td>\n",
       "      <td>3251</td>\n",
       "      <td>13746</td>\n",
       "      <td>yes</td>\n",
       "    </tr>\n",
       "    <tr>\n",
       "      <th>3</th>\n",
       "      <td>246</td>\n",
       "      <td>10064</td>\n",
       "      <td>324</td>\n",
       "      <td>3137</td>\n",
       "      <td>13771</td>\n",
       "      <td>yes</td>\n",
       "    </tr>\n",
       "    <tr>\n",
       "      <th>4</th>\n",
       "      <td>117</td>\n",
       "      <td>10115</td>\n",
       "      <td>496</td>\n",
       "      <td>3094</td>\n",
       "      <td>13822</td>\n",
       "      <td>yes</td>\n",
       "    </tr>\n",
       "  </tbody>\n",
       "</table>\n",
       "</div>"
      ],
      "text/plain": [
       "   Initial payment  Last payment  Credit Score  House Number    sum Result\n",
       "0              201         10018           250          3046  13515    yes\n",
       "1              205         10016           395          3044  13660    yes\n",
       "2              257         10129           109          3251  13746    yes\n",
       "3              246         10064           324          3137  13771    yes\n",
       "4              117         10115           496          3094  13822    yes"
      ]
     },
     "execution_count": 5,
     "metadata": {},
     "output_type": "execute_result"
    }
   ],
   "source": [
    "data.head()"
   ]
  },
  {
   "cell_type": "code",
   "execution_count": 6,
   "id": "e90f9973-bb29-46bf-921a-177ca3b20b8d",
   "metadata": {},
   "outputs": [
    {
     "data": {
      "text/plain": [
       "(1000, 6)"
      ]
     },
     "execution_count": 6,
     "metadata": {},
     "output_type": "execute_result"
    }
   ],
   "source": [
    "data.shape"
   ]
  },
  {
   "cell_type": "code",
   "execution_count": 7,
   "id": "76e47821-f1a0-4d41-865b-aa3ded1b5f5b",
   "metadata": {},
   "outputs": [],
   "source": [
    "x=data.values[:,0:4]\n",
    "y=data.values[:,5]"
   ]
  },
  {
   "cell_type": "code",
   "execution_count": 8,
   "id": "9ca5602c-30be-4210-b7c5-346fd3b84a45",
   "metadata": {},
   "outputs": [],
   "source": [
    "X_train, X_test, y_train, y_test = train_test_split(x, y, test_size=0.3, random_state=1000)"
   ]
  },
  {
   "cell_type": "code",
   "execution_count": 9,
   "id": "caf7008e-534c-488e-9393-b1821992d466",
   "metadata": {},
   "outputs": [],
   "source": [
    "clf_entropy=DecisionTreeClassifier(criterion='entropy',random_state=1000,max_depth=3,min_samples_leaf=5)"
   ]
  },
  {
   "cell_type": "code",
   "execution_count": 10,
   "id": "3688d5fa-0152-4bf2-8841-6409a96ee28d",
   "metadata": {},
   "outputs": [
    {
     "data": {
      "text/plain": [
       "DecisionTreeClassifier(criterion='entropy', max_depth=3, min_samples_leaf=5,\n",
       "                       random_state=1000)"
      ]
     },
     "execution_count": 10,
     "metadata": {},
     "output_type": "execute_result"
    }
   ],
   "source": [
    "clf_entropy.fit(X_train,y_train)"
   ]
  },
  {
   "cell_type": "code",
   "execution_count": 15,
   "id": "3d5d1491-f91a-4198-976f-112f7e191b4b",
   "metadata": {},
   "outputs": [
    {
     "data": {
      "text/plain": [
       "array([[458, 11876, 128, 4452],\n",
       "       [361, 10877, 688, 3655],\n",
       "       [292, 10456, 552, 4304],\n",
       "       ...,\n",
       "       [128, 10630, 182, 4049],\n",
       "       [261, 12346, 859, 4360],\n",
       "       [462, 10854, 705, 4987]], dtype=object)"
      ]
     },
     "execution_count": 15,
     "metadata": {},
     "output_type": "execute_result"
    }
   ],
   "source": [
    "X_train"
   ]
  },
  {
   "cell_type": "code",
   "execution_count": 24,
   "id": "2122aacf-4c32-4dc1-b5fb-f1ad3ad41741",
   "metadata": {},
   "outputs": [
    {
     "data": {
      "text/plain": [
       "array(['No', 'No', 'yes', 'yes', 'No', 'No', 'No', 'yes', 'No', 'No',\n",
       "       'No', 'No', 'yes', 'yes', 'yes', 'No', 'No', 'No', 'yes', 'No',\n",
       "       'No', 'yes', 'No', 'yes', 'No', 'No', 'No', 'yes', 'yes', 'No',\n",
       "       'No', 'No', 'yes', 'yes', 'No', 'yes', 'No', 'yes', 'No', 'yes',\n",
       "       'yes', 'yes', 'yes', 'yes', 'yes', 'No', 'No', 'No', 'yes', 'yes',\n",
       "       'yes', 'yes', 'No', 'No', 'No', 'yes', 'yes', 'No', 'No', 'yes',\n",
       "       'No', 'No', 'yes', 'No', 'yes', 'yes', 'yes', 'No', 'yes', 'No',\n",
       "       'yes', 'yes', 'yes', 'yes', 'No', 'yes', 'No', 'No', 'yes', 'yes',\n",
       "       'yes', 'No', 'yes', 'yes', 'No', 'No', 'yes', 'yes', 'yes', 'yes',\n",
       "       'yes', 'No', 'No', 'yes', 'No', 'yes', 'No', 'yes', 'No', 'No',\n",
       "       'yes', 'No', 'yes', 'No', 'No', 'No', 'yes', 'No', 'No', 'yes',\n",
       "       'No', 'yes', 'yes', 'No', 'No', 'No', 'yes', 'yes', 'No', 'No',\n",
       "       'No', 'No', 'No', 'No', 'No', 'yes', 'yes', 'yes', 'No', 'No',\n",
       "       'yes', 'yes', 'No', 'No', 'No', 'No', 'yes', 'No', 'No', 'No',\n",
       "       'yes', 'yes', 'yes', 'yes', 'yes', 'yes', 'No', 'No', 'yes', 'yes',\n",
       "       'yes', 'No', 'No', 'yes', 'yes', 'yes', 'yes', 'yes', 'No', 'No',\n",
       "       'yes', 'No', 'No', 'No', 'No', 'yes', 'No', 'yes', 'yes', 'yes',\n",
       "       'yes', 'yes', 'No', 'yes', 'No', 'yes', 'No', 'yes', 'No', 'yes',\n",
       "       'yes', 'No', 'yes', 'yes', 'yes', 'No', 'No', 'No', 'No', 'yes',\n",
       "       'yes', 'yes', 'yes', 'No', 'yes', 'yes', 'yes', 'No', 'yes', 'No',\n",
       "       'No', 'yes', 'No', 'No', 'No', 'No', 'No', 'No', 'No', 'yes',\n",
       "       'yes', 'No', 'No', 'yes', 'yes', 'yes', 'yes', 'yes', 'yes', 'No',\n",
       "       'No', 'yes', 'yes', 'No', 'yes', 'No', 'yes', 'No', 'No', 'No',\n",
       "       'yes', 'No', 'yes', 'No', 'No', 'No', 'yes', 'yes', 'yes', 'No',\n",
       "       'yes', 'No', 'No', 'yes', 'yes', 'yes', 'No', 'yes', 'yes', 'No',\n",
       "       'No', 'yes', 'No', 'No', 'No', 'yes', 'No', 'No', 'yes', 'No',\n",
       "       'No', 'yes', 'No', 'yes', 'No', 'yes', 'yes', 'yes', 'No', 'yes',\n",
       "       'yes', 'No', 'yes', 'No', 'No', 'No', 'No', 'No', 'yes', 'yes',\n",
       "       'No', 'No', 'yes', 'No', 'No', 'yes', 'No', 'yes', 'yes', 'No',\n",
       "       'yes', 'yes', 'yes', 'yes', 'No', 'No', 'No', 'No', 'No', 'No'],\n",
       "      dtype=object)"
      ]
     },
     "execution_count": 24,
     "metadata": {},
     "output_type": "execute_result"
    }
   ],
   "source": [
    "y_pred=clf_entropy.predict(X_test)\n",
    "y_pred"
   ]
  },
  {
   "cell_type": "code",
   "execution_count": 13,
   "id": "ae9da537-012e-4533-a51e-bcac6bb0f328",
   "metadata": {},
   "outputs": [
    {
     "name": "stdout",
     "output_type": "stream",
     "text": [
      "accuracy is 91.33333333333333\n"
     ]
    }
   ],
   "source": [
    "print('accuracy is' ,accuracy_score(y_test,y_pred)*100)"
   ]
  },
  {
   "cell_type": "code",
   "execution_count": null,
   "id": "f06c546c-b5ce-49e8-b10f-a43eadc415a4",
   "metadata": {},
   "outputs": [],
   "source": []
  }
 ],
 "metadata": {
  "kernelspec": {
   "display_name": "Python 3 (ipykernel)",
   "language": "python",
   "name": "python3"
  },
  "language_info": {
   "codemirror_mode": {
    "name": "ipython",
    "version": 3
   },
   "file_extension": ".py",
   "mimetype": "text/x-python",
   "name": "python",
   "nbconvert_exporter": "python",
   "pygments_lexer": "ipython3",
   "version": "3.9.13"
  }
 },
 "nbformat": 4,
 "nbformat_minor": 5
}
