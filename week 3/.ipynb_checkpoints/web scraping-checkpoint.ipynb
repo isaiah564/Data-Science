{
 "cells": [
  {
   "cell_type": "code",
   "execution_count": 6,
   "id": "290b0cb1-3571-4ed8-9b6b-34ae087e8510",
   "metadata": {},
   "outputs": [
    {
     "name": "stdout",
     "output_type": "stream",
     "text": [
      "Collecting package metadata (current_repodata.json): ...working... done\n",
      "Solving environment: ...working... done\n",
      "\n",
      "# All requested packages already installed.\n",
      "\n",
      "\n",
      "Note: you may need to restart the kernel to use updated packages.\n"
     ]
    }
   ],
   "source": [
    "conda install -c anaconda beautifulsoup4"
   ]
  },
  {
   "cell_type": "code",
   "execution_count": 7,
   "id": "2708a9ab-426e-47ab-9f36-da08157e0937",
   "metadata": {},
   "outputs": [
    {
     "name": "stdout",
     "output_type": "stream",
     "text": [
      "Collecting bs4\n",
      "  Downloading bs4-0.0.1.tar.gz (1.1 kB)\n",
      "  Preparing metadata (setup.py): started\n",
      "  Preparing metadata (setup.py): finished with status 'done'\n",
      "Requirement already satisfied: beautifulsoup4 in c:\\users\\admin\\anaconda3\\lib\\site-packages (from bs4) (4.11.1)\n",
      "Requirement already satisfied: soupsieve>1.2 in c:\\users\\admin\\anaconda3\\lib\\site-packages (from beautifulsoup4->bs4) (2.3.1)\n",
      "Building wheels for collected packages: bs4\n",
      "  Building wheel for bs4 (setup.py): started\n",
      "  Building wheel for bs4 (setup.py): finished with status 'done'\n",
      "  Created wheel for bs4: filename=bs4-0.0.1-py3-none-any.whl size=1257 sha256=dd92bf7e274035d68659146782be592338ce4f3f759165ddddadb7c5fadd2918\n",
      "  Stored in directory: c:\\users\\admin\\appdata\\local\\pip\\cache\\wheels\\73\\2b\\cb\\099980278a0c9a3e57ff1a89875ec07bfa0b6fcbebb9a8cad3\n",
      "Successfully built bs4\n",
      "Installing collected packages: bs4\n",
      "Successfully installed bs4-0.0.1\n",
      "Note: you may need to restart the kernel to use updated packages.\n"
     ]
    }
   ],
   "source": [
    "pip install bs4"
   ]
  },
  {
   "cell_type": "code",
   "execution_count": 2,
   "id": "58d90aee-6d8f-4e40-8be2-67b70e81ae37",
   "metadata": {},
   "outputs": [],
   "source": [
    "from bs4 import BeautifulSoup as bs\n",
    "import requests\n"
   ]
  },
  {
   "cell_type": "code",
   "execution_count": 3,
   "id": "c08ab34b-08e3-4ea1-b059-519e664e78dc",
   "metadata": {},
   "outputs": [],
   "source": [
    "link='https://www.amazon.com/dp/B07XWGWPH5/ref=sspa_dk_detail_2?pd_rd_i=B07XWGWPH5&pd_rd_w=wnfUn&content-id=amzn1.sym.56b6d1e1-8781-4e32-a7bc-5298ad4b88ac&pf_rd_p=56b6d1e1-8781-4e32-a7bc-5298ad4b88ac&pf_rd_r=S980R6D7WWS998FHRDE0&pd_rd_wg=1Spfn&pd_rd_r=b0f53853-6486-4800-ac19-ff241782a3e0&s=wireless&sp_csd=d2lkZ2V0TmFtZT1zcF9kZXRhaWwy&spLa=ZW5jcnlwdGVkUXVhbGlmaWVyPUExMjFNUFg0QlYxVlpRJmVuY3J5cHRlZElkPUExMDQ3NzgyMTFWTU83TDM5U0JJOCZlbmNyeXB0ZWRBZElkPUEwMzkxOTA1SERITEhNRUdYTFJVJndpZGdldE5hbWU9c3BfZGV0YWlsMiZhY3Rpb249Y2xpY2tSZWRpcmVjdCZkb05vdExvZ0NsaWNrPXRydWU&th=1'"
   ]
  },
  {
   "cell_type": "code",
   "execution_count": 4,
   "id": "f5f6b973-7503-4c99-8f13-8d688a54facd",
   "metadata": {},
   "outputs": [],
   "source": [
    "page=requests.get(link)"
   ]
  },
  {
   "cell_type": "code",
   "execution_count": 5,
   "id": "875e1a98-48b2-4a61-b948-0a67ad3eb2a2",
   "metadata": {},
   "outputs": [
    {
     "data": {
      "text/plain": [
       "<Response [503]>"
      ]
     },
     "execution_count": 5,
     "metadata": {},
     "output_type": "execute_result"
    }
   ],
   "source": [
    "page"
   ]
  },
  {
   "cell_type": "code",
   "execution_count": 6,
   "id": "b0a8fc8b-679d-4ebf-ab97-98da1a82ec0e",
   "metadata": {},
   "outputs": [
    {
     "data": {
      "text/plain": [
       "b'<!--\\n        To discuss automated access to Amazon data please contact api-services-support@amazon.com.\\n        For information about migrating to our APIs refer to our Marketplace APIs at https://developer.amazonservices.com/ref=rm_5_sv, or our Product Advertising API at https://affiliate-program.amazon.com/gp/advertising/api/detail/main.html/ref=rm_5_ac for advertising use cases.\\n-->\\n<!doctype html>\\n<html>\\n<head>\\n  <meta charset=\"utf-8\">\\n  <meta http-equiv=\"x-ua-compatible\" content=\"ie=edge\">\\n  <meta name=\"viewport\" content=\"width=device-width, initial-scale=1, shrink-to-fit=no\">\\n  <title>Sorry! Something went wrong!</title>\\n  <style>\\n  html, body {\\n    padding: 0;\\n    margin: 0\\n  }\\n\\n  img {\\n    border: 0\\n  }\\n\\n  #a {\\n    background: #232f3e;\\n    padding: 11px 11px 11px 192px\\n  }\\n\\n  #b {\\n    position: absolute;\\n    left: 22px;\\n    top: 12px\\n  }\\n\\n  #c {\\n    position: relative;\\n    max-width: 800px;\\n    padding: 0 40px 0 0\\n  }\\n\\n  #e, #f {\\n    height: 35px;\\n    border: 0;\\n    font-size: 1em\\n  }\\n\\n  #e {\\n    width: 100%;\\n    margin: 0;\\n    padding: 0 10px;\\n    border-radius: 4px 0 0 4px\\n  }\\n\\n  #f {\\n    cursor: pointer;\\n    background: #febd69;\\n    font-weight: bold;\\n    border-radius: 0 4px 4px 0;\\n    -webkit-appearance: none;\\n    position: absolute;\\n    top: 0;\\n    right: 0;\\n    padding: 0 12px\\n  }\\n\\n  @media (max-width: 500px) {\\n    #a {\\n      padding: 55px 10px 10px\\n    }\\n\\n    #b {\\n      left: 6px\\n    }\\n  }\\n\\n  #g {\\n    text-align: center;\\n    margin: 30px 0\\n  }\\n\\n  #g img {\\n    max-width: 90%\\n  }\\n\\n  #d {\\n    display: none\\n  }\\n\\n  #d[src] {\\n    display: inline\\n  }\\n  </style>\\n</head>\\n<body>\\n    <a href=\"/ref=cs_503_logo\"><img id=\"b\" src=\"https://images-na.ssl-images-amazon.com/images/G/01/error/logo._TTD_.png\" alt=\"Amazon.com\"></a>\\n    <form id=\"a\" accept-charset=\"utf-8\" action=\"/s\" method=\"GET\" role=\"search\">\\n        <div id=\"c\">\\n            <input id=\"e\" name=\"field-keywords\" placeholder=\"Search\">\\n            <input name=\"ref\" type=\"hidden\" value=\"cs_503_search\">\\n            <input id=\"f\" type=\"submit\" value=\"Go\">\\n        </div>\\n    </form>\\n<div id=\"g\">\\n  <div><a href=\"/ref=cs_503_link\"><img src=\"https://images-na.ssl-images-amazon.com/images/G/01/error/500_503.png\"\\n                                        alt=\"Sorry! Something went wrong on our end. Please go back and try again or go to Amazon\\'s home page.\"></a>\\n  </div>\\n  <a href=\"/dogsofamazon/ref=cs_503_d\" target=\"_blank\" rel=\"noopener noreferrer\"><img id=\"d\" alt=\"Dogs of Amazon\"></a>\\n  <script>document.getElementById(\"d\").src = \"https://images-na.ssl-images-amazon.com/images/G/01/error/\" + (Math.floor(Math.random() * 43) + 1) + \"._TTD_.jpg\";</script>\\n</div>\\n</body>\\n</html>\\n'"
      ]
     },
     "execution_count": 6,
     "metadata": {},
     "output_type": "execute_result"
    }
   ],
   "source": [
    "page.content"
   ]
  },
  {
   "cell_type": "code",
   "execution_count": 7,
   "id": "dcca57a3-4435-41b5-844d-37ba6c3a0b43",
   "metadata": {},
   "outputs": [],
   "source": [
    "soup= bs(page.content,'html.parser')"
   ]
  },
  {
   "cell_type": "code",
   "execution_count": 8,
   "id": "c63a2211-f3ed-4c1f-8829-4cd53820170b",
   "metadata": {},
   "outputs": [
    {
     "name": "stdout",
     "output_type": "stream",
     "text": [
      "<!--\n",
      "        To discuss automated access to Amazon data please contact api-services-support@amazon.com.\n",
      "        For information about migrating to our APIs refer to our Marketplace APIs at https://developer.amazonservices.com/ref=rm_5_sv, or our Product Advertising API at https://affiliate-program.amazon.com/gp/advertising/api/detail/main.html/ref=rm_5_ac for advertising use cases.\n",
      "-->\n",
      "<!DOCTYPE html>\n",
      "<html>\n",
      " <head>\n",
      "  <meta charset=\"utf-8\"/>\n",
      "  <meta content=\"ie=edge\" http-equiv=\"x-ua-compatible\"/>\n",
      "  <meta content=\"width=device-width, initial-scale=1, shrink-to-fit=no\" name=\"viewport\"/>\n",
      "  <title>\n",
      "   Sorry! Something went wrong!\n",
      "  </title>\n",
      "  <style>\n",
      "   html, body {\n",
      "    padding: 0;\n",
      "    margin: 0\n",
      "  }\n",
      "\n",
      "  img {\n",
      "    border: 0\n",
      "  }\n",
      "\n",
      "  #a {\n",
      "    background: #232f3e;\n",
      "    padding: 11px 11px 11px 192px\n",
      "  }\n",
      "\n",
      "  #b {\n",
      "    position: absolute;\n",
      "    left: 22px;\n",
      "    top: 12px\n",
      "  }\n",
      "\n",
      "  #c {\n",
      "    position: relative;\n",
      "    max-width: 800px;\n",
      "    padding: 0 40px 0 0\n",
      "  }\n",
      "\n",
      "  #e, #f {\n",
      "    height: 35px;\n",
      "    border: 0;\n",
      "    font-size: 1em\n",
      "  }\n",
      "\n",
      "  #e {\n",
      "    width: 100%;\n",
      "    margin: 0;\n",
      "    padding: 0 10px;\n",
      "    border-radius: 4px 0 0 4px\n",
      "  }\n",
      "\n",
      "  #f {\n",
      "    cursor: pointer;\n",
      "    background: #febd69;\n",
      "    font-weight: bold;\n",
      "    border-radius: 0 4px 4px 0;\n",
      "    -webkit-appearance: none;\n",
      "    position: absolute;\n",
      "    top: 0;\n",
      "    right: 0;\n",
      "    padding: 0 12px\n",
      "  }\n",
      "\n",
      "  @media (max-width: 500px) {\n",
      "    #a {\n",
      "      padding: 55px 10px 10px\n",
      "    }\n",
      "\n",
      "    #b {\n",
      "      left: 6px\n",
      "    }\n",
      "  }\n",
      "\n",
      "  #g {\n",
      "    text-align: center;\n",
      "    margin: 30px 0\n",
      "  }\n",
      "\n",
      "  #g img {\n",
      "    max-width: 90%\n",
      "  }\n",
      "\n",
      "  #d {\n",
      "    display: none\n",
      "  }\n",
      "\n",
      "  #d[src] {\n",
      "    display: inline\n",
      "  }\n",
      "  </style>\n",
      " </head>\n",
      " <body>\n",
      "  <a href=\"/ref=cs_503_logo\">\n",
      "   <img alt=\"Amazon.com\" id=\"b\" src=\"https://images-na.ssl-images-amazon.com/images/G/01/error/logo._TTD_.png\"/>\n",
      "  </a>\n",
      "  <form accept-charset=\"utf-8\" action=\"/s\" id=\"a\" method=\"GET\" role=\"search\">\n",
      "   <div id=\"c\">\n",
      "    <input id=\"e\" name=\"field-keywords\" placeholder=\"Search\"/>\n",
      "    <input name=\"ref\" type=\"hidden\" value=\"cs_503_search\"/>\n",
      "    <input id=\"f\" type=\"submit\" value=\"Go\"/>\n",
      "   </div>\n",
      "  </form>\n",
      "  <div id=\"g\">\n",
      "   <div>\n",
      "    <a href=\"/ref=cs_503_link\">\n",
      "     <img alt=\"Sorry! Something went wrong on our end. Please go back and try again or go to Amazon's home page.\" src=\"https://images-na.ssl-images-amazon.com/images/G/01/error/500_503.png\"/>\n",
      "    </a>\n",
      "   </div>\n",
      "   <a href=\"/dogsofamazon/ref=cs_503_d\" rel=\"noopener noreferrer\" target=\"_blank\">\n",
      "    <img alt=\"Dogs of Amazon\" id=\"d\"/>\n",
      "   </a>\n",
      "   <script>\n",
      "    document.getElementById(\"d\").src = \"https://images-na.ssl-images-amazon.com/images/G/01/error/\" + (Math.floor(Math.random() * 43) + 1) + \"._TTD_.jpg\";\n",
      "   </script>\n",
      "  </div>\n",
      " </body>\n",
      "</html>\n",
      "\n"
     ]
    }
   ],
   "source": [
    "print(soup.prettify())"
   ]
  },
  {
   "cell_type": "code",
   "execution_count": 13,
   "id": "4a584374-4d4b-4a6d-b694-83f11003947d",
   "metadata": {},
   "outputs": [
    {
     "data": {
      "text/plain": [
       "[]"
      ]
     },
     "execution_count": 13,
     "metadata": {},
     "output_type": "execute_result"
    }
   ],
   "source": [
    "names=soup.find_all('span',class_=\"a-profile-name\")\n",
    "names"
   ]
  },
  {
   "cell_type": "code",
   "execution_count": 12,
   "id": "79bd4e25-c1ba-48d9-b2d8-0759d16940a5",
   "metadata": {},
   "outputs": [
    {
     "data": {
      "text/plain": [
       "0"
      ]
     },
     "execution_count": 12,
     "metadata": {},
     "output_type": "execute_result"
    }
   ],
   "source": [
    "len(names)"
   ]
  },
  {
   "cell_type": "code",
   "execution_count": 13,
   "id": "ae8ac301-fe59-4481-af1c-6621be12539f",
   "metadata": {},
   "outputs": [],
   "source": [
    "cust_name=[]\n",
    "for i in range(0,len(names)):\n",
    "    cust_name.append(names[i].get_text())"
   ]
  },
  {
   "cell_type": "code",
   "execution_count": 14,
   "id": "b49f17d6-f800-408b-b7a1-82f74df09890",
   "metadata": {},
   "outputs": [
    {
     "data": {
      "text/plain": [
       "[]"
      ]
     },
     "execution_count": 14,
     "metadata": {},
     "output_type": "execute_result"
    }
   ],
   "source": [
    "cust_name"
   ]
  },
  {
   "cell_type": "markdown",
   "id": "27394d8c-1514-497b-a2a1-cd71ccced59b",
   "metadata": {},
   "source": [
    "# using pandas to extract html tables"
   ]
  },
  {
   "cell_type": "code",
   "execution_count": 1,
   "id": "2eb1df68-9108-4a5c-a4d6-6936dfe26aad",
   "metadata": {},
   "outputs": [],
   "source": [
    "import requests\n",
    "from bs4 import BeautifulSoup\n",
    "import pandas as pd"
   ]
  },
  {
   "cell_type": "code",
   "execution_count": 2,
   "id": "3765a494-11b9-4dca-b928-2a5c792a1896",
   "metadata": {},
   "outputs": [],
   "source": [
    "base_site='https://en.wikipedia.org/wiki/List_of_national_capitals_by_population'\n"
   ]
  },
  {
   "cell_type": "code",
   "execution_count": 3,
   "id": "e6709f41-644a-4ab0-82db-89abbe2e2cb7",
   "metadata": {},
   "outputs": [],
   "source": [
    "tables=pd.read_html(base_site)"
   ]
  },
  {
   "cell_type": "code",
   "execution_count": 4,
   "id": "4b64b159-4fd4-47ee-8f6e-bca526946cbe",
   "metadata": {},
   "outputs": [
    {
     "data": {
      "text/plain": [
       "pandas.core.frame.DataFrame"
      ]
     },
     "execution_count": 4,
     "metadata": {},
     "output_type": "execute_result"
    }
   ],
   "source": [
    "type(tables[0])"
   ]
  },
  {
   "cell_type": "code",
   "execution_count": 5,
   "id": "6ebd9828-2419-4b0a-a95f-12abd7d5619f",
   "metadata": {},
   "outputs": [
    {
     "data": {
      "text/plain": [
       "4"
      ]
     },
     "execution_count": 5,
     "metadata": {},
     "output_type": "execute_result"
    }
   ],
   "source": [
    "len(tables)"
   ]
  },
  {
   "cell_type": "code",
   "execution_count": 6,
   "id": "8a1f46e0-b945-48d6-afb3-d8db934569fc",
   "metadata": {},
   "outputs": [
    {
     "data": {
      "text/html": [
       "<div>\n",
       "<style scoped>\n",
       "    .dataframe tbody tr th:only-of-type {\n",
       "        vertical-align: middle;\n",
       "    }\n",
       "\n",
       "    .dataframe tbody tr th {\n",
       "        vertical-align: top;\n",
       "    }\n",
       "\n",
       "    .dataframe thead th {\n",
       "        text-align: right;\n",
       "    }\n",
       "</style>\n",
       "<table border=\"1\" class=\"dataframe\">\n",
       "  <thead>\n",
       "    <tr style=\"text-align: right;\">\n",
       "      <th></th>\n",
       "      <th>Country (or territory)</th>\n",
       "      <th>Capital</th>\n",
       "      <th>Population</th>\n",
       "      <th>% of country</th>\n",
       "      <th>Source</th>\n",
       "    </tr>\n",
       "  </thead>\n",
       "  <tbody>\n",
       "    <tr>\n",
       "      <th>0</th>\n",
       "      <td>China *</td>\n",
       "      <td>Beijing</td>\n",
       "      <td>21542000</td>\n",
       "      <td>NaN</td>\n",
       "      <td>[1] 2018</td>\n",
       "    </tr>\n",
       "    <tr>\n",
       "      <th>1</th>\n",
       "      <td>Japan *</td>\n",
       "      <td>Tokyo</td>\n",
       "      <td>13921000</td>\n",
       "      <td>NaN</td>\n",
       "      <td>[2] 2019</td>\n",
       "    </tr>\n",
       "    <tr>\n",
       "      <th>2</th>\n",
       "      <td>DR Congo</td>\n",
       "      <td>Kinshasa</td>\n",
       "      <td>12691000</td>\n",
       "      <td>NaN</td>\n",
       "      <td>[3] 2017</td>\n",
       "    </tr>\n",
       "    <tr>\n",
       "      <th>3</th>\n",
       "      <td>Russia *</td>\n",
       "      <td>Moscow</td>\n",
       "      <td>12655050</td>\n",
       "      <td>NaN</td>\n",
       "      <td>[4] 2021</td>\n",
       "    </tr>\n",
       "    <tr>\n",
       "      <th>4</th>\n",
       "      <td>Indonesia *</td>\n",
       "      <td>Jakarta</td>\n",
       "      <td>10562088</td>\n",
       "      <td>NaN</td>\n",
       "      <td>[5] 2020</td>\n",
       "    </tr>\n",
       "    <tr>\n",
       "      <th>...</th>\n",
       "      <td>...</td>\n",
       "      <td>...</td>\n",
       "      <td>...</td>\n",
       "      <td>...</td>\n",
       "      <td>...</td>\n",
       "    </tr>\n",
       "    <tr>\n",
       "      <th>235</th>\n",
       "      <td>Norfolk Island (Australia)</td>\n",
       "      <td>Kingston</td>\n",
       "      <td>341</td>\n",
       "      <td>NaN</td>\n",
       "      <td>2015</td>\n",
       "    </tr>\n",
       "    <tr>\n",
       "      <th>236</th>\n",
       "      <td>Palau</td>\n",
       "      <td>Ngerulmud</td>\n",
       "      <td>271</td>\n",
       "      <td>NaN</td>\n",
       "      <td>2010</td>\n",
       "    </tr>\n",
       "    <tr>\n",
       "      <th>237</th>\n",
       "      <td>Cocos (Keeling) Islands (Australia)</td>\n",
       "      <td>West Island</td>\n",
       "      <td>134</td>\n",
       "      <td>NaN</td>\n",
       "      <td>2011</td>\n",
       "    </tr>\n",
       "    <tr>\n",
       "      <th>238</th>\n",
       "      <td>Pitcairn Islands (UK)</td>\n",
       "      <td>Adamstown</td>\n",
       "      <td>40</td>\n",
       "      <td>NaN</td>\n",
       "      <td>2021</td>\n",
       "    </tr>\n",
       "    <tr>\n",
       "      <th>239</th>\n",
       "      <td>South Georgia and the South Sandwich Islands (UK)</td>\n",
       "      <td>King Edward Point</td>\n",
       "      <td>22</td>\n",
       "      <td>NaN</td>\n",
       "      <td>2018</td>\n",
       "    </tr>\n",
       "  </tbody>\n",
       "</table>\n",
       "<p>240 rows × 5 columns</p>\n",
       "</div>"
      ],
      "text/plain": [
       "                                Country (or territory)            Capital  \\\n",
       "0                                              China *            Beijing   \n",
       "1                                              Japan *              Tokyo   \n",
       "2                                             DR Congo           Kinshasa   \n",
       "3                                             Russia *             Moscow   \n",
       "4                                          Indonesia *            Jakarta   \n",
       "..                                                 ...                ...   \n",
       "235                         Norfolk Island (Australia)           Kingston   \n",
       "236                                              Palau          Ngerulmud   \n",
       "237                Cocos (Keeling) Islands (Australia)        West Island   \n",
       "238                              Pitcairn Islands (UK)          Adamstown   \n",
       "239  South Georgia and the South Sandwich Islands (UK)  King Edward Point   \n",
       "\n",
       "     Population % of country    Source  \n",
       "0      21542000          NaN  [1] 2018  \n",
       "1      13921000          NaN  [2] 2019  \n",
       "2      12691000          NaN  [3] 2017  \n",
       "3      12655050          NaN  [4] 2021  \n",
       "4      10562088          NaN  [5] 2020  \n",
       "..          ...          ...       ...  \n",
       "235         341          NaN      2015  \n",
       "236         271          NaN      2010  \n",
       "237         134          NaN      2011  \n",
       "238          40          NaN      2021  \n",
       "239          22          NaN      2018  \n",
       "\n",
       "[240 rows x 5 columns]"
      ]
     },
     "execution_count": 6,
     "metadata": {},
     "output_type": "execute_result"
    }
   ],
   "source": [
    "tables[1]"
   ]
  },
  {
   "cell_type": "code",
   "execution_count": 9,
   "id": "43ef1b76-c836-4a9d-8dd1-df5b6fe70d1f",
   "metadata": {},
   "outputs": [
    {
     "data": {
      "text/plain": [
       "Index(['Country (or territory)', 'Capital', 'Population', '% of country',\n",
       "       'Source'],\n",
       "      dtype='object')"
      ]
     },
     "execution_count": 9,
     "metadata": {},
     "output_type": "execute_result"
    }
   ],
   "source": [
    "tables[1].columns"
   ]
  },
  {
   "cell_type": "code",
   "execution_count": 11,
   "id": "e40c8f20-1aa2-42a3-ae8d-9804c59d47f3",
   "metadata": {},
   "outputs": [
    {
     "data": {
      "text/plain": [
       "Country (or territory)    240\n",
       "Capital                   239\n",
       "Population                239\n",
       "% of country                2\n",
       "Source                    105\n",
       "dtype: int64"
      ]
     },
     "execution_count": 11,
     "metadata": {},
     "output_type": "execute_result"
    }
   ],
   "source": [
    "tables[1].nunique()"
   ]
  },
  {
   "cell_type": "code",
   "execution_count": null,
   "id": "13877a6b-d233-4c8c-94a4-52d90ff9d941",
   "metadata": {},
   "outputs": [],
   "source": []
  }
 ],
 "metadata": {
  "kernelspec": {
   "display_name": "Python 3 (ipykernel)",
   "language": "python",
   "name": "python3"
  },
  "language_info": {
   "codemirror_mode": {
    "name": "ipython",
    "version": 3
   },
   "file_extension": ".py",
   "mimetype": "text/x-python",
   "name": "python",
   "nbconvert_exporter": "python",
   "pygments_lexer": "ipython3",
   "version": "3.9.13"
  }
 },
 "nbformat": 4,
 "nbformat_minor": 5
}
