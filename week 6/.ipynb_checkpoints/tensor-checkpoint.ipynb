{
 "cells": [
  {
   "cell_type": "markdown",
   "id": "d3910ddf-9dbb-4c74-8732-6e3c93728dad",
   "metadata": {},
   "source": [
    "## import relevant libaries"
   ]
  },
  {
   "cell_type": "code",
   "execution_count": 3,
   "id": "355251a9-5f1a-48b3-826c-e53b7a6ce9f0",
   "metadata": {},
   "outputs": [],
   "source": [
    "import numpy as np"
   ]
  },
  {
   "cell_type": "markdown",
   "id": "31fa12d3-508b-487e-a90d-77d3dfed2466",
   "metadata": {},
   "source": [
    "### creating a tensor"
   ]
  },
  {
   "cell_type": "code",
   "execution_count": 4,
   "id": "c54ac488-53ef-43ac-b51d-567c5a013429",
   "metadata": {},
   "outputs": [],
   "source": [
    "m1=np.array([[5,7,9],[8,6,5]])"
   ]
  },
  {
   "cell_type": "code",
   "execution_count": 5,
   "id": "ab891a49-8a0d-418a-a5bd-087f1ff83d35",
   "metadata": {},
   "outputs": [
    {
     "data": {
      "text/plain": [
       "array([[5, 7, 9],\n",
       "       [8, 6, 5]])"
      ]
     },
     "execution_count": 5,
     "metadata": {},
     "output_type": "execute_result"
    }
   ],
   "source": [
    "m1"
   ]
  },
  {
   "cell_type": "code",
   "execution_count": 6,
   "id": "c847fd1b-7c3d-411a-82b8-42faa3c5b83b",
   "metadata": {},
   "outputs": [
    {
     "data": {
      "text/plain": [
       "array([[9, 3, 1],\n",
       "       [6, 4, 0]])"
      ]
     },
     "execution_count": 6,
     "metadata": {},
     "output_type": "execute_result"
    }
   ],
   "source": [
    "m2=np.array([[9,3,1],[6,4,0]])\n",
    "m2"
   ]
  },
  {
   "cell_type": "code",
   "execution_count": 7,
   "id": "1c5dc139-6e4a-4988-8886-643213a44e3f",
   "metadata": {},
   "outputs": [],
   "source": [
    "t=np.array([m1,m2])"
   ]
  },
  {
   "cell_type": "code",
   "execution_count": 8,
   "id": "6c8c9a70-96a7-4de9-b021-4119dc3c0826",
   "metadata": {},
   "outputs": [
    {
     "data": {
      "text/plain": [
       "array([[[5, 7, 9],\n",
       "        [8, 6, 5]],\n",
       "\n",
       "       [[9, 3, 1],\n",
       "        [6, 4, 0]]])"
      ]
     },
     "execution_count": 8,
     "metadata": {},
     "output_type": "execute_result"
    }
   ],
   "source": [
    "t"
   ]
  },
  {
   "cell_type": "markdown",
   "id": "88f8028f-6de5-48e4-b303-c57ece188694",
   "metadata": {},
   "source": [
    "### checking its shape"
   ]
  },
  {
   "cell_type": "code",
   "execution_count": 9,
   "id": "3563d0b8-5dd4-4de3-af26-aa2a97921499",
   "metadata": {},
   "outputs": [
    {
     "data": {
      "text/plain": [
       "(2, 2, 3)"
      ]
     },
     "execution_count": 9,
     "metadata": {},
     "output_type": "execute_result"
    }
   ],
   "source": [
    "t.shape"
   ]
  },
  {
   "cell_type": "markdown",
   "id": "f69d78a3-ba77-45b8-8540-445a2cb86103",
   "metadata": {},
   "source": [
    "### manually creating a tensor"
   ]
  },
  {
   "cell_type": "code",
   "execution_count": 10,
   "id": "c2b1c64a-bd95-410c-ab6c-59d7fcd96220",
   "metadata": {},
   "outputs": [],
   "source": [
    "t_manual=np.array([[[9,0,6],[8,9,5]],[[76,5,4],[3,45,7]],[[45,56,90],[98,6,7]]])"
   ]
  },
  {
   "cell_type": "code",
   "execution_count": 11,
   "id": "d20f6b97-50df-416d-ba62-826a4d6e1511",
   "metadata": {},
   "outputs": [
    {
     "data": {
      "text/plain": [
       "array([[[ 9,  0,  6],\n",
       "        [ 8,  9,  5]],\n",
       "\n",
       "       [[76,  5,  4],\n",
       "        [ 3, 45,  7]],\n",
       "\n",
       "       [[45, 56, 90],\n",
       "        [98,  6,  7]]])"
      ]
     },
     "execution_count": 11,
     "metadata": {},
     "output_type": "execute_result"
    }
   ],
   "source": [
    "t_manual"
   ]
  },
  {
   "cell_type": "markdown",
   "id": "7f7278e0-c548-4cd1-b751-bc22f7de9403",
   "metadata": {},
   "source": [
    "### adding and subtracting"
   ]
  },
  {
   "cell_type": "code",
   "execution_count": 12,
   "id": "e8cbfd24-73ae-4256-8ade-ae09b3255a12",
   "metadata": {},
   "outputs": [],
   "source": [
    "m3=m1-m2"
   ]
  },
  {
   "cell_type": "code",
   "execution_count": 13,
   "id": "5c394822-615b-4a1f-89cd-76dcf724b24f",
   "metadata": {},
   "outputs": [
    {
     "data": {
      "text/plain": [
       "array([[-4,  4,  8],\n",
       "       [ 2,  2,  5]])"
      ]
     },
     "execution_count": 13,
     "metadata": {},
     "output_type": "execute_result"
    }
   ],
   "source": [
    "m3"
   ]
  },
  {
   "cell_type": "markdown",
   "id": "6e28dcc3-24e4-43b7-91e7-fc8920229375",
   "metadata": {},
   "source": [
    "## transposing matrices"
   ]
  },
  {
   "cell_type": "code",
   "execution_count": 14,
   "id": "14ee6e62-7ee6-49ee-8507-4b711b6c3421",
   "metadata": {},
   "outputs": [],
   "source": [
    "mk=m1.T"
   ]
  },
  {
   "cell_type": "code",
   "execution_count": 16,
   "id": "cd8943ea-8c20-4627-b0fd-c2766f6f13a5",
   "metadata": {},
   "outputs": [
    {
     "data": {
      "text/plain": [
       "array([[5, 7, 9],\n",
       "       [8, 6, 5]])"
      ]
     },
     "execution_count": 16,
     "metadata": {},
     "output_type": "execute_result"
    }
   ],
   "source": [
    "m1"
   ]
  },
  {
   "cell_type": "code",
   "execution_count": 15,
   "id": "882cb337-4d1b-4710-86fa-456db27ecef2",
   "metadata": {},
   "outputs": [
    {
     "data": {
      "text/plain": [
       "array([[5, 8],\n",
       "       [7, 6],\n",
       "       [9, 5]])"
      ]
     },
     "execution_count": 15,
     "metadata": {},
     "output_type": "execute_result"
    }
   ],
   "source": [
    "mk"
   ]
  },
  {
   "cell_type": "code",
   "execution_count": 17,
   "id": "698b0dea-618d-497b-8e0c-1bb09682936b",
   "metadata": {},
   "outputs": [
    {
     "data": {
      "text/plain": [
       "array([[9, 3, 1],\n",
       "       [6, 4, 0]])"
      ]
     },
     "execution_count": 17,
     "metadata": {},
     "output_type": "execute_result"
    }
   ],
   "source": [
    "m2"
   ]
  },
  {
   "cell_type": "code",
   "execution_count": 18,
   "id": "53a8ea3b-dc43-44ed-adf2-35ead3755e5b",
   "metadata": {},
   "outputs": [
    {
     "data": {
      "text/plain": [
       "array([[9, 6],\n",
       "       [3, 4],\n",
       "       [1, 0]])"
      ]
     },
     "execution_count": 18,
     "metadata": {},
     "output_type": "execute_result"
    }
   ],
   "source": [
    "m2.T"
   ]
  },
  {
   "cell_type": "markdown",
   "id": "61a29e8a-b63d-4321-ae3a-022d66c71be0",
   "metadata": {},
   "source": [
    "### transposing scalars"
   ]
  },
  {
   "cell_type": "code",
   "execution_count": 20,
   "id": "346e83e0-2688-4559-bd70-a796bde86ce6",
   "metadata": {},
   "outputs": [],
   "source": [
    "s=np.array([9])"
   ]
  },
  {
   "cell_type": "code",
   "execution_count": 21,
   "id": "7b7e64a6-f111-475f-a7e5-a0de1d1905f5",
   "metadata": {},
   "outputs": [
    {
     "data": {
      "text/plain": [
       "array([9])"
      ]
     },
     "execution_count": 21,
     "metadata": {},
     "output_type": "execute_result"
    }
   ],
   "source": [
    "s.T"
   ]
  },
  {
   "cell_type": "markdown",
   "id": "76a7fd38-43c6-4e6a-991a-ebd8afd9c959",
   "metadata": {},
   "source": [
    "#### transposing vectors"
   ]
  },
  {
   "cell_type": "code",
   "execution_count": 22,
   "id": "34eea4f3-7f82-4ea4-80c3-4d4d5141fb2c",
   "metadata": {},
   "outputs": [
    {
     "data": {
      "text/plain": [
       "array([7, 4, 6])"
      ]
     },
     "execution_count": 22,
     "metadata": {},
     "output_type": "execute_result"
    }
   ],
   "source": [
    "x=np.array([7,4,6])\n",
    "x"
   ]
  },
  {
   "cell_type": "code",
   "execution_count": 23,
   "id": "7325ec28-c4b9-4837-8419-d2ead16d6f77",
   "metadata": {},
   "outputs": [
    {
     "data": {
      "text/plain": [
       "array([7, 4, 6])"
      ]
     },
     "execution_count": 23,
     "metadata": {},
     "output_type": "execute_result"
    }
   ],
   "source": [
    "x.T"
   ]
  },
  {
   "cell_type": "code",
   "execution_count": 24,
   "id": "d6835ad6-086d-4a06-b93e-8f31941355b0",
   "metadata": {},
   "outputs": [
    {
     "data": {
      "text/plain": [
       "(3,)"
      ]
     },
     "execution_count": 24,
     "metadata": {},
     "output_type": "execute_result"
    }
   ],
   "source": [
    "x.shape"
   ]
  },
  {
   "cell_type": "code",
   "execution_count": 25,
   "id": "93329be6-4f2e-4d00-933d-a9d0695240f0",
   "metadata": {},
   "outputs": [],
   "source": [
    "x_reshaped=x.reshape(1,3)"
   ]
  },
  {
   "cell_type": "code",
   "execution_count": 26,
   "id": "ede42897-cdfc-42c4-ad4f-881b233fad48",
   "metadata": {},
   "outputs": [
    {
     "data": {
      "text/plain": [
       "array([[7, 4, 6]])"
      ]
     },
     "execution_count": 26,
     "metadata": {},
     "output_type": "execute_result"
    }
   ],
   "source": [
    "x_reshaped"
   ]
  },
  {
   "cell_type": "code",
   "execution_count": 27,
   "id": "844c76e9-1561-47d7-8f99-6decb840b629",
   "metadata": {},
   "outputs": [
    {
     "data": {
      "text/plain": [
       "array([[7],\n",
       "       [4],\n",
       "       [6]])"
      ]
     },
     "execution_count": 27,
     "metadata": {},
     "output_type": "execute_result"
    }
   ],
   "source": [
    "x_reshaped.T"
   ]
  },
  {
   "cell_type": "markdown",
   "id": "51af9009-8b7f-4fed-9621-03b38def58cb",
   "metadata": {},
   "source": [
    "## multiplication"
   ]
  },
  {
   "cell_type": "markdown",
   "id": "6c339ab2-4ae6-4590-9116-8b7f37e69da7",
   "metadata": {},
   "source": [
    "### dot product"
   ]
  },
  {
   "cell_type": "code",
   "execution_count": 29,
   "id": "39bde359-18d4-414d-86df-f51bbee68d04",
   "metadata": {},
   "outputs": [],
   "source": [
    "x=np.array([4,5,8])\n",
    "y=np.array([3,2,6])"
   ]
  },
  {
   "cell_type": "code",
   "execution_count": 30,
   "id": "52dcec71-7440-4b1f-a9b9-c5c1daa3b118",
   "metadata": {},
   "outputs": [
    {
     "data": {
      "text/plain": [
       "70"
      ]
     },
     "execution_count": 30,
     "metadata": {},
     "output_type": "execute_result"
    }
   ],
   "source": [
    "np.dot(x,y)"
   ]
  },
  {
   "cell_type": "code",
   "execution_count": 31,
   "id": "4ec659d7-a056-47ba-8404-a344e122d6e3",
   "metadata": {},
   "outputs": [],
   "source": [
    "l=np.array([76,89,4])\n",
    "p=np.array([34,52,0])"
   ]
  },
  {
   "cell_type": "code",
   "execution_count": 32,
   "id": "ef17442e-0b7f-41d5-8925-2c9b6e27a149",
   "metadata": {},
   "outputs": [
    {
     "data": {
      "text/plain": [
       "7212"
      ]
     },
     "execution_count": 32,
     "metadata": {},
     "output_type": "execute_result"
    }
   ],
   "source": [
    "np.dot(l,p)"
   ]
  },
  {
   "cell_type": "markdown",
   "id": "fa4ec9fb-d6dc-454e-b388-933eb5c4e6da",
   "metadata": {},
   "source": [
    "### scalar*scalar"
   ]
  },
  {
   "cell_type": "code",
   "execution_count": 33,
   "id": "f59cdb6a-d810-4a46-aab5-00296e3b458e",
   "metadata": {},
   "outputs": [
    {
     "data": {
      "text/plain": [
       "35"
      ]
     },
     "execution_count": 33,
     "metadata": {},
     "output_type": "execute_result"
    }
   ],
   "source": [
    "np.dot(5,7)"
   ]
  },
  {
   "cell_type": "code",
   "execution_count": 35,
   "id": "ab54ff73-5270-41f7-8a0d-92540887e214",
   "metadata": {},
   "outputs": [
    {
     "data": {
      "text/plain": [
       "18"
      ]
     },
     "execution_count": 35,
     "metadata": {},
     "output_type": "execute_result"
    }
   ],
   "source": [
    "np.dot(9,2)"
   ]
  },
  {
   "cell_type": "markdown",
   "id": "b9d5fe37-0aba-4a0f-88eb-4525d9633462",
   "metadata": {},
   "source": [
    "### scalar and vector"
   ]
  },
  {
   "cell_type": "code",
   "execution_count": 36,
   "id": "0ce7a265-469f-462d-b2b5-3d1a45331703",
   "metadata": {},
   "outputs": [
    {
     "data": {
      "text/plain": [
       "array([4, 5, 8])"
      ]
     },
     "execution_count": 36,
     "metadata": {},
     "output_type": "execute_result"
    }
   ],
   "source": [
    "x"
   ]
  },
  {
   "cell_type": "code",
   "execution_count": 37,
   "id": "4a4a9348-2c7e-4fc9-a298-e122b7b55607",
   "metadata": {},
   "outputs": [
    {
     "data": {
      "text/plain": [
       "array([28, 35, 56])"
      ]
     },
     "execution_count": 37,
     "metadata": {},
     "output_type": "execute_result"
    }
   ],
   "source": [
    "7*x"
   ]
  },
  {
   "cell_type": "markdown",
   "id": "e2b6e327-734d-4ddb-84cb-751718b8161f",
   "metadata": {},
   "source": [
    "#### scalar*matrix"
   ]
  },
  {
   "cell_type": "code",
   "execution_count": 38,
   "id": "c9a6cfd7-d57e-4880-8104-13317538556d",
   "metadata": {},
   "outputs": [
    {
     "data": {
      "text/plain": [
       "array([[ 4, -5,  0],\n",
       "       [ 3, -8,  9]])"
      ]
     },
     "execution_count": 38,
     "metadata": {},
     "output_type": "execute_result"
    }
   ],
   "source": [
    "b=np.array([[4,-5,-0],[3,-8,9]])\n",
    "b"
   ]
  },
  {
   "cell_type": "code",
   "execution_count": 39,
   "id": "ec65f891-21ac-406b-afd3-f1e248223363",
   "metadata": {},
   "outputs": [
    {
     "data": {
      "text/plain": [
       "array([[ 12, -15,   0],\n",
       "       [  9, -24,  27]])"
      ]
     },
     "execution_count": 39,
     "metadata": {},
     "output_type": "execute_result"
    }
   ],
   "source": [
    "3*b"
   ]
  },
  {
   "cell_type": "markdown",
   "id": "f0b5519e-44e4-4c32-b35f-4c3c93d86578",
   "metadata": {},
   "source": [
    "### matrix*matrix"
   ]
  },
  {
   "cell_type": "code",
   "execution_count": 43,
   "id": "96d2f976-48ac-4d54-b160-fea66de0dd3f",
   "metadata": {},
   "outputs": [],
   "source": [
    "a=np.array([[9,6,0],[-8,5,4]])\n",
    "A=a.T"
   ]
  },
  {
   "cell_type": "code",
   "execution_count": 44,
   "id": "4e170585-4a25-4f76-b3c8-1ccc4f14daa4",
   "metadata": {},
   "outputs": [
    {
     "data": {
      "text/plain": [
       "array([[ 9, -8],\n",
       "       [ 6,  5],\n",
       "       [ 0,  4]])"
      ]
     },
     "execution_count": 44,
     "metadata": {},
     "output_type": "execute_result"
    }
   ],
   "source": [
    "A"
   ]
  },
  {
   "cell_type": "code",
   "execution_count": 45,
   "id": "1380aa7f-dd5c-4745-8f1f-7efad64ed150",
   "metadata": {},
   "outputs": [
    {
     "data": {
      "text/plain": [
       "array([[ 12,  19, -72],\n",
       "       [ 39, -70,  45],\n",
       "       [ 12, -32,  36]])"
      ]
     },
     "execution_count": 45,
     "metadata": {},
     "output_type": "execute_result"
    }
   ],
   "source": [
    "np.dot(A,b)"
   ]
  },
  {
   "cell_type": "code",
   "execution_count": 46,
   "id": "8040ac94-9d73-4efa-b444-d4bd7e6ebe04",
   "metadata": {},
   "outputs": [],
   "source": [
    "z=np.array([[1,-4],[-2,1]])\n",
    "y=np.array([[0,3],[5,8]])"
   ]
  },
  {
   "cell_type": "code",
   "execution_count": 47,
   "id": "8f0c216f-5146-4e42-8234-37af7e92e909",
   "metadata": {},
   "outputs": [
    {
     "data": {
      "text/plain": [
       "array([[ 1, -4],\n",
       "       [-2,  1]])"
      ]
     },
     "execution_count": 47,
     "metadata": {},
     "output_type": "execute_result"
    }
   ],
   "source": [
    "z"
   ]
  },
  {
   "cell_type": "code",
   "execution_count": 48,
   "id": "8631b039-7438-4e5a-a442-10e7b7de5a5c",
   "metadata": {},
   "outputs": [
    {
     "data": {
      "text/plain": [
       "array([[0, 3],\n",
       "       [5, 8]])"
      ]
     },
     "execution_count": 48,
     "metadata": {},
     "output_type": "execute_result"
    }
   ],
   "source": [
    "y"
   ]
  },
  {
   "cell_type": "code",
   "execution_count": 50,
   "id": "d776e455-d94f-42ba-ba9f-ce5445ccf334",
   "metadata": {},
   "outputs": [
    {
     "data": {
      "text/plain": [
       "array([[ 1, -7],\n",
       "       [-7, -7]])"
      ]
     },
     "execution_count": 50,
     "metadata": {},
     "output_type": "execute_result"
    }
   ],
   "source": [
    "z-y"
   ]
  },
  {
   "cell_type": "code",
   "execution_count": 51,
   "id": "b1a003c8-dcce-4a30-81b7-121cbf9dbf51",
   "metadata": {},
   "outputs": [
    {
     "data": {
      "text/plain": [
       "array([[ 1, -1],\n",
       "       [ 3,  9]])"
      ]
     },
     "execution_count": 51,
     "metadata": {},
     "output_type": "execute_result"
    }
   ],
   "source": [
    "z+y"
   ]
  },
  {
   "cell_type": "code",
   "execution_count": null,
   "id": "64c12d99-963c-4b7f-b6f5-6cd9e3ee662f",
   "metadata": {},
   "outputs": [],
   "source": []
  }
 ],
 "metadata": {
  "kernelspec": {
   "display_name": "Python 3 (ipykernel)",
   "language": "python",
   "name": "python3"
  },
  "language_info": {
   "codemirror_mode": {
    "name": "ipython",
    "version": 3
   },
   "file_extension": ".py",
   "mimetype": "text/x-python",
   "name": "python",
   "nbconvert_exporter": "python",
   "pygments_lexer": "ipython3",
   "version": "3.9.13"
  }
 },
 "nbformat": 4,
 "nbformat_minor": 5
}
