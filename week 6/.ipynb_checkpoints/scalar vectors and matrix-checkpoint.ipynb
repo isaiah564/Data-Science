{
 "cells": [
  {
   "cell_type": "markdown",
   "id": "756912a9-783a-43c1-a61b-5dc20707f448",
   "metadata": {},
   "source": [
    "### import relevant libaries"
   ]
  },
  {
   "cell_type": "code",
   "execution_count": 1,
   "id": "5767d3ec-e464-4a41-9849-03ec1d712ed1",
   "metadata": {},
   "outputs": [],
   "source": [
    "import numpy as np"
   ]
  },
  {
   "cell_type": "markdown",
   "id": "e51ac9f3-80b8-4628-a8c1-44e37de66358",
   "metadata": {},
   "source": [
    "### declare scalar,vector and matrix"
   ]
  },
  {
   "cell_type": "markdown",
   "id": "0580946e-8504-45f3-8559-108e1194d139",
   "metadata": {},
   "source": [
    "### scalar"
   ]
  },
  {
   "cell_type": "code",
   "execution_count": 2,
   "id": "842ab3fe-dc67-4792-9b5f-19e3270db350",
   "metadata": {},
   "outputs": [],
   "source": [
    "s=3"
   ]
  },
  {
   "cell_type": "code",
   "execution_count": 3,
   "id": "5bb50458-84ff-46cb-a6e2-b649a0186b13",
   "metadata": {},
   "outputs": [
    {
     "data": {
      "text/plain": [
       "3"
      ]
     },
     "execution_count": 3,
     "metadata": {},
     "output_type": "execute_result"
    }
   ],
   "source": [
    "s"
   ]
  },
  {
   "cell_type": "markdown",
   "id": "5557e60d-4b22-487a-a2eb-1b72b3b837d3",
   "metadata": {},
   "source": [
    "### vector"
   ]
  },
  {
   "cell_type": "code",
   "execution_count": 4,
   "id": "63332f74-8c5f-413c-bdf3-0c6d2a3fc59f",
   "metadata": {},
   "outputs": [],
   "source": [
    "v=np.array([8,9,7])"
   ]
  },
  {
   "cell_type": "code",
   "execution_count": 5,
   "id": "4e28c683-bf01-4461-aaf3-a7ef8172cc2d",
   "metadata": {},
   "outputs": [
    {
     "data": {
      "text/plain": [
       "array([8, 9, 7])"
      ]
     },
     "execution_count": 5,
     "metadata": {},
     "output_type": "execute_result"
    }
   ],
   "source": [
    "v"
   ]
  },
  {
   "cell_type": "markdown",
   "id": "966887a9-3156-4719-b68c-26fbde855514",
   "metadata": {},
   "source": [
    "### matrix"
   ]
  },
  {
   "cell_type": "code",
   "execution_count": 6,
   "id": "16ff7931-52de-4efc-aa06-bac79bb0b760",
   "metadata": {},
   "outputs": [],
   "source": [
    "m=np.array([[3,4,5],[0,2,6]])"
   ]
  },
  {
   "cell_type": "code",
   "execution_count": 7,
   "id": "3c05ac8f-0b8e-4b36-a5ec-c1663da77d98",
   "metadata": {},
   "outputs": [
    {
     "data": {
      "text/plain": [
       "array([[3, 4, 5],\n",
       "       [0, 2, 6]])"
      ]
     },
     "execution_count": 7,
     "metadata": {},
     "output_type": "execute_result"
    }
   ],
   "source": [
    "m"
   ]
  },
  {
   "cell_type": "markdown",
   "id": "931993bd-ad2d-4e20-8f1f-4a412a1edc8c",
   "metadata": {},
   "source": [
    "### shape"
   ]
  },
  {
   "cell_type": "code",
   "execution_count": 8,
   "id": "0751212b-d3db-485f-97b7-404143dbaa41",
   "metadata": {},
   "outputs": [
    {
     "data": {
      "text/plain": [
       "(2, 3)"
      ]
     },
     "execution_count": 8,
     "metadata": {},
     "output_type": "execute_result"
    }
   ],
   "source": [
    "m.shape"
   ]
  },
  {
   "cell_type": "code",
   "execution_count": 9,
   "id": "2c8598b7-e023-4390-8714-f8b936847806",
   "metadata": {},
   "outputs": [
    {
     "data": {
      "text/plain": [
       "(3,)"
      ]
     },
     "execution_count": 9,
     "metadata": {},
     "output_type": "execute_result"
    }
   ],
   "source": [
    "v.shape"
   ]
  },
  {
   "cell_type": "code",
   "execution_count": null,
   "id": "5122c57b-b787-4b1e-b689-610362680e2e",
   "metadata": {},
   "outputs": [],
   "source": []
  }
 ],
 "metadata": {
  "kernelspec": {
   "display_name": "Python 3 (ipykernel)",
   "language": "python",
   "name": "python3"
  },
  "language_info": {
   "codemirror_mode": {
    "name": "ipython",
    "version": 3
   },
   "file_extension": ".py",
   "mimetype": "text/x-python",
   "name": "python",
   "nbconvert_exporter": "python",
   "pygments_lexer": "ipython3",
   "version": "3.9.13"
  }
 },
 "nbformat": 4,
 "nbformat_minor": 5
}
