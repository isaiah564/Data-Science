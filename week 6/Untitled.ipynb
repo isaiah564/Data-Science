{
 "cells": [
  {
   "cell_type": "markdown",
   "id": "d3910ddf-9dbb-4c74-8732-6e3c93728dad",
   "metadata": {},
   "source": [
    "## import relevant libaries"
   ]
  },
  {
   "cell_type": "code",
   "execution_count": 1,
   "id": "355251a9-5f1a-48b3-826c-e53b7a6ce9f0",
   "metadata": {},
   "outputs": [],
   "source": [
    "import numpy as np"
   ]
  },
  {
   "cell_type": "markdown",
   "id": "31fa12d3-508b-487e-a90d-77d3dfed2466",
   "metadata": {},
   "source": [
    "### creating a tensor"
   ]
  },
  {
   "cell_type": "code",
   "execution_count": 2,
   "id": "c54ac488-53ef-43ac-b51d-567c5a013429",
   "metadata": {},
   "outputs": [],
   "source": [
    "m1=np.array([[5,7,9],[8,6,5]])"
   ]
  },
  {
   "cell_type": "code",
   "execution_count": 3,
   "id": "ab891a49-8a0d-418a-a5bd-087f1ff83d35",
   "metadata": {},
   "outputs": [
    {
     "data": {
      "text/plain": [
       "array([[5, 7, 9],\n",
       "       [8, 6, 5]])"
      ]
     },
     "execution_count": 3,
     "metadata": {},
     "output_type": "execute_result"
    }
   ],
   "source": [
    "m1"
   ]
  },
  {
   "cell_type": "code",
   "execution_count": 4,
   "id": "c847fd1b-7c3d-411a-82b8-42faa3c5b83b",
   "metadata": {},
   "outputs": [
    {
     "data": {
      "text/plain": [
       "array([[9, 3, 1],\n",
       "       [6, 4, 0]])"
      ]
     },
     "execution_count": 4,
     "metadata": {},
     "output_type": "execute_result"
    }
   ],
   "source": [
    "m2=np.array([[9,3,1],[6,4,0]])\n",
    "m2"
   ]
  },
  {
   "cell_type": "code",
   "execution_count": 5,
   "id": "1c5dc139-6e4a-4988-8886-643213a44e3f",
   "metadata": {},
   "outputs": [],
   "source": [
    "t=np.array([m1,m2])"
   ]
  },
  {
   "cell_type": "code",
   "execution_count": 6,
   "id": "6c8c9a70-96a7-4de9-b021-4119dc3c0826",
   "metadata": {},
   "outputs": [
    {
     "data": {
      "text/plain": [
       "array([[[5, 7, 9],\n",
       "        [8, 6, 5]],\n",
       "\n",
       "       [[9, 3, 1],\n",
       "        [6, 4, 0]]])"
      ]
     },
     "execution_count": 6,
     "metadata": {},
     "output_type": "execute_result"
    }
   ],
   "source": [
    "t"
   ]
  },
  {
   "cell_type": "markdown",
   "id": "88f8028f-6de5-48e4-b303-c57ece188694",
   "metadata": {},
   "source": [
    "### checking its shape"
   ]
  },
  {
   "cell_type": "code",
   "execution_count": 8,
   "id": "3563d0b8-5dd4-4de3-af26-aa2a97921499",
   "metadata": {},
   "outputs": [
    {
     "data": {
      "text/plain": [
       "(2, 2, 3)"
      ]
     },
     "execution_count": 8,
     "metadata": {},
     "output_type": "execute_result"
    }
   ],
   "source": [
    "t.shape"
   ]
  },
  {
   "cell_type": "markdown",
   "id": "f69d78a3-ba77-45b8-8540-445a2cb86103",
   "metadata": {},
   "source": [
    "### manually creating a tensor"
   ]
  },
  {
   "cell_type": "code",
   "execution_count": 10,
   "id": "c2b1c64a-bd95-410c-ab6c-59d7fcd96220",
   "metadata": {},
   "outputs": [],
   "source": [
    "t_manual=np.array([[[9,0,6],[8,9,5]],[[76,5,4],[3,45,7]],[[45,56,90],[98,6,7]]])"
   ]
  },
  {
   "cell_type": "code",
   "execution_count": 11,
   "id": "d20f6b97-50df-416d-ba62-826a4d6e1511",
   "metadata": {},
   "outputs": [
    {
     "data": {
      "text/plain": [
       "array([[[ 9,  0,  6],\n",
       "        [ 8,  9,  5]],\n",
       "\n",
       "       [[76,  5,  4],\n",
       "        [ 3, 45,  7]],\n",
       "\n",
       "       [[45, 56, 90],\n",
       "        [98,  6,  7]]])"
      ]
     },
     "execution_count": 11,
     "metadata": {},
     "output_type": "execute_result"
    }
   ],
   "source": [
    "t_manual"
   ]
  },
  {
   "cell_type": "code",
   "execution_count": null,
   "id": "d65fedc7-c26f-4af1-be28-25b1dc1c7fb6",
   "metadata": {},
   "outputs": [],
   "source": []
  }
 ],
 "metadata": {
  "kernelspec": {
   "display_name": "Python 3 (ipykernel)",
   "language": "python",
   "name": "python3"
  },
  "language_info": {
   "codemirror_mode": {
    "name": "ipython",
    "version": 3
   },
   "file_extension": ".py",
   "mimetype": "text/x-python",
   "name": "python",
   "nbconvert_exporter": "python",
   "pygments_lexer": "ipython3",
   "version": "3.9.13"
  }
 },
 "nbformat": 4,
 "nbformat_minor": 5
}
