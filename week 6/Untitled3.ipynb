{
 "cells": [
  {
   "cell_type": "code",
   "execution_count": null,
   "id": "09ea03e5-817b-47a0-b331-d3786c50ae12",
   "metadata": {},
   "outputs": [],
   "source": []
  }
 ],
 "metadata": {
  "kernelspec": {
   "display_name": "Python 3 (ipykernel)",
   "language": "python",
   "name": "python3"
  },
  "language_info": {
   "name": ""
  }
 },
 "nbformat": 4,
 "nbformat_minor": 5
}
