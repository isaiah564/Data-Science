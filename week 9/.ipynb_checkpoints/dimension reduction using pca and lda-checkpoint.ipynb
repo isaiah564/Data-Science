{
 "cells": [
  {
   "cell_type": "markdown",
   "id": "68cf83fe-010c-4d5e-91af-ef25d4093d38",
   "metadata": {},
   "source": [
    "## feature dimension reduction using LDA and PCA with python"
   ]
  },
  {
   "cell_type": "markdown",
   "id": "5fe36897-6a63-46ec-a599-3e6e9ad38880",
   "metadata": {},
   "source": [
    "## LDA"
   ]
  },
  {
   "cell_type": "raw",
   "id": "8604de4f-0688-480d-a649-16a49cbdcb8e",
   "metadata": {},
   "source": [
    "the idea behind LDA is simple mathematically speaking, we need to find a new feature space project in the data in order to maximize classes seperately.\n",
    "Linear Discriminant analysis is a supervised machine learning algorithm as it takes class label into consideration.it is a way to reduce 'dimensionality' while at the same time preserving as much as discrimination information as possible"
   ]
  },
  {
   "cell_type": "markdown",
   "id": "5affa3f2-334f-4e73-9226-715b3372a924",
   "metadata": {},
   "source": [
    "### PCA"
   ]
  },
  {
   "cell_type": "raw",
   "id": "90a497d4-1e38-4106-8ae5-7bbf807a7d5b",
   "metadata": {},
   "source": [
    "principal component analysis is a linear dimensionality reduction technique that can be utilized for extracting information from high dimensionalspace by projecting it into a lower dimensional sub-space.it tries to preserve the essential parts that have more variation of the data and remove essential parts with fewer variation"
   ]
  },
  {
   "cell_type": "code",
   "execution_count": 1,
   "id": "1523e39e-8404-4c3d-be14-99db458f1212",
   "metadata": {},
   "outputs": [],
   "source": [
    "import numpy as np\n",
    "import pandas as pd\n",
    "import matplotlib.pyplot as plt\n",
    "import seaborn as sns\n",
    "%matplotlib inline\n",
    "from sklearn.model_selection import train_test_split\n",
    "from sklearn.ensemble import RandomForestClassifier\n",
    "\n",
    "from sklearn.feature_selection import VarianceThreshold\n",
    "from sklearn.preprocessing import StandardScaler\n",
    "from sklearn.metrics import accuracy_score,roc_auc_score"
   ]
  },
  {
   "cell_type": "code",
   "execution_count": 2,
   "id": "5e0e3d83-0ca8-42cd-a42d-6154b1163915",
   "metadata": {},
   "outputs": [],
   "source": [
    "d=pd.read_csv('C:\\\\Users\\\\Admin\\\\Desktop\\\\DataScience\\\\Datasets\\\\santander-train.csv',nrows=20000)"
   ]
  },
  {
   "cell_type": "code",
   "execution_count": 3,
   "id": "fe1b5c83-598e-43c0-8989-7b7bee945be5",
   "metadata": {},
   "outputs": [
    {
     "data": {
      "text/html": [
       "<div>\n",
       "<style scoped>\n",
       "    .dataframe tbody tr th:only-of-type {\n",
       "        vertical-align: middle;\n",
       "    }\n",
       "\n",
       "    .dataframe tbody tr th {\n",
       "        vertical-align: top;\n",
       "    }\n",
       "\n",
       "    .dataframe thead th {\n",
       "        text-align: right;\n",
       "    }\n",
       "</style>\n",
       "<table border=\"1\" class=\"dataframe\">\n",
       "  <thead>\n",
       "    <tr style=\"text-align: right;\">\n",
       "      <th></th>\n",
       "      <th>ID</th>\n",
       "      <th>var3</th>\n",
       "      <th>var15</th>\n",
       "      <th>imp_ent_var16_ult1</th>\n",
       "      <th>imp_op_var39_comer_ult1</th>\n",
       "      <th>imp_op_var39_comer_ult3</th>\n",
       "      <th>imp_op_var40_comer_ult1</th>\n",
       "      <th>imp_op_var40_comer_ult3</th>\n",
       "      <th>imp_op_var40_efect_ult1</th>\n",
       "      <th>imp_op_var40_efect_ult3</th>\n",
       "      <th>...</th>\n",
       "      <th>saldo_medio_var33_hace2</th>\n",
       "      <th>saldo_medio_var33_hace3</th>\n",
       "      <th>saldo_medio_var33_ult1</th>\n",
       "      <th>saldo_medio_var33_ult3</th>\n",
       "      <th>saldo_medio_var44_hace2</th>\n",
       "      <th>saldo_medio_var44_hace3</th>\n",
       "      <th>saldo_medio_var44_ult1</th>\n",
       "      <th>saldo_medio_var44_ult3</th>\n",
       "      <th>var38</th>\n",
       "      <th>TARGET</th>\n",
       "    </tr>\n",
       "  </thead>\n",
       "  <tbody>\n",
       "    <tr>\n",
       "      <th>0</th>\n",
       "      <td>1</td>\n",
       "      <td>2</td>\n",
       "      <td>23</td>\n",
       "      <td>0.0</td>\n",
       "      <td>0.0</td>\n",
       "      <td>0.0</td>\n",
       "      <td>0.0</td>\n",
       "      <td>0.0</td>\n",
       "      <td>0</td>\n",
       "      <td>0</td>\n",
       "      <td>...</td>\n",
       "      <td>0.0</td>\n",
       "      <td>0.0</td>\n",
       "      <td>0.0</td>\n",
       "      <td>0.0</td>\n",
       "      <td>0.0</td>\n",
       "      <td>0.0</td>\n",
       "      <td>0.0</td>\n",
       "      <td>0.0</td>\n",
       "      <td>39205.170000</td>\n",
       "      <td>0</td>\n",
       "    </tr>\n",
       "    <tr>\n",
       "      <th>1</th>\n",
       "      <td>3</td>\n",
       "      <td>2</td>\n",
       "      <td>34</td>\n",
       "      <td>0.0</td>\n",
       "      <td>0.0</td>\n",
       "      <td>0.0</td>\n",
       "      <td>0.0</td>\n",
       "      <td>0.0</td>\n",
       "      <td>0</td>\n",
       "      <td>0</td>\n",
       "      <td>...</td>\n",
       "      <td>0.0</td>\n",
       "      <td>0.0</td>\n",
       "      <td>0.0</td>\n",
       "      <td>0.0</td>\n",
       "      <td>0.0</td>\n",
       "      <td>0.0</td>\n",
       "      <td>0.0</td>\n",
       "      <td>0.0</td>\n",
       "      <td>49278.030000</td>\n",
       "      <td>0</td>\n",
       "    </tr>\n",
       "    <tr>\n",
       "      <th>2</th>\n",
       "      <td>4</td>\n",
       "      <td>2</td>\n",
       "      <td>23</td>\n",
       "      <td>0.0</td>\n",
       "      <td>0.0</td>\n",
       "      <td>0.0</td>\n",
       "      <td>0.0</td>\n",
       "      <td>0.0</td>\n",
       "      <td>0</td>\n",
       "      <td>0</td>\n",
       "      <td>...</td>\n",
       "      <td>0.0</td>\n",
       "      <td>0.0</td>\n",
       "      <td>0.0</td>\n",
       "      <td>0.0</td>\n",
       "      <td>0.0</td>\n",
       "      <td>0.0</td>\n",
       "      <td>0.0</td>\n",
       "      <td>0.0</td>\n",
       "      <td>67333.770000</td>\n",
       "      <td>0</td>\n",
       "    </tr>\n",
       "    <tr>\n",
       "      <th>3</th>\n",
       "      <td>8</td>\n",
       "      <td>2</td>\n",
       "      <td>37</td>\n",
       "      <td>0.0</td>\n",
       "      <td>195.0</td>\n",
       "      <td>195.0</td>\n",
       "      <td>0.0</td>\n",
       "      <td>0.0</td>\n",
       "      <td>0</td>\n",
       "      <td>0</td>\n",
       "      <td>...</td>\n",
       "      <td>0.0</td>\n",
       "      <td>0.0</td>\n",
       "      <td>0.0</td>\n",
       "      <td>0.0</td>\n",
       "      <td>0.0</td>\n",
       "      <td>0.0</td>\n",
       "      <td>0.0</td>\n",
       "      <td>0.0</td>\n",
       "      <td>64007.970000</td>\n",
       "      <td>0</td>\n",
       "    </tr>\n",
       "    <tr>\n",
       "      <th>4</th>\n",
       "      <td>10</td>\n",
       "      <td>2</td>\n",
       "      <td>39</td>\n",
       "      <td>0.0</td>\n",
       "      <td>0.0</td>\n",
       "      <td>0.0</td>\n",
       "      <td>0.0</td>\n",
       "      <td>0.0</td>\n",
       "      <td>0</td>\n",
       "      <td>0</td>\n",
       "      <td>...</td>\n",
       "      <td>0.0</td>\n",
       "      <td>0.0</td>\n",
       "      <td>0.0</td>\n",
       "      <td>0.0</td>\n",
       "      <td>0.0</td>\n",
       "      <td>0.0</td>\n",
       "      <td>0.0</td>\n",
       "      <td>0.0</td>\n",
       "      <td>117310.979016</td>\n",
       "      <td>0</td>\n",
       "    </tr>\n",
       "  </tbody>\n",
       "</table>\n",
       "<p>5 rows × 371 columns</p>\n",
       "</div>"
      ],
      "text/plain": [
       "   ID  var3  var15  imp_ent_var16_ult1  imp_op_var39_comer_ult1  \\\n",
       "0   1     2     23                 0.0                      0.0   \n",
       "1   3     2     34                 0.0                      0.0   \n",
       "2   4     2     23                 0.0                      0.0   \n",
       "3   8     2     37                 0.0                    195.0   \n",
       "4  10     2     39                 0.0                      0.0   \n",
       "\n",
       "   imp_op_var39_comer_ult3  imp_op_var40_comer_ult1  imp_op_var40_comer_ult3  \\\n",
       "0                      0.0                      0.0                      0.0   \n",
       "1                      0.0                      0.0                      0.0   \n",
       "2                      0.0                      0.0                      0.0   \n",
       "3                    195.0                      0.0                      0.0   \n",
       "4                      0.0                      0.0                      0.0   \n",
       "\n",
       "   imp_op_var40_efect_ult1  imp_op_var40_efect_ult3  ...  \\\n",
       "0                        0                        0  ...   \n",
       "1                        0                        0  ...   \n",
       "2                        0                        0  ...   \n",
       "3                        0                        0  ...   \n",
       "4                        0                        0  ...   \n",
       "\n",
       "   saldo_medio_var33_hace2  saldo_medio_var33_hace3  saldo_medio_var33_ult1  \\\n",
       "0                      0.0                      0.0                     0.0   \n",
       "1                      0.0                      0.0                     0.0   \n",
       "2                      0.0                      0.0                     0.0   \n",
       "3                      0.0                      0.0                     0.0   \n",
       "4                      0.0                      0.0                     0.0   \n",
       "\n",
       "   saldo_medio_var33_ult3  saldo_medio_var44_hace2  saldo_medio_var44_hace3  \\\n",
       "0                     0.0                      0.0                      0.0   \n",
       "1                     0.0                      0.0                      0.0   \n",
       "2                     0.0                      0.0                      0.0   \n",
       "3                     0.0                      0.0                      0.0   \n",
       "4                     0.0                      0.0                      0.0   \n",
       "\n",
       "   saldo_medio_var44_ult1  saldo_medio_var44_ult3          var38  TARGET  \n",
       "0                     0.0                     0.0   39205.170000       0  \n",
       "1                     0.0                     0.0   49278.030000       0  \n",
       "2                     0.0                     0.0   67333.770000       0  \n",
       "3                     0.0                     0.0   64007.970000       0  \n",
       "4                     0.0                     0.0  117310.979016       0  \n",
       "\n",
       "[5 rows x 371 columns]"
      ]
     },
     "execution_count": 3,
     "metadata": {},
     "output_type": "execute_result"
    }
   ],
   "source": [
    "d.head()"
   ]
  },
  {
   "cell_type": "code",
   "execution_count": 4,
   "id": "a5e983a5-55f7-4c1d-9f75-fc984fed36b9",
   "metadata": {},
   "outputs": [
    {
     "data": {
      "text/plain": [
       "((20000, 370), (20000,))"
      ]
     },
     "execution_count": 4,
     "metadata": {},
     "output_type": "execute_result"
    }
   ],
   "source": [
    "x=d.drop('TARGET',axis=1)\n",
    "y=d['TARGET']\n",
    "x.shape,y.shape"
   ]
  },
  {
   "cell_type": "code",
   "execution_count": 5,
   "id": "594fad58-c646-43b2-bcc3-2872f63abf4d",
   "metadata": {},
   "outputs": [],
   "source": [
    "X_train,X_test,y_train,y_test=train_test_split(x,y,test_size=0.2,random_state=0,stratify=y)"
   ]
  },
  {
   "cell_type": "markdown",
   "id": "bef461e6-d923-4bcd-9218-5606207ec4f5",
   "metadata": {},
   "source": [
    "#### Remove Constant,Quasi Constant and Duplicate Features"
   ]
  },
  {
   "cell_type": "code",
   "execution_count": 6,
   "id": "692b4d9d-e185-468c-9b74-e8f29cc2b740",
   "metadata": {},
   "outputs": [],
   "source": [
    "cf=VarianceThreshold(threshold=0.01)\n",
    "cf.fit(X_train)\n",
    "X_train_filter=cf.transform(X_train)\n",
    "X_test_filter=cf.transform(X_test)"
   ]
  },
  {
   "cell_type": "code",
   "execution_count": 7,
   "id": "b46abc0c-aaa7-46ff-b8c6-45d0f9723862",
   "metadata": {},
   "outputs": [
    {
     "data": {
      "text/plain": [
       "((16000, 245), (4000, 245))"
      ]
     },
     "execution_count": 7,
     "metadata": {},
     "output_type": "execute_result"
    }
   ],
   "source": [
    "X_train_filter.shape,X_test_filter.shape"
   ]
  },
  {
   "cell_type": "code",
   "execution_count": 8,
   "id": "6aaf305a-96c8-4947-8d51-75c5fa8d6186",
   "metadata": {},
   "outputs": [],
   "source": [
    "## remove duplicated features\n",
    "X_train_T=X_train_filter\n",
    "X_test_T=X_test_filter"
   ]
  },
  {
   "cell_type": "code",
   "execution_count": 9,
   "id": "35ee86fd-d72d-4fe4-8545-067d08e20b41",
   "metadata": {},
   "outputs": [],
   "source": [
    "X_train_T=pd.DataFrame(X_train_T)\n",
    "X_test_T=pd.DataFrame(X_test_T)"
   ]
  },
  {
   "cell_type": "code",
   "execution_count": 10,
   "id": "cc5c83a6-da91-4a2e-a9f1-a70458e2562f",
   "metadata": {},
   "outputs": [
    {
     "data": {
      "text/plain": [
       "0"
      ]
     },
     "execution_count": 10,
     "metadata": {},
     "output_type": "execute_result"
    }
   ],
   "source": [
    "X_train_T.duplicated().sum()"
   ]
  },
  {
   "cell_type": "code",
   "execution_count": 11,
   "id": "39d02e8b-d6e3-4049-95ff-9721d1b6b25a",
   "metadata": {},
   "outputs": [],
   "source": [
    "duplicated_features=X_train_T.duplicated()"
   ]
  },
  {
   "cell_type": "code",
   "execution_count": 12,
   "id": "ac5d35cb-ba06-4485-9199-becf0058b71e",
   "metadata": {},
   "outputs": [
    {
     "ename": "ValueError",
     "evalue": "Item wrong length 16000 instead of 4000.",
     "output_type": "error",
     "traceback": [
      "\u001b[1;31m---------------------------------------------------------------------------\u001b[0m",
      "\u001b[1;31mValueError\u001b[0m                                Traceback (most recent call last)",
      "\u001b[1;32m~\\AppData\\Local\\Temp\\ipykernel_54156\\289356266.py\u001b[0m in \u001b[0;36m<module>\u001b[1;34m\u001b[0m\n\u001b[0;32m      3\u001b[0m \u001b[1;33m\u001b[0m\u001b[0m\n\u001b[0;32m      4\u001b[0m \u001b[0mX_train_unique\u001b[0m\u001b[1;33m=\u001b[0m\u001b[0mX_train_T\u001b[0m\u001b[1;33m[\u001b[0m\u001b[0mfeatures_to_keeps\u001b[0m\u001b[1;33m]\u001b[0m\u001b[1;33m.\u001b[0m\u001b[0mT\u001b[0m\u001b[1;33m\u001b[0m\u001b[1;33m\u001b[0m\u001b[0m\n\u001b[1;32m----> 5\u001b[1;33m \u001b[0mX_test_unique\u001b[0m\u001b[1;33m=\u001b[0m\u001b[0mX_test_T\u001b[0m\u001b[1;33m[\u001b[0m\u001b[0mfeatures_to_keeps\u001b[0m\u001b[1;33m]\u001b[0m\u001b[1;33m.\u001b[0m\u001b[0mT\u001b[0m\u001b[1;33m\u001b[0m\u001b[1;33m\u001b[0m\u001b[0m\n\u001b[0m",
      "\u001b[1;32m~\\anaconda3\\lib\\site-packages\\pandas\\core\\frame.py\u001b[0m in \u001b[0;36m__getitem__\u001b[1;34m(self, key)\u001b[0m\n\u001b[0;32m   3494\u001b[0m         \u001b[1;31m# Do we have a (boolean) 1d indexer?\u001b[0m\u001b[1;33m\u001b[0m\u001b[1;33m\u001b[0m\u001b[0m\n\u001b[0;32m   3495\u001b[0m         \u001b[1;32mif\u001b[0m \u001b[0mcom\u001b[0m\u001b[1;33m.\u001b[0m\u001b[0mis_bool_indexer\u001b[0m\u001b[1;33m(\u001b[0m\u001b[0mkey\u001b[0m\u001b[1;33m)\u001b[0m\u001b[1;33m:\u001b[0m\u001b[1;33m\u001b[0m\u001b[1;33m\u001b[0m\u001b[0m\n\u001b[1;32m-> 3496\u001b[1;33m             \u001b[1;32mreturn\u001b[0m \u001b[0mself\u001b[0m\u001b[1;33m.\u001b[0m\u001b[0m_getitem_bool_array\u001b[0m\u001b[1;33m(\u001b[0m\u001b[0mkey\u001b[0m\u001b[1;33m)\u001b[0m\u001b[1;33m\u001b[0m\u001b[1;33m\u001b[0m\u001b[0m\n\u001b[0m\u001b[0;32m   3497\u001b[0m \u001b[1;33m\u001b[0m\u001b[0m\n\u001b[0;32m   3498\u001b[0m         \u001b[1;31m# We are left with two options: a single key, and a collection of keys,\u001b[0m\u001b[1;33m\u001b[0m\u001b[1;33m\u001b[0m\u001b[0m\n",
      "\u001b[1;32m~\\anaconda3\\lib\\site-packages\\pandas\\core\\frame.py\u001b[0m in \u001b[0;36m_getitem_bool_array\u001b[1;34m(self, key)\u001b[0m\n\u001b[0;32m   3541\u001b[0m             )\n\u001b[0;32m   3542\u001b[0m         \u001b[1;32melif\u001b[0m \u001b[0mlen\u001b[0m\u001b[1;33m(\u001b[0m\u001b[0mkey\u001b[0m\u001b[1;33m)\u001b[0m \u001b[1;33m!=\u001b[0m \u001b[0mlen\u001b[0m\u001b[1;33m(\u001b[0m\u001b[0mself\u001b[0m\u001b[1;33m.\u001b[0m\u001b[0mindex\u001b[0m\u001b[1;33m)\u001b[0m\u001b[1;33m:\u001b[0m\u001b[1;33m\u001b[0m\u001b[1;33m\u001b[0m\u001b[0m\n\u001b[1;32m-> 3543\u001b[1;33m             raise ValueError(\n\u001b[0m\u001b[0;32m   3544\u001b[0m                 \u001b[1;34mf\"Item wrong length {len(key)} instead of {len(self.index)}.\"\u001b[0m\u001b[1;33m\u001b[0m\u001b[1;33m\u001b[0m\u001b[0m\n\u001b[0;32m   3545\u001b[0m             )\n",
      "\u001b[1;31mValueError\u001b[0m: Item wrong length 16000 instead of 4000."
     ]
    }
   ],
   "source": [
    "features_to_keeps=[not columns for columns in duplicated_features]\n",
    "\n",
    "\n",
    "X_train_unique=X_train_T[features_to_keeps].T\n",
    "X_test_unique=X_test_T[features_to_keeps].T"
   ]
  },
  {
   "cell_type": "code",
   "execution_count": 13,
   "id": "c2fb1f2a-8215-43ab-a29a-869ad9e19ea8",
   "metadata": {},
   "outputs": [
    {
     "ename": "NameError",
     "evalue": "name 'X_test_unique' is not defined",
     "output_type": "error",
     "traceback": [
      "\u001b[1;31m---------------------------------------------------------------------------\u001b[0m",
      "\u001b[1;31mNameError\u001b[0m                                 Traceback (most recent call last)",
      "\u001b[1;32m~\\AppData\\Local\\Temp\\ipykernel_54156\\1266638540.py\u001b[0m in \u001b[0;36m<module>\u001b[1;34m\u001b[0m\n\u001b[0;32m      2\u001b[0m \u001b[0mscaler\u001b[0m\u001b[1;33m=\u001b[0m\u001b[0ms\u001b[0m\u001b[1;33m.\u001b[0m\u001b[0mfit\u001b[0m\u001b[1;33m(\u001b[0m\u001b[0mX_train_unique\u001b[0m\u001b[1;33m)\u001b[0m\u001b[1;33m\u001b[0m\u001b[1;33m\u001b[0m\u001b[0m\n\u001b[0;32m      3\u001b[0m \u001b[0mX_train_unique\u001b[0m\u001b[1;33m=\u001b[0m\u001b[0mscaler\u001b[0m\u001b[1;33m.\u001b[0m\u001b[0mtransform\u001b[0m\u001b[1;33m(\u001b[0m\u001b[0mX_train_unique\u001b[0m\u001b[1;33m)\u001b[0m\u001b[1;33m\u001b[0m\u001b[1;33m\u001b[0m\u001b[0m\n\u001b[1;32m----> 4\u001b[1;33m \u001b[0mX_test_unique\u001b[0m\u001b[1;33m=\u001b[0m\u001b[0mscaler\u001b[0m\u001b[1;33m.\u001b[0m\u001b[0mtransform\u001b[0m\u001b[1;33m(\u001b[0m\u001b[0mX_test_unique\u001b[0m\u001b[1;33m)\u001b[0m\u001b[1;33m\u001b[0m\u001b[1;33m\u001b[0m\u001b[0m\n\u001b[0m",
      "\u001b[1;31mNameError\u001b[0m: name 'X_test_unique' is not defined"
     ]
    }
   ],
   "source": [
    "s=StandardScaler()\n",
    "scaler=s.fit(X_train_unique)\n",
    "X_train_unique=scaler.transform(X_train_unique)\n",
    "X_test_unique=scaler.transform(X_test_unique)"
   ]
  },
  {
   "cell_type": "code",
   "execution_count": null,
   "id": "252c7b24-de59-43ee-bdb9-0e6423ac3fe1",
   "metadata": {},
   "outputs": [],
   "source": [
    "X_train_unique=pd.DataFrame(X_train_unique)\n",
    "X_test_unique=pd.DataFrame(X_test_unique)"
   ]
  },
  {
   "cell_type": "code",
   "execution_count": 14,
   "id": "544adfde-4d88-402d-97ee-6ed935b61a0a",
   "metadata": {},
   "outputs": [
    {
     "ename": "NameError",
     "evalue": "name 'X_test_unique' is not defined",
     "output_type": "error",
     "traceback": [
      "\u001b[1;31m---------------------------------------------------------------------------\u001b[0m",
      "\u001b[1;31mNameError\u001b[0m                                 Traceback (most recent call last)",
      "\u001b[1;32m~\\AppData\\Local\\Temp\\ipykernel_54156\\3263974852.py\u001b[0m in \u001b[0;36m<module>\u001b[1;34m\u001b[0m\n\u001b[1;32m----> 1\u001b[1;33m \u001b[0mX_train_unique\u001b[0m\u001b[1;33m.\u001b[0m\u001b[0mshape\u001b[0m\u001b[1;33m,\u001b[0m\u001b[0mX_test_unique\u001b[0m\u001b[1;33m.\u001b[0m\u001b[0mshape\u001b[0m\u001b[1;33m\u001b[0m\u001b[1;33m\u001b[0m\u001b[0m\n\u001b[0m",
      "\u001b[1;31mNameError\u001b[0m: name 'X_test_unique' is not defined"
     ]
    }
   ],
   "source": [
    "X_train_unique.shape,X_test_unique.shape"
   ]
  },
  {
   "cell_type": "markdown",
   "id": "2638b770-4d7c-47f3-85fb-d1bae2a9ad91",
   "metadata": {},
   "source": [
    "### Removal of correlated feature"
   ]
  },
  {
   "cell_type": "code",
   "execution_count": 15,
   "id": "4edfa73b-4c8f-4608-b9af-d9435dd7a750",
   "metadata": {},
   "outputs": [],
   "source": [
    "cornat=X_train_T.corr()"
   ]
  },
  {
   "cell_type": "code",
   "execution_count": 16,
   "id": "eed9b1da-d0b1-4d1c-aa88-df0f9cf893b0",
   "metadata": {},
   "outputs": [
    {
     "data": {
      "text/plain": [
       "(245, 245)"
      ]
     },
     "execution_count": 16,
     "metadata": {},
     "output_type": "execute_result"
    }
   ],
   "source": [
    "cornat.shape"
   ]
  },
  {
   "cell_type": "code",
   "execution_count": 17,
   "id": "7484daf0-c5f1-4f6f-bd59-56cd3333c9c2",
   "metadata": {},
   "outputs": [],
   "source": [
    "def get_correlation(d,threshold):\n",
    "    corr_col=set()\n",
    "    corrmat=d.corr()\n",
    "    for i in range(len(corrmat.columns)):\n",
    "        for j in range(i):\n",
    "            if abs(corrmat.iloc[i,j])>threshold:\n",
    "                colname=corrmat.columns[i]\n",
    "                corr_col.add(colname)\n",
    "            return corr_col\n",
    "        \n",
    "        \n",
    "            \n",
    "            "
   ]
  },
  {
   "cell_type": "code",
   "execution_count": 18,
   "id": "5255deb7-7369-42ba-88f0-356a6b9ee7b9",
   "metadata": {},
   "outputs": [],
   "source": [
    "corr_features=get_correlation(X_train_T,0.70)"
   ]
  },
  {
   "cell_type": "code",
   "execution_count": 19,
   "id": "ab9c65cb-196d-4dee-a59c-a1ec28b030e1",
   "metadata": {},
   "outputs": [
    {
     "name": "stdout",
     "output_type": "stream",
     "text": [
      "correlated_features: 0\n"
     ]
    }
   ],
   "source": [
    "print('correlated_features:',len(set(corr_features)))"
   ]
  },
  {
   "cell_type": "markdown",
   "id": "731a55b4-2f26-406f-8846-729174fd6691",
   "metadata": {},
   "source": [
    "### Feature Dimention Reduction by LDA or is it a classifier"
   ]
  },
  {
   "cell_type": "code",
   "execution_count": 20,
   "id": "5c633d99-696e-4026-ae8c-308d0ede86d9",
   "metadata": {},
   "outputs": [],
   "source": [
    "from sklearn.discriminant_analysis import LinearDiscriminantAnalysis as LDA"
   ]
  },
  {
   "cell_type": "code",
   "execution_count": 21,
   "id": "630568bd-d64e-4f94-8346-3217094afe81",
   "metadata": {},
   "outputs": [],
   "source": [
    "lda=LDA(n_components=1)\n",
    "X_train_lda=lda.fit_transform(X_train_T,y_train)"
   ]
  },
  {
   "cell_type": "code",
   "execution_count": 22,
   "id": "cbc779d2-0294-4fbf-89b6-f1a51d487141",
   "metadata": {},
   "outputs": [
    {
     "data": {
      "text/plain": [
       "(16000, 1)"
      ]
     },
     "execution_count": 22,
     "metadata": {},
     "output_type": "execute_result"
    }
   ],
   "source": [
    "X_train_lda.shape"
   ]
  },
  {
   "cell_type": "code",
   "execution_count": 23,
   "id": "aabd6552-4aa9-4e7d-8f87-aa2b515abf8a",
   "metadata": {},
   "outputs": [],
   "source": [
    "X_test_lda=lda.fit_transform(X_test_T,y_test)"
   ]
  },
  {
   "cell_type": "code",
   "execution_count": 24,
   "id": "4df7c2c3-85ec-47ef-8856-13ef42aaec64",
   "metadata": {},
   "outputs": [
    {
     "data": {
      "text/plain": [
       "(4000, 1)"
      ]
     },
     "execution_count": 24,
     "metadata": {},
     "output_type": "execute_result"
    }
   ],
   "source": [
    "X_test_lda.shape"
   ]
  },
  {
   "cell_type": "code",
   "execution_count": 25,
   "id": "b47de28f-71ec-498e-83ca-db802c963780",
   "metadata": {},
   "outputs": [],
   "source": [
    "def run_randomforest(X_train,X_test,y_train,y_test):\n",
    "    clf=RandomForestClassifier(n_estimators=100,random_state=0,n_jobs=-1)\n",
    "    clf.fit(X_train,y_train)\n",
    "    y_pred=clf.predict(X_test)\n",
    "    print('accuracy on test set:')\n",
    "    print(accuracy_score(y_test,y_pred)*100)"
   ]
  },
  {
   "cell_type": "code",
   "execution_count": 26,
   "id": "775a0ecf-dd30-43fd-9b28-ff9b27fc5891",
   "metadata": {},
   "outputs": [
    {
     "name": "stdout",
     "output_type": "stream",
     "text": [
      "accuracy on test set:\n",
      "92.35\n",
      "Wall time: 1.45 s\n"
     ]
    }
   ],
   "source": [
    "%%time\n",
    "run_randomforest(X_train_lda,X_test_lda,y_train,y_test)"
   ]
  },
  {
   "cell_type": "code",
   "execution_count": 27,
   "id": "487f9250-8b09-4b7d-9cf0-287e72b89769",
   "metadata": {},
   "outputs": [
    {
     "name": "stdout",
     "output_type": "stream",
     "text": [
      "accuracy on test set:\n",
      "95.85000000000001\n",
      "Wall time: 3.1 s\n"
     ]
    }
   ],
   "source": [
    "%%time\n",
    "run_randomforest(X_train,X_test,y_train,y_test)"
   ]
  },
  {
   "cell_type": "markdown",
   "id": "1982507e-0b69-4a78-8de5-2059593487ca",
   "metadata": {},
   "source": [
    "### Feature Reduction with PCA"
   ]
  },
  {
   "cell_type": "code",
   "execution_count": 28,
   "id": "fde77af9-6a92-4df0-a268-e9a1cceb32f2",
   "metadata": {},
   "outputs": [],
   "source": [
    "from sklearn.decomposition import PCA"
   ]
  },
  {
   "cell_type": "code",
   "execution_count": 29,
   "id": "6952c5b3-b06c-4f53-8bcf-ab900f1f53ec",
   "metadata": {},
   "outputs": [
    {
     "data": {
      "text/plain": [
       "PCA(n_components=2, random_state=42)"
      ]
     },
     "execution_count": 29,
     "metadata": {},
     "output_type": "execute_result"
    }
   ],
   "source": [
    "pca=PCA(n_components=2,random_state=42)\n",
    "pca.fit(X_test_T)"
   ]
  },
  {
   "cell_type": "code",
   "execution_count": 30,
   "id": "198b68a4-5847-4756-9cfb-9c635705eea9",
   "metadata": {},
   "outputs": [
    {
     "data": {
      "text/plain": [
       "((16000, 2), (4000, 2))"
      ]
     },
     "execution_count": 30,
     "metadata": {},
     "output_type": "execute_result"
    }
   ],
   "source": [
    "X_train_pca=pca.transform(X_train_T)\n",
    "X_test_pca=pca.transform(X_test_T)\n",
    "X_train_pca.shape,X_test_pca.shape"
   ]
  },
  {
   "cell_type": "code",
   "execution_count": 31,
   "id": "f4f0947a-d100-4f7b-9657-96db1fae3efc",
   "metadata": {},
   "outputs": [
    {
     "name": "stdout",
     "output_type": "stream",
     "text": [
      "accuracy on test set:\n",
      "95.92500000000001\n",
      "Wall time: 659 ms\n"
     ]
    }
   ],
   "source": [
    "%%time\n",
    "run_randomforest(X_train_pca,X_test_pca,y_train,y_test)"
   ]
  },
  {
   "cell_type": "code",
   "execution_count": 32,
   "id": "64a574f8-5a7b-43bf-b100-8fe931675148",
   "metadata": {},
   "outputs": [
    {
     "name": "stdout",
     "output_type": "stream",
     "text": [
      "selected_comp: 1\n",
      "accuracy on test set:\n",
      "95.92500000000001\n",
      "\n",
      "selected_comp: 2\n",
      "accuracy on test set:\n",
      "95.92500000000001\n",
      "\n",
      "selected_comp: 3\n",
      "accuracy on test set:\n",
      "95.92500000000001\n",
      "\n",
      "selected_comp: 4\n",
      "accuracy on test set:\n",
      "95.89999999999999\n",
      "\n",
      "selected_comp: 5\n",
      "accuracy on test set:\n",
      "95.89999999999999\n",
      "\n",
      "selected_comp: 6\n",
      "accuracy on test set:\n",
      "95.89999999999999\n",
      "\n",
      "selected_comp: 7\n",
      "accuracy on test set:\n",
      "95.89999999999999\n",
      "\n",
      "selected_comp: 8\n",
      "accuracy on test set:\n",
      "92.07499999999999\n",
      "\n",
      "selected_comp: 9\n",
      "accuracy on test set:\n",
      "95.025\n",
      "\n",
      "selected_comp: 10\n",
      "accuracy on test set:\n",
      "95.35\n",
      "\n",
      "selected_comp: 11\n",
      "accuracy on test set:\n",
      "95.5\n",
      "\n",
      "selected_comp: 12\n",
      "accuracy on test set:\n",
      "95.625\n",
      "\n",
      "selected_comp: 13\n",
      "accuracy on test set:\n",
      "95.625\n",
      "\n",
      "selected_comp: 14\n",
      "accuracy on test set:\n",
      "95.625\n",
      "\n",
      "selected_comp: 15\n",
      "accuracy on test set:\n",
      "95.6\n",
      "\n",
      "selected_comp: 16\n",
      "accuracy on test set:\n",
      "95.55\n",
      "\n",
      "selected_comp: 17\n",
      "accuracy on test set:\n",
      "95.675\n",
      "\n",
      "selected_comp: 18\n",
      "accuracy on test set:\n",
      "95.65\n",
      "\n",
      "selected_comp: 19\n",
      "accuracy on test set:\n",
      "95.65\n",
      "\n",
      "selected_comp: 20\n",
      "accuracy on test set:\n",
      "95.675\n",
      "\n",
      "selected_comp: 21\n",
      "accuracy on test set:\n",
      "95.675\n",
      "\n",
      "selected_comp: 22\n",
      "accuracy on test set:\n",
      "95.65\n",
      "\n",
      "selected_comp: 23\n",
      "accuracy on test set:\n",
      "95.675\n",
      "\n",
      "selected_comp: 24\n",
      "accuracy on test set:\n",
      "95.7\n",
      "\n",
      "selected_comp: 25\n",
      "accuracy on test set:\n",
      "95.675\n",
      "\n",
      "selected_comp: 26\n",
      "accuracy on test set:\n",
      "95.65\n",
      "\n",
      "selected_comp: 27\n",
      "accuracy on test set:\n",
      "95.72500000000001\n",
      "\n",
      "selected_comp: 28\n",
      "accuracy on test set:\n",
      "95.775\n",
      "\n",
      "selected_comp: 29\n",
      "accuracy on test set:\n",
      "95.75\n",
      "\n",
      "selected_comp: 30\n",
      "accuracy on test set:\n",
      "95.7\n",
      "\n",
      "selected_comp: 31\n",
      "accuracy on test set:\n",
      "95.7\n",
      "\n",
      "selected_comp: 32\n",
      "accuracy on test set:\n",
      "95.65\n",
      "\n",
      "selected_comp: 33\n",
      "accuracy on test set:\n",
      "95.8\n",
      "\n",
      "selected_comp: 34\n",
      "accuracy on test set:\n",
      "95.7\n",
      "\n",
      "selected_comp: 35\n",
      "accuracy on test set:\n",
      "95.65\n",
      "\n",
      "selected_comp: 36\n",
      "accuracy on test set:\n",
      "95.75\n",
      "\n",
      "selected_comp: 37\n",
      "accuracy on test set:\n",
      "95.72500000000001\n",
      "\n",
      "selected_comp: 38\n",
      "accuracy on test set:\n",
      "95.825\n",
      "\n",
      "selected_comp: 39\n",
      "accuracy on test set:\n",
      "95.75\n",
      "\n",
      "selected_comp: 40\n",
      "accuracy on test set:\n",
      "95.775\n",
      "\n",
      "selected_comp: 41\n",
      "accuracy on test set:\n",
      "95.72500000000001\n",
      "\n",
      "selected_comp: 42\n",
      "accuracy on test set:\n",
      "95.8\n",
      "\n",
      "selected_comp: 43\n",
      "accuracy on test set:\n",
      "95.75\n",
      "\n",
      "selected_comp: 44\n",
      "accuracy on test set:\n",
      "95.72500000000001\n",
      "\n",
      "selected_comp: 45\n",
      "accuracy on test set:\n",
      "95.775\n",
      "\n",
      "selected_comp: 46\n",
      "accuracy on test set:\n",
      "95.825\n",
      "\n",
      "selected_comp: 47\n",
      "accuracy on test set:\n",
      "95.825\n",
      "\n",
      "selected_comp: 48\n",
      "accuracy on test set:\n",
      "95.825\n",
      "\n",
      "selected_comp: 49\n",
      "accuracy on test set:\n",
      "95.775\n",
      "\n",
      "selected_comp: 50\n",
      "accuracy on test set:\n",
      "95.825\n",
      "\n",
      "selected_comp: 51\n",
      "accuracy on test set:\n",
      "95.825\n",
      "\n",
      "selected_comp: 52\n",
      "accuracy on test set:\n",
      "95.85000000000001\n",
      "\n",
      "selected_comp: 53\n",
      "accuracy on test set:\n",
      "95.89999999999999\n",
      "\n",
      "selected_comp: 54\n",
      "accuracy on test set:\n",
      "95.75\n",
      "\n",
      "selected_comp: 55\n",
      "accuracy on test set:\n",
      "95.775\n",
      "\n",
      "selected_comp: 56\n",
      "accuracy on test set:\n",
      "95.825\n",
      "\n",
      "selected_comp: 57\n",
      "accuracy on test set:\n",
      "95.8\n",
      "\n",
      "selected_comp: 58\n",
      "accuracy on test set:\n",
      "95.8\n",
      "\n",
      "selected_comp: 59\n",
      "accuracy on test set:\n",
      "95.825\n",
      "\n",
      "selected_comp: 60\n",
      "accuracy on test set:\n",
      "95.8\n",
      "\n",
      "selected_comp: 61\n",
      "accuracy on test set:\n",
      "95.75\n",
      "\n",
      "selected_comp: 62\n",
      "accuracy on test set:\n",
      "95.85000000000001\n",
      "\n",
      "selected_comp: 63\n",
      "accuracy on test set:\n",
      "95.85000000000001\n",
      "\n",
      "selected_comp: 64\n",
      "accuracy on test set:\n",
      "95.89999999999999\n",
      "\n",
      "selected_comp: 65\n",
      "accuracy on test set:\n",
      "95.89999999999999\n",
      "\n",
      "selected_comp: 66\n",
      "accuracy on test set:\n",
      "95.875\n",
      "\n",
      "selected_comp: 67\n",
      "accuracy on test set:\n",
      "95.85000000000001\n",
      "\n",
      "selected_comp: 68\n",
      "accuracy on test set:\n",
      "95.89999999999999\n",
      "\n",
      "selected_comp: 69\n",
      "accuracy on test set:\n",
      "95.85000000000001\n",
      "\n",
      "selected_comp: 70\n",
      "accuracy on test set:\n",
      "95.875\n",
      "\n",
      "selected_comp: 71\n",
      "accuracy on test set:\n",
      "95.775\n",
      "\n",
      "selected_comp: 72\n",
      "accuracy on test set:\n",
      "95.8\n",
      "\n",
      "selected_comp: 73\n",
      "accuracy on test set:\n",
      "95.8\n",
      "\n",
      "selected_comp: 74\n",
      "accuracy on test set:\n",
      "95.775\n",
      "\n",
      "selected_comp: 75\n",
      "accuracy on test set:\n",
      "95.825\n",
      "\n",
      "selected_comp: 76\n",
      "accuracy on test set:\n",
      "95.825\n",
      "\n",
      "selected_comp: 77\n",
      "accuracy on test set:\n",
      "95.825\n",
      "\n",
      "selected_comp: 78\n",
      "accuracy on test set:\n",
      "95.775\n",
      "\n"
     ]
    }
   ],
   "source": [
    "for components in range(1,79):\n",
    "    pca=PCA(n_components=components,random_state=42)\n",
    "    pca.fit(X_test_T)\n",
    "    X_train_pca=pca.transform(X_train_T)\n",
    "    X_test_pca=pca.transform(X_test_T)\n",
    "    print('selected_comp:',components)\n",
    "    run_randomforest(X_train_pca,X_test_pca,y_train,y_test)\n",
    "    print()"
   ]
  },
  {
   "cell_type": "code",
   "execution_count": null,
   "id": "6ca20672-14d8-4d01-936e-d36129fbf3bb",
   "metadata": {},
   "outputs": [],
   "source": []
  }
 ],
 "metadata": {
  "kernelspec": {
   "display_name": "Python 3 (ipykernel)",
   "language": "python",
   "name": "python3"
  },
  "language_info": {
   "codemirror_mode": {
    "name": "ipython",
    "version": 3
   },
   "file_extension": ".py",
   "mimetype": "text/x-python",
   "name": "python",
   "nbconvert_exporter": "python",
   "pygments_lexer": "ipython3",
   "version": "3.9.13"
  }
 },
 "nbformat": 4,
 "nbformat_minor": 5
}
