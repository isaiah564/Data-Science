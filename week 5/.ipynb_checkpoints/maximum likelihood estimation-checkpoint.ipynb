{
 "cells": [
  {
   "cell_type": "markdown",
   "id": "48028af1-ef76-4170-b940-45eb33d61785",
   "metadata": {},
   "source": [
    "### maximum likelihood estimation(MLE)"
   ]
  },
  {
   "cell_type": "markdown",
   "id": "d4f9266f-1c72-41d5-be1e-105126548f92",
   "metadata": {},
   "source": [
    "### maximum likelihood estimate is used to calculate the best way of fitting a mathe matical modelto some data"
   ]
  },
  {
   "cell_type": "code",
   "execution_count": 1,
   "id": "a3d38985-f3f1-482f-88dd-177f2d385993",
   "metadata": {},
   "outputs": [],
   "source": [
    "import numpy as np\n",
    "import math"
   ]
  },
  {
   "cell_type": "code",
   "execution_count": 6,
   "id": "6e810a24-97f3-4d95-ab30-1ea9f84a6d78",
   "metadata": {},
   "outputs": [],
   "source": [
    "x=np.array([[1,2,3,4,5,6]])\n",
    "n=x.shape[1]"
   ]
  },
  {
   "cell_type": "code",
   "execution_count": 7,
   "id": "05be87b0-de49-4020-9a89-2c9f8de2b01e",
   "metadata": {},
   "outputs": [
    {
     "name": "stdout",
     "output_type": "stream",
     "text": [
      "the sample data:\n",
      " [[1 2 3 4 5 6]]\n",
      "the number of data present in x is: 6\n"
     ]
    }
   ],
   "source": [
    "print('the sample data:\\n',x)\n",
    "print('the number of data present in x is:',n)"
   ]
  },
  {
   "cell_type": "code",
   "execution_count": 10,
   "id": "9d2d07cc-513c-4c7f-b533-92cac8fa236f",
   "metadata": {
    "collapsed": true,
    "jupyter": {
     "outputs_hidden": true
    },
    "tags": []
   },
   "outputs": [
    {
     "name": "stdout",
     "output_type": "stream",
     "text": [
      "the mean is : [[1 2 3 2 3]]\n",
      "the st.dev is: [[1 2 2 3 3]]\n",
      "Mu Sigma LogL\n",
      "1 1 -29.895\n",
      "2 2 -8.076\n",
      "3 2 -6.576\n",
      "2 3 -6.979\n",
      "3 3 -6.313\n"
     ]
    }
   ],
   "source": [
    "mu=np.array([[1,2,3,2,3]])\n",
    "sigma=np.array([[1,2,2,3,3]])\n",
    "print('the mean is :',mu)\n",
    "print('the st.dev is:',sigma)\n",
    "print('Mu Sigma LogL')\n",
    "for i in range(5):\n",
    "    logL=-np.sum(np.square(x-mu[0,i])/(2*np.square(sigma[0,i])))-(0.5*n*np.log10(2*math.pi))-n*np.log10(sigma[0,i])\n",
    "    print(mu[0,i],sigma[0,i],np.round(logL,3))\n",
    "    "
   ]
  },
  {
   "cell_type": "code",
   "execution_count": null,
   "id": "cb2320f4-9450-4272-ac4b-ba2e21e71176",
   "metadata": {},
   "outputs": [],
   "source": []
  },
  {
   "cell_type": "code",
   "execution_count": null,
   "id": "540df0c7-6cd8-4556-ade3-22b802b0af0f",
   "metadata": {},
   "outputs": [],
   "source": []
  }
 ],
 "metadata": {
  "kernelspec": {
   "display_name": "Python 3 (ipykernel)",
   "language": "python",
   "name": "python3"
  },
  "language_info": {
   "codemirror_mode": {
    "name": "ipython",
    "version": 3
   },
   "file_extension": ".py",
   "mimetype": "text/x-python",
   "name": "python",
   "nbconvert_exporter": "python",
   "pygments_lexer": "ipython3",
   "version": "3.9.13"
  }
 },
 "nbformat": 4,
 "nbformat_minor": 5
}
