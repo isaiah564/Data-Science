{
 "cells": [
  {
   "cell_type": "markdown",
   "id": "e39bf09a",
   "metadata": {},
   "source": [
    "# Analysis of Agent-Based Simulation"
   ]
  },
  {
   "cell_type": "code",
   "execution_count": 2,
   "id": "a7a1fd29",
   "metadata": {},
   "outputs": [],
   "source": [
    "# prepare for Python version 3x features and functions\n",
    "from __future__ import division, print_function\n",
    "\n",
    "# import packages into the namespace for this program\n",
    "import numpy as np\n",
    "import pandas as pd\n",
    "import statsmodels.api as sm"
   ]
  },
  {
   "cell_type": "code",
   "execution_count": 3,
   "id": "2061818e",
   "metadata": {},
   "outputs": [],
   "source": [
    "# -----------------------------\n",
    "# Simulation study background\n",
    "# -----------------------------\n",
    "# an agent-based simulation was run with NetLogo, a public-domain\n",
    "# program available from Northwestern University"
   ]
  },
  {
   "cell_type": "code",
   "execution_count": 21,
   "id": "10885219",
   "metadata": {},
   "outputs": [
    {
     "ename": "NameError",
     "evalue": "name 'ticks' is not defined",
     "output_type": "error",
     "traceback": [
      "\u001b[1;31m---------------------------------------------------------------------------\u001b[0m",
      "\u001b[1;31mNameError\u001b[0m                                 Traceback (most recent call last)",
      "Cell \u001b[1;32mIn[21], line 3\u001b[0m\n\u001b[0;32m      1\u001b[0m \u001b[38;5;66;03m# added one line of code to the Virus on a Network program:\u001b[39;00m\n\u001b[1;32m----> 3\u001b[0m \u001b[38;5;28;01mif\u001b[39;00m ticks \u001b[38;5;241m==\u001b[39m \u001b[38;5;241m200\u001b[39m:[stop]\n",
      "\u001b[1;31mNameError\u001b[0m: name 'ticks' is not defined"
     ]
    }
   ],
   "source": [
    "# added one line of code to the Virus on a Network program:\n",
    "\n",
    "if ticks == 200:[stop]"
   ]
  },
  {
   "cell_type": "code",
   "execution_count": 12,
   "id": "4a6c4665",
   "metadata": {},
   "outputs": [],
   "source": [
    "# this line was added to stop the simulation at exactly 200 ticks\n",
    "# the line was added to the <to go> code block as shown here:\n",
    "# \n",
    "# to go\n",
    "#   if all? turtles [not infected?]\n",
    "#     [ stop ]\n",
    "#   ask turtles\n",
    "#   [\n",
    "#      set virus-check-timer virus-check-timer + 1\n",
    "#      if virus-check-timer >= virus-check-frequency\n",
    "#        [ set virus-check-timer 0 ]\n",
    "#   ]\n",
    "#   if ticks = 200 [stop]\n",
    "#   spread-virus\n",
    "#   do-virus-checks\n",
    "#   tick\n",
    "# end\n",
    "\n",
    "# the simulation stops if no nodes/turtles were infected \n",
    "# or if the simulation reaches 200 ticks\n",
    "\n",
    "# To see the results of the simulation at 200 ticks, we route the simulation\n",
    "# world to a file using the GUI File/Export/Export World  \n",
    "# this gives an a comma-delimited text file of the status of the network \n",
    "# at 200 ticks. Specifically, we enter the following Excel command into \n",
    "# cell D1 of the results spreadsheet to compute the proportion of nodes \n",
    "# infected:   = COUNTIF(N14:N163, TRUE)/M10\n",
    "\n",
    "# NetLogo turtle infected status values were given in cells N14 through N163. \n",
    "# The detailed results of the simulation runs or trials are shown in the files \n",
    "# <trial01.csv> through <trial20.csv> under the directory NetLogo_results\n",
    "\n",
    "# this particular experiment, has average connectivity or node degree \n",
    "# at 3 or 5 and the susceptibility or virus spread chance to 5 or 10 percent. \n",
    "# we have a completely crossed 2 x 2 design with 5 replications of each cell\n",
    "# that is, we run each treatment combination 5 times, 20 independent \n",
    "# observations or trials. for each trial, we note the percentage of infected \n",
    "# nodes after 200 ticks---this is the response variable\n",
    "# results are summarized in the comma-delimited file <virus_results.csv>. "
   ]
  },
  {
   "cell_type": "markdown",
   "id": "2a25dd0c",
   "metadata": {},
   "source": [
    "# -----------------------------\n",
    "# Analysis of Deviance\n",
    "# -----------------------------"
   ]
  },
  {
   "cell_type": "code",
   "execution_count": 22,
   "id": "2f7dabf4",
   "metadata": {},
   "outputs": [],
   "source": [
    "# read in summary results and code the experimental factors\n",
    "virus = pd.read_csv(\"virus_results.csv\")\n"
   ]
  },
  {
   "cell_type": "code",
   "execution_count": 23,
   "id": "05c494fb",
   "metadata": {},
   "outputs": [
    {
     "name": "stdout",
     "output_type": "stream",
     "text": [
      "    trial  degree  spread  infected\n",
      "0       1       3       5    0.1133\n",
      "1       2       3       5    0.1533\n",
      "2       3       3       5    0.0867\n",
      "3       4       3       5    0.1400\n",
      "4       5       3       5    0.1133\n",
      "5       6       3      10    0.2000\n",
      "6       7       3      10    0.1067\n",
      "7       8       3      10    0.0867\n",
      "8       9       3      10    0.4133\n",
      "9      10       3      10    0.4267\n",
      "10     11       5       5    0.3067\n",
      "11     12       5       5    0.4867\n",
      "12     13       5       5    0.4867\n",
      "13     14       5       5    0.4667\n",
      "14     15       5       5    0.6800\n",
      "15     16       5      10    0.4733\n",
      "16     17       5      10    0.5133\n",
      "17     18       5      10    0.5400\n",
      "18     19       5      10    0.5933\n",
      "19     20       5      10    0.5667\n"
     ]
    }
   ],
   "source": [
    "# check input DataFrame\n",
    "print(virus)\n"
   ]
  },
  {
   "cell_type": "code",
   "execution_count": 24,
   "id": "8faf5d4a",
   "metadata": {},
   "outputs": [],
   "source": [
    "Intercept = np.array([1] * len(virus))"
   ]
  },
  {
   "cell_type": "code",
   "execution_count": 25,
   "id": "21c5da6d",
   "metadata": {},
   "outputs": [],
   "source": [
    "# use dictionary object for mapping to 0/1 binary codes\n",
    "degree_to_binary = {3 : 0, 5 : 1}\n",
    "Connectivity = np.array(virus['degree'].map(degree_to_binary))"
   ]
  },
  {
   "cell_type": "code",
   "execution_count": 26,
   "id": "018419b0",
   "metadata": {},
   "outputs": [],
   "source": [
    "# use dictionary object for mapping to 0/1 binary codes\n",
    "spread_to_binary = {5 : 0, 10 : 1}\n",
    "Susceptibility = np.array(virus['spread'].map(spread_to_binary))"
   ]
  },
  {
   "cell_type": "code",
   "execution_count": 27,
   "id": "47a9f2ae",
   "metadata": {},
   "outputs": [
    {
     "name": "stdout",
     "output_type": "stream",
     "text": [
      "[[1 0 0 0]\n",
      " [1 0 0 0]\n",
      " [1 0 0 0]\n",
      " [1 0 0 0]\n",
      " [1 0 0 0]\n",
      " [1 0 1 0]\n",
      " [1 0 1 0]\n",
      " [1 0 1 0]\n",
      " [1 0 1 0]\n",
      " [1 0 1 0]\n",
      " [1 1 0 0]\n",
      " [1 1 0 0]\n",
      " [1 1 0 0]\n",
      " [1 1 0 0]\n",
      " [1 1 0 0]\n",
      " [1 1 1 1]\n",
      " [1 1 1 1]\n",
      " [1 1 1 1]\n",
      " [1 1 1 1]\n",
      " [1 1 1 1]]\n"
     ]
    }
   ],
   "source": [
    "Connectivity_Susceptibility = Connectivity * Susceptibility\n",
    "\n",
    "Design_Matrix = np.array([Intercept, Connectivity, Susceptibility, Connectivity_Susceptibility]).T\n",
    "\n",
    "print(Design_Matrix)\n"
   ]
  },
  {
   "cell_type": "code",
   "execution_count": 28,
   "id": "85498f83",
   "metadata": {},
   "outputs": [],
   "source": [
    "Market_Share = np.array(virus['infected'])"
   ]
  },
  {
   "cell_type": "code",
   "execution_count": 29,
   "id": "a6369457",
   "metadata": {},
   "outputs": [
    {
     "name": "stdout",
     "output_type": "stream",
     "text": [
      "                 Generalized Linear Model Regression Results                  \n",
      "==============================================================================\n",
      "Dep. Variable:                      y   No. Observations:                   20\n",
      "Model:                            GLM   Df Residuals:                       16\n",
      "Model Family:                Binomial   Df Model:                            3\n",
      "Link Function:                  Logit   Scale:                          1.0000\n",
      "Method:                          IRLS   Log-Likelihood:                -7.9002\n",
      "Date:                Mon, 24 Jul 2023   Deviance:                      0.94434\n",
      "Time:                        21:14:49   Pearson chi2:                    0.920\n",
      "No. Iterations:                     5   Pseudo R-squ. (CS):             0.1275\n",
      "Covariance Type:            nonrobust                                         \n",
      "==============================================================================\n",
      "                 coef    std err          z      P>|z|      [0.025      0.975]\n",
      "------------------------------------------------------------------------------\n",
      "const         -1.9800      1.370     -1.446      0.148      -4.665       0.705\n",
      "x1             1.9214      1.636      1.174      0.240      -1.285       5.128\n",
      "x2             0.8636      1.718      0.503      0.615      -2.504       4.231\n",
      "x3            -0.6555      2.135     -0.307      0.759      -4.840       3.529\n",
      "==============================================================================\n"
     ]
    }
   ],
   "source": [
    "# generalized linear model for a response variable that is a proportion\n",
    "glm_binom = sm.GLM(Market_Share, Design_Matrix, family=sm.families.Binomial())\n",
    "res = glm_binom.fit()\n",
    "print(res.summary())"
   ]
  }
 ],
 "metadata": {
  "kernelspec": {
   "display_name": "Python 3 (ipykernel)",
   "language": "python",
   "name": "python3"
  },
  "language_info": {
   "codemirror_mode": {
    "name": "ipython",
    "version": 3
   },
   "file_extension": ".py",
   "mimetype": "text/x-python",
   "name": "python",
   "nbconvert_exporter": "python",
   "pygments_lexer": "ipython3",
   "version": "3.10.9"
  }
 },
 "nbformat": 4,
 "nbformat_minor": 5
}
