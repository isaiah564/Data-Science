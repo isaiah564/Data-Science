{
 "cells": [
  {
   "cell_type": "markdown",
   "id": "a16f02c7-cd9d-430d-8eaa-2205f54dc540",
   "metadata": {},
   "source": [
    "## import relevant libaries"
   ]
  },
  {
   "cell_type": "code",
   "execution_count": 3,
   "id": "1f51cd15-ec03-4cfd-bd89-be538f068a18",
   "metadata": {},
   "outputs": [],
   "source": [
    "import numpy as np\n",
    "import pandas as pd\n",
    "import statsmodels.api as sm\n",
    "import matplotlib.pyplot as plt\n",
    "import seaborn as sns\n",
    "import math\n",
    "sns.set()"
   ]
  },
  {
   "cell_type": "markdown",
   "id": "53963d89-8630-4852-9374-74130df89edc",
   "metadata": {},
   "source": [
    "### load the necessary library"
   ]
  },
  {
   "cell_type": "code",
   "execution_count": null,
   "id": "244ccd97-72bf-4d24-9b9e-d232f939aa92",
   "metadata": {},
   "outputs": [],
   "source": [
    "titanic=pd.read_csv('"
   ]
  }
 ],
 "metadata": {
  "kernelspec": {
   "display_name": "Python 3 (ipykernel)",
   "language": "python",
   "name": "python3"
  },
  "language_info": {
   "codemirror_mode": {
    "name": "ipython",
    "version": 3
   },
   "file_extension": ".py",
   "mimetype": "text/x-python",
   "name": "python",
   "nbconvert_exporter": "python",
   "pygments_lexer": "ipython3",
   "version": "3.9.13"
  }
 },
 "nbformat": 4,
 "nbformat_minor": 5
}
